{
 "cells": [
  {
   "cell_type": "markdown",
   "metadata": {},
   "source": [
    "# GA Data Science 18 (DAT18) - Lab4"
   ]
  },
  {
   "cell_type": "markdown",
   "metadata": {},
   "source": [
    "## Lab goals\n",
    "\n",
    "- Simple APIs with Python\n",
    "- Kimono Labs: an external tool for aquiring data"
   ]
  },
  {
   "cell_type": "code",
   "execution_count": 2,
   "metadata": {
    "collapsed": true
   },
   "outputs": [],
   "source": [
    "# Imports at the top\n",
    "import json\n",
    "import urllib\n",
    "import pandas as pd\n",
    "\n",
    "import requests  ## What we use to read from a URL -- when you read a webpage?\n",
    "import json\n"
   ]
  },
  {
   "cell_type": "markdown",
   "metadata": {},
   "source": [
    "## Using Python APIs"
   ]
  },
  {
   "cell_type": "markdown",
   "metadata": {},
   "source": [
    "### Either Use Sheetsu or an API you've found\n",
    "Sheetsu: Turning Google Docs into APIs/\n",
    "https://sheetsu.com/"
   ]
  },
  {
   "cell_type": "markdown",
   "metadata": {
    "collapsed": true
   },
   "source": [
    "### Using Sheetsu\n",
    "I've created a GoogleDoc with wine data\n",
    "\n",
    "https://docs.google.com/spreadsheets/d/1_U-DHIrBXN8A1e3NbyOIJRORge2udmmaa8qS9mKddWo/edit#gid=0 \n",
    "https://sheetsu.com/apis/79656330"
   ]
  },
  {
   "cell_type": "code",
   "execution_count": 3,
   "metadata": {
    "collapsed": true
   },
   "outputs": [],
   "source": [
    "# You can either post or get info from this API\n",
    "# using the /column/Name you can pull only specfic subsets of the data\n",
    "api_base_url = 'https://sheetsu.com/apis/79656330'\n",
    "api_column = '/column/Name'  ## Name is a column in the spreadsheet, but it could be called anything\n"
   ]
  },
  {
   "cell_type": "markdown",
   "metadata": {},
   "source": [
    "##### Reading Data from an API datafeed"
   ]
  },
  {
   "cell_type": "code",
   "execution_count": 4,
   "metadata": {
    "collapsed": false
   },
   "outputs": [
    {
     "data": {
      "text/plain": [
       "u'{\"status\":200,\"success\":true,\"result\":[{\"Color\":\"W\",\"Region\":\"Portugal\",\"Country\":\"Portugal\",\"Vintage\":\"2013\",\"Vinyard\":\"Vinho Verde\",\"Name\":\"\",\"Grape\":\"\",\"Consumed In\":\"2015\",\"Score\":\"4\",\"Price\":\"\"},{\"Color\":\"W\",\"Region\":\"France\",\"Country\":\"France\",\"Vintage\":\"2013\",\"Vinyard\":\"Peyruchet\",\"Name\":\"\",\"Grape\":\"\",\"Consumed In\":\"2015\",\"Score\":\"3\",\"Price\":\"17.8\"},{\"Color\":\"W\",\"Region\":\"Oregon\",\"Country\":\"Oregon\",\"Vintage\":\"2013\",\"Vinyard\":\"Abacela\",\"Name\":\"\",\"Grape\":\"\",\"Consumed In\":\"2015\",\"Score\":\"3\",\"Price\":\"20\"},{\"Color\":\"W\",\"Region\":\"Spain\",\"Country\":\"Spain\",\"Vintage\":\"2012\",\"Vinyard\":\"Ochoa\",\"Name\":\"\",\"Grape\":\"chardonay\",\"Consumed In\":\"2015\",\"Score\":\"2.5\",\"Price\":\"7\"},{\"Color\":\"R\",\"Region\":\"\",\"Country\":\"US\",\"Vintage\":\"2012\",\"Vinyard\":\"Heartland\",\"Name\":\"Spice Trader\",\"Grape\":\"chiraz, cab\",\"Consumed In\":\"2015\",\"Score\":\"3\",\"Price\":\"6\"},{\"Color\":\"R\",\"Region\":\"California\",\"Country\":\"US\",\"Vintage\":\"2012\",\"Vinyard\":\"Crow Canyon\",\"Name\":\"\",\"Grape\":\"cab\",\"Consumed In\":\"2015\",\"Score\":\"3.5\",\"Price\":\"13\"},{\"Color\":\"R\",\"Region\":\"Oregon\",\"Country\":\"US\",\"Vintage\":\"2013\",\"Vinyard\":\"Abacela\",\"Name\":\"#14\",\"Grape\":\"\",\"Consumed In\":\"2015\",\"Score\":\"2.5\",\"Price\":\"21\"},{\"Color\":\"R\",\"Region\":\"Bordeaux\",\"Country\":\"France\",\"Vintage\":\"2012\",\"Vinyard\":\"David Beaulieu\",\"Name\":\"\",\"Grape\":\"merlot, cab\",\"Consumed In\":\"2015\",\"Score\":\"3.5\",\"Price\":\"12\"},{\"Color\":\"R\",\"Region\":\"Medoc\",\"Country\":\"France\",\"Vintage\":\"2011\",\"Vinyard\":\"Chantemerle\",\"Name\":\"\",\"Grape\":\"merlot, cab\",\"Consumed In\":\"2015\",\"Score\":\"3.5\",\"Price\":\"11.99\"},{\"Color\":\"R\",\"Region\":\"Washington\",\"Country\":\"US\",\"Vintage\":\"2011\",\"Vinyard\":\"Hyatt\",\"Name\":\"\",\"Grape\":\"merlot\",\"Consumed In\":\"2015\",\"Score\":\"4\",\"Price\":\"13\"},{\"Color\":\"R\",\"Region\":\"Tuscany\",\"Country\":\"Italy\",\"Vintage\":\"2012\",\"Vinyard\":\"Rosso Dei Poggi\",\"Name\":\"Rosso Dei Poggi\",\"Grape\":\"sangiovese\",\"Consumed In\":\"2015\",\"Score\":\"3\",\"Price\":\"12\"},{\"Color\":\"R\",\"Region\":\"Tuscany\",\"Country\":\"\",\"Vintage\":\"2013\",\"Vinyard\":\"Orizzonti\",\"Name\":\"Montepulciano D\\'Abruzzo\",\"Grape\":\"\",\"Consumed In\":\"2015\",\"Score\":\"4.5\",\"Price\":\"22\"},{\"Color\":\"R\",\"Region\":\"Oregon\",\"Country\":\"US\",\"Vintage\":\"2010\",\"Vinyard\":\"Abacelo\",\"Name\":\"\",\"Grape\":\"chiraz\",\"Consumed In\":\"2015\",\"Score\":\"3.5\",\"Price\":\"7\"},{\"Color\":\"R\",\"Region\":\"Tuscany\",\"Country\":\"Italy\",\"Vintage\":\"2012\",\"Vinyard\":\"Ridolfi\",\"Name\":\"Rosso Di Montalcino\",\"Grape\":\"sangiovese\",\"Consumed In\":\"2015\",\"Score\":\"3.5\",\"Price\":\"15\"},{\"Color\":\"W\",\"Region\":\"Loire\",\"Country\":\"France\",\"Vintage\":\"2012\",\"Vinyard\":\"Celestin Blobdeau\",\"Name\":\"Sancerre Cuvee Des Moulins Bales\",\"Grape\":\"sauvignon blanc\",\"Consumed In\":\"2013\",\"Score\":\"3\",\"Price\":\"12\"},{\"Color\":\"R\",\"Region\":\"Nappa\",\"Country\":\"US\",\"Vintage\":\"2012\",\"Vinyard\":\"Belle Glos\",\"Name\":\"Meiomi\",\"Grape\":\"pinot noir\",\"Consumed In\":\"2013\",\"Score\":\"3\",\"Price\":\"13\"},{\"Color\":\"R\",\"Region\":\"France\",\"Country\":\"France\",\"Vintage\":\"2012\",\"Vinyard\":\"Puech-Haut\",\"Name\":\"Saint Drezery Prestige\",\"Grape\":\"\",\"Consumed In\":\"2013\",\"Score\":\"3\",\"Price\":\"13\"},{\"Color\":\"R\",\"Region\":\"France\",\"Country\":\"France\",\"Vintage\":\"2011\",\"Vinyard\":\"Puech-Haut\",\"Name\":\"Saint Drezery Prestige\",\"Grape\":\"\",\"Consumed In\":\"2013\",\"Score\":\"2\",\"Price\":\"14\"},{\"Color\":\"W\",\"Region\":\"Nappa\",\"Country\":\"US\",\"Vintage\":\"2012\",\"Vinyard\":\"Honig\",\"Name\":\"Sauvignon Blanc\",\"Grape\":\"sauvignon blanc\",\"Consumed In\":\"2014\",\"Score\":\"4\",\"Price\":\"14.5\"},{\"Color\":\"W\",\"Region\":\"Nappa\",\"Country\":\"US\",\"Vintage\":\"2012\",\"Vinyard\":\"Provenance\",\"Name\":\"Uppercut North Coast\",\"Grape\":\"sauvignon blanc\",\"Consumed In\":\"2014\",\"Score\":\"3\",\"Price\":\"11\"},{\"Color\":\"R\",\"Region\":\"Sicily\",\"Country\":\"Italy\",\"Vintage\":\"2011\",\"Vinyard\":\"Baglio Di Pianetto\",\"Name\":\"Nero d\\'Avola\",\"Grape\":\"\",\"Consumed In\":\"2014\",\"Score\":\"\",\"Price\":\"\"},{\"Color\":\"P\",\"Region\":\"Truro\",\"Country\":\"US\",\"Vintage\":\"2013\",\"Vinyard\":\"Truro Vineyards\",\"Name\":\"Cape Blush\",\"Grape\":\"\",\"Consumed In\":\"2014\",\"Score\":\"4\",\"Price\":\"10\"},{\"Color\":\"W\",\"Region\":\"Truro\",\"Country\":\"US\",\"Vintage\":\"2013\",\"Vinyard\":\"Truro Vineyards\",\"Name\":\"Pinot Grigio\",\"Grape\":\"pinot griogio\",\"Consumed In\":\"2014\",\"Score\":\"3\",\"Price\":\"10\"},{\"Color\":\"R\",\"Region\":\"Provence\",\"Country\":\"France\",\"Vintage\":\"2013\",\"Vinyard\":\"Chateau de la Clapiere\",\"Name\":\"Cru Classe\",\"Grape\":\"\",\"Consumed In\":\"2014\",\"Score\":\"3.5\",\"Price\":\"\"},{\"Color\":\"W\",\"Region\":\"Bordeaux\",\"Country\":\"France\",\"Vintage\":\"2013\",\"Vinyard\":\"Domaine du Claouset\",\"Name\":\"Domaine du Claouset\",\"Grape\":\"cabernet sauvignon\",\"Consumed In\":\"2015\",\"Score\":\"3\",\"Price\":\"\"},{\"Color\":\"W\",\"Region\":\"Napa\",\"Country\":\"\",\"Vintage\":\"2012\",\"Vinyard\":\"Two Angels\",\"Name\":\"Sauvignon Blanc\",\"Grape\":\"sauvignon blanc\",\"Consumed In\":\"2015\",\"Score\":\"3.5\",\"Price\":\"\"},{\"Color\":\"W\",\"Region\":\"Portugal\",\"Country\":\"Portugal\",\"Vintage\":\"2013\",\"Vinyard\":\"Mapreco\",\"Name\":\"Vinho Verde\",\"Grape\":\"\",\"Consumed In\":\"2015\",\"Score\":\"3.5\",\"Price\":\"\"},{\"Color\":\"W\",\"Region\":\"Burgundy\",\"Country\":\"France\",\"Vintage\":\"2012\",\"Vinyard\":\"Vaillons\",\"Name\":\"Vincent Dampt\",\"Grape\":\"Chablis, Vincent Dampt, Vaillons 1er (Burgundy, France) 2012 W/ Limestone taste\",\"Consumed In\":\"2015\",\"Score\":\"4\",\"Price\":\"35\"},{\"Color\":\"W\",\"Region\":\"Rias Baixas\",\"Country\":\"Spain\",\"Vintage\":\"2012\",\"Vinyard\":\"Granbazan\",\"Name\":\"Albarino\",\"Grape\":\"Albarino, Granbazan (Rias Baixas) 2012\",\"Consumed In\":\"2015\",\"Score\":\"4\",\"Price\":\"15\"},{\"Color\":\"R\",\"Region\":\"CA\",\"Country\":\"US\",\"Vintage\":\"1973\",\"Vinyard\":\"\",\"Name\":\"Dylans Wine\",\"Grape\":\"\",\"Consumed In\":\"2015\",\"Score\":\"10\",\"Price\":\"200\"},{\"Color\":\"R\",\"Region\":\"CA\",\"Country\":\"US\",\"Vintage\":\"1973\",\"Vinyard\":\"\",\"Name\":\"Dylans Wine\",\"Grape\":\"\",\"Consumed In\":\"2015\",\"Score\":\"10\",\"Price\":\"200\"},{\"Color\":\"R\",\"Region\":\"CA\",\"Country\":\"US\",\"Vintage\":\"1973\",\"Vinyard\":\"\",\"Name\":\"Dylans Wine\",\"Grape\":\"\",\"Consumed In\":\"2015\",\"Score\":\"10\",\"Price\":\"200\"},{\"Color\":\"R\",\"Region\":\"CA\",\"Country\":\"US\",\"Vintage\":\"1973\",\"Vinyard\":\"\",\"Name\":\"Dylans Wine\",\"Grape\":\"\",\"Consumed In\":\"2015\",\"Score\":\"10\",\"Price\":\"200\"},{\"Color\":\"R\",\"Region\":\"CA\",\"Country\":\"US\",\"Vintage\":\"1973\",\"Vinyard\":\"\",\"Name\":\"Dylans Wine\",\"Grape\":\"\",\"Consumed In\":\"2015\",\"Score\":\"10\",\"Price\":\"200\"},{\"Color\":\"R\",\"Region\":\"CA\",\"Country\":\"US\",\"Vintage\":\"1973\",\"Vinyard\":\"\",\"Name\":\"Dylans Wine\",\"Grape\":\"\",\"Consumed In\":\"2015\",\"Score\":\"10\",\"Price\":\"200\"}]}'"
      ]
     },
     "execution_count": 4,
     "metadata": {},
     "output_type": "execute_result"
    }
   ],
   "source": [
    "# What kind of data is this returning?\n",
    "api_response = requests.get(api_base_url)\n",
    "api_response.text"
   ]
  },
  {
   "cell_type": "code",
   "execution_count": 5,
   "metadata": {
    "collapsed": false
   },
   "outputs": [
    {
     "data": {
      "text/plain": [
       "u'{\"status\":200,\"success\":true,\"result\":[\"\",\"\",\"\",\"\",\"Spice Trader\",\"\",\"#14\",\"\",\"\",\"\",\"Rosso Dei Poggi\",\"Montepulciano D\\'Abruzzo\",\"\",\"Rosso Di Montalcino\",\"Sancerre Cuvee Des Moulins Bales\",\"Meiomi\",\"Saint Drezery Prestige\",\"Saint Drezery Prestige\",\"Sauvignon Blanc\",\"Uppercut North Coast\",\"Nero d\\'Avola\",\"Cape Blush\",\"Pinot Grigio\",\"Cru Classe\",\"Domaine du Claouset\",\"Sauvignon Blanc\",\"Vinho Verde\",\"Vincent Dampt\",\"Albarino\",\"Dylans Wine\",\"Dylans Wine\",\"Dylans Wine\",\"Dylans Wine\",\"Dylans Wine\",\"Dylans Wine\",\"Dylans Wine\"]}'"
      ]
     },
     "execution_count": 5,
     "metadata": {},
     "output_type": "execute_result"
    }
   ],
   "source": [
    "# What kind of data is this returning?  JSON\n",
    "api_column_url = api_base_url + api_column\n",
    "column_response = requests.get(api_column_url)\n",
    "column_response.text"
   ]
  },
  {
   "cell_type": "markdown",
   "metadata": {},
   "source": [
    "#### Reading JSON"
   ]
  },
  {
   "cell_type": "code",
   "execution_count": 6,
   "metadata": {
    "collapsed": false
   },
   "outputs": [],
   "source": [
    "reponse_dict = json.loads(api_response.text)  ## Makes the json file into a dictionary with a large list in it \n",
    "## that contains dictionaries"
   ]
  },
  {
   "cell_type": "markdown",
   "metadata": {},
   "source": [
    "#### What is the response of an API and what does it mean??"
   ]
  },
  {
   "cell_type": "code",
   "execution_count": 7,
   "metadata": {
    "collapsed": false
   },
   "outputs": [
    {
     "data": {
      "text/plain": [
       "[u'status', u'result', u'success']"
      ]
     },
     "execution_count": 7,
     "metadata": {},
     "output_type": "execute_result"
    }
   ],
   "source": [
    "# What data was returned?  A dictionary\n",
    "reponse_dict.keys()"
   ]
  },
  {
   "cell_type": "code",
   "execution_count": 8,
   "metadata": {
    "collapsed": false
   },
   "outputs": [
    {
     "data": {
      "text/plain": [
       "200"
      ]
     },
     "execution_count": 8,
     "metadata": {},
     "output_type": "execute_result"
    }
   ],
   "source": [
    "reponse_dict['status']"
   ]
  },
  {
   "cell_type": "markdown",
   "metadata": {},
   "source": [
    "#### Lets read the data into a DataFrame!"
   ]
  },
  {
   "cell_type": "code",
   "execution_count": 9,
   "metadata": {
    "collapsed": false
   },
   "outputs": [
    {
     "data": {
      "text/html": [
       "<div>\n",
       "<table border=\"1\" class=\"dataframe\">\n",
       "  <thead>\n",
       "    <tr style=\"text-align: right;\">\n",
       "      <th></th>\n",
       "      <th>Color</th>\n",
       "      <th>Consumed In</th>\n",
       "      <th>Country</th>\n",
       "      <th>Grape</th>\n",
       "      <th>Name</th>\n",
       "      <th>Price</th>\n",
       "      <th>Region</th>\n",
       "      <th>Score</th>\n",
       "      <th>Vintage</th>\n",
       "      <th>Vinyard</th>\n",
       "    </tr>\n",
       "  </thead>\n",
       "  <tbody>\n",
       "    <tr>\n",
       "      <th>0</th>\n",
       "      <td>W</td>\n",
       "      <td>2015</td>\n",
       "      <td>Portugal</td>\n",
       "      <td></td>\n",
       "      <td></td>\n",
       "      <td></td>\n",
       "      <td>Portugal</td>\n",
       "      <td>4</td>\n",
       "      <td>2013</td>\n",
       "      <td>Vinho Verde</td>\n",
       "    </tr>\n",
       "    <tr>\n",
       "      <th>1</th>\n",
       "      <td>W</td>\n",
       "      <td>2015</td>\n",
       "      <td>France</td>\n",
       "      <td></td>\n",
       "      <td></td>\n",
       "      <td>17.8</td>\n",
       "      <td>France</td>\n",
       "      <td>3</td>\n",
       "      <td>2013</td>\n",
       "      <td>Peyruchet</td>\n",
       "    </tr>\n",
       "    <tr>\n",
       "      <th>2</th>\n",
       "      <td>W</td>\n",
       "      <td>2015</td>\n",
       "      <td>Oregon</td>\n",
       "      <td></td>\n",
       "      <td></td>\n",
       "      <td>20</td>\n",
       "      <td>Oregon</td>\n",
       "      <td>3</td>\n",
       "      <td>2013</td>\n",
       "      <td>Abacela</td>\n",
       "    </tr>\n",
       "    <tr>\n",
       "      <th>3</th>\n",
       "      <td>W</td>\n",
       "      <td>2015</td>\n",
       "      <td>Spain</td>\n",
       "      <td>chardonay</td>\n",
       "      <td></td>\n",
       "      <td>7</td>\n",
       "      <td>Spain</td>\n",
       "      <td>2.5</td>\n",
       "      <td>2012</td>\n",
       "      <td>Ochoa</td>\n",
       "    </tr>\n",
       "    <tr>\n",
       "      <th>4</th>\n",
       "      <td>R</td>\n",
       "      <td>2015</td>\n",
       "      <td>US</td>\n",
       "      <td>chiraz, cab</td>\n",
       "      <td>Spice Trader</td>\n",
       "      <td>6</td>\n",
       "      <td></td>\n",
       "      <td>3</td>\n",
       "      <td>2012</td>\n",
       "      <td>Heartland</td>\n",
       "    </tr>\n",
       "  </tbody>\n",
       "</table>\n",
       "</div>"
      ],
      "text/plain": [
       "  Color Consumed In   Country        Grape          Name Price    Region  \\\n",
       "0     W        2015  Portugal                                   Portugal   \n",
       "1     W        2015    France                             17.8    France   \n",
       "2     W        2015    Oregon                               20    Oregon   \n",
       "3     W        2015     Spain    chardonay                   7     Spain   \n",
       "4     R        2015        US  chiraz, cab  Spice Trader     6             \n",
       "\n",
       "  Score Vintage      Vinyard  \n",
       "0     4    2013  Vinho Verde  \n",
       "1     3    2013    Peyruchet  \n",
       "2     3    2013      Abacela  \n",
       "3   2.5    2012        Ochoa  \n",
       "4     3    2012    Heartland  "
      ]
     },
     "execution_count": 9,
     "metadata": {},
     "output_type": "execute_result"
    }
   ],
   "source": [
    "wine_df = pd.DataFrame(reponse_dict['result'])\n",
    "wine_df.head()"
   ]
  },
  {
   "cell_type": "code",
   "execution_count": 10,
   "metadata": {
    "collapsed": false
   },
   "outputs": [
    {
     "ename": "AttributeError",
     "evalue": "'DataFrame' object has no attribute 'json'",
     "output_type": "error",
     "traceback": [
      "\u001b[0;31m---------------------------------------------------------------------------\u001b[0m",
      "\u001b[0;31mAttributeError\u001b[0m                            Traceback (most recent call last)",
      "\u001b[0;32m<ipython-input-10-1ad74e88a635>\u001b[0m in \u001b[0;36m<module>\u001b[0;34m()\u001b[0m\n\u001b[0;32m----> 1\u001b[0;31m \u001b[0mwine_df\u001b[0m\u001b[0;34m.\u001b[0m\u001b[0mjson\u001b[0m  \u001b[0;31m## What do I need to add here?\u001b[0m\u001b[0;34m\u001b[0m\u001b[0m\n\u001b[0m",
      "\u001b[0;32m/Users/meredithnachman/anaconda/lib/python2.7/site-packages/pandas/core/generic.pyc\u001b[0m in \u001b[0;36m__getattr__\u001b[0;34m(self, name)\u001b[0m\n\u001b[1;32m   2148\u001b[0m                 \u001b[0;32mreturn\u001b[0m \u001b[0mself\u001b[0m\u001b[0;34m[\u001b[0m\u001b[0mname\u001b[0m\u001b[0;34m]\u001b[0m\u001b[0;34m\u001b[0m\u001b[0m\n\u001b[1;32m   2149\u001b[0m             raise AttributeError(\"'%s' object has no attribute '%s'\" %\n\u001b[0;32m-> 2150\u001b[0;31m                                  (type(self).__name__, name))\n\u001b[0m\u001b[1;32m   2151\u001b[0m \u001b[0;34m\u001b[0m\u001b[0m\n\u001b[1;32m   2152\u001b[0m     \u001b[0;32mdef\u001b[0m \u001b[0m__setattr__\u001b[0m\u001b[0;34m(\u001b[0m\u001b[0mself\u001b[0m\u001b[0;34m,\u001b[0m \u001b[0mname\u001b[0m\u001b[0;34m,\u001b[0m \u001b[0mvalue\u001b[0m\u001b[0;34m)\u001b[0m\u001b[0;34m:\u001b[0m\u001b[0;34m\u001b[0m\u001b[0m\n",
      "\u001b[0;31mAttributeError\u001b[0m: 'DataFrame' object has no attribute 'json'"
     ]
    }
   ],
   "source": [
    "wine_df.json  ## What do I need to add here?  "
   ]
  },
  {
   "cell_type": "markdown",
   "metadata": {},
   "source": [
    "#### Pandas has great functions. We could just do it this way\n",
    "\n",
    "This sometimes works, but the data may need adjusting"
   ]
  },
  {
   "cell_type": "code",
   "execution_count": 11,
   "metadata": {
    "collapsed": false
   },
   "outputs": [
    {
     "data": {
      "text/html": [
       "<div>\n",
       "<table border=\"1\" class=\"dataframe\">\n",
       "  <thead>\n",
       "    <tr style=\"text-align: right;\">\n",
       "      <th></th>\n",
       "      <th>result</th>\n",
       "      <th>status</th>\n",
       "      <th>success</th>\n",
       "    </tr>\n",
       "  </thead>\n",
       "  <tbody>\n",
       "    <tr>\n",
       "      <th>0</th>\n",
       "      <td>{u'Grape': u'', u'Name': u'', u'Color': u'W', ...</td>\n",
       "      <td>200</td>\n",
       "      <td>True</td>\n",
       "    </tr>\n",
       "    <tr>\n",
       "      <th>1</th>\n",
       "      <td>{u'Grape': u'', u'Name': u'', u'Color': u'W', ...</td>\n",
       "      <td>200</td>\n",
       "      <td>True</td>\n",
       "    </tr>\n",
       "  </tbody>\n",
       "</table>\n",
       "</div>"
      ],
      "text/plain": [
       "                                              result  status success\n",
       "0  {u'Grape': u'', u'Name': u'', u'Color': u'W', ...     200    True\n",
       "1  {u'Grape': u'', u'Name': u'', u'Color': u'W', ...     200    True"
      ]
     },
     "execution_count": 11,
     "metadata": {},
     "output_type": "execute_result"
    }
   ],
   "source": [
    "pd.read_json(api_response.text).head(2)"
   ]
  },
  {
   "cell_type": "code",
   "execution_count": 12,
   "metadata": {
    "collapsed": false
   },
   "outputs": [
    {
     "data": {
      "text/html": [
       "<div>\n",
       "<table border=\"1\" class=\"dataframe\">\n",
       "  <thead>\n",
       "    <tr style=\"text-align: right;\">\n",
       "      <th></th>\n",
       "      <th>Color</th>\n",
       "      <th>Consumed In</th>\n",
       "      <th>Country</th>\n",
       "      <th>Grape</th>\n",
       "      <th>Name</th>\n",
       "      <th>Price</th>\n",
       "      <th>Region</th>\n",
       "      <th>Score</th>\n",
       "      <th>Vintage</th>\n",
       "      <th>Vinyard</th>\n",
       "    </tr>\n",
       "  </thead>\n",
       "  <tbody>\n",
       "    <tr>\n",
       "      <th>0</th>\n",
       "      <td>W</td>\n",
       "      <td>2015</td>\n",
       "      <td>Portugal</td>\n",
       "      <td></td>\n",
       "      <td></td>\n",
       "      <td></td>\n",
       "      <td>Portugal</td>\n",
       "      <td>4</td>\n",
       "      <td>2013</td>\n",
       "      <td>Vinho Verde</td>\n",
       "    </tr>\n",
       "    <tr>\n",
       "      <th>1</th>\n",
       "      <td>W</td>\n",
       "      <td>2015</td>\n",
       "      <td>France</td>\n",
       "      <td></td>\n",
       "      <td></td>\n",
       "      <td>17.8</td>\n",
       "      <td>France</td>\n",
       "      <td>3</td>\n",
       "      <td>2013</td>\n",
       "      <td>Peyruchet</td>\n",
       "    </tr>\n",
       "  </tbody>\n",
       "</table>\n",
       "</div>"
      ],
      "text/plain": [
       "  Color Consumed In   Country Grape Name Price    Region Score Vintage  \\\n",
       "0     W        2015  Portugal                   Portugal     4    2013   \n",
       "1     W        2015    France             17.8    France     3    2013   \n",
       "\n",
       "       Vinyard  \n",
       "0  Vinho Verde  \n",
       "1    Peyruchet  "
      ]
     },
     "execution_count": 12,
     "metadata": {},
     "output_type": "execute_result"
    }
   ],
   "source": [
    "wine_df = pd.DataFrame(list(pd.read_json(api_response.text).result.values))\n",
    "wine_df.head(2)"
   ]
  },
  {
   "cell_type": "code",
   "execution_count": 13,
   "metadata": {
    "collapsed": false
   },
   "outputs": [
    {
     "data": {
      "text/plain": [
       "'{\"Color\":{\"0\":\"W\",\"1\":\"W\",\"2\":\"W\",\"3\":\"W\",\"4\":\"R\",\"5\":\"R\",\"6\":\"R\",\"7\":\"R\",\"8\":\"R\",\"9\":\"R\",\"10\":\"R\",\"11\":\"R\",\"12\":\"R\",\"13\":\"R\",\"14\":\"W\",\"15\":\"R\",\"16\":\"R\",\"17\":\"R\",\"18\":\"W\",\"19\":\"W\",\"20\":\"R\",\"21\":\"P\",\"22\":\"W\",\"23\":\"R\",\"24\":\"W\",\"25\":\"W\",\"26\":\"W\",\"27\":\"W\",\"28\":\"W\",\"29\":\"R\",\"30\":\"R\",\"31\":\"R\",\"32\":\"R\",\"33\":\"R\",\"34\":\"R\"},\"Consumed In\":{\"0\":\"2015\",\"1\":\"2015\",\"2\":\"2015\",\"3\":\"2015\",\"4\":\"2015\",\"5\":\"2015\",\"6\":\"2015\",\"7\":\"2015\",\"8\":\"2015\",\"9\":\"2015\",\"10\":\"2015\",\"11\":\"2015\",\"12\":\"2015\",\"13\":\"2015\",\"14\":\"2013\",\"15\":\"2013\",\"16\":\"2013\",\"17\":\"2013\",\"18\":\"2014\",\"19\":\"2014\",\"20\":\"2014\",\"21\":\"2014\",\"22\":\"2014\",\"23\":\"2014\",\"24\":\"2015\",\"25\":\"2015\",\"26\":\"2015\",\"27\":\"2015\",\"28\":\"2015\",\"29\":\"2015\",\"30\":\"2015\",\"31\":\"2015\",\"32\":\"2015\",\"33\":\"2015\",\"34\":\"2015\"},\"Country\":{\"0\":\"Portugal\",\"1\":\"France\",\"2\":\"Oregon\",\"3\":\"Spain\",\"4\":\"US\",\"5\":\"US\",\"6\":\"US\",\"7\":\"France\",\"8\":\"France\",\"9\":\"US\",\"10\":\"Italy\",\"11\":\"\",\"12\":\"US\",\"13\":\"Italy\",\"14\":\"France\",\"15\":\"US\",\"16\":\"France\",\"17\":\"France\",\"18\":\"US\",\"19\":\"US\",\"20\":\"Italy\",\"21\":\"US\",\"22\":\"US\",\"23\":\"France\",\"24\":\"France\",\"25\":\"\",\"26\":\"Portugal\",\"27\":\"France\",\"28\":\"Spain\",\"29\":\"US\",\"30\":\"US\",\"31\":\"US\",\"32\":\"US\",\"33\":\"US\",\"34\":\"US\"},\"Grape\":{\"0\":\"\",\"1\":\"\",\"2\":\"\",\"3\":\"chardonay\",\"4\":\"chiraz, cab\",\"5\":\"cab\",\"6\":\"\",\"7\":\"merlot, cab\",\"8\":\"merlot, cab\",\"9\":\"merlot\",\"10\":\"sangiovese\",\"11\":\"\",\"12\":\"chiraz\",\"13\":\"sangiovese\",\"14\":\"sauvignon blanc\",\"15\":\"pinot noir\",\"16\":\"\",\"17\":\"\",\"18\":\"sauvignon blanc\",\"19\":\"sauvignon blanc\",\"20\":\"\",\"21\":\"\",\"22\":\"pinot griogio\",\"23\":\"\",\"24\":\"cabernet sauvignon\",\"25\":\"sauvignon blanc\",\"26\":\"\",\"27\":\"Chablis, Vincent Dampt, Vaillons 1er (Burgundy, France) 2012 W\\\\/ Limestone taste\",\"28\":\"Albarino, Granbazan (Rias Baixas) 2012\",\"29\":\"\",\"30\":\"\",\"31\":\"\",\"32\":\"\",\"33\":\"\",\"34\":\"\"},\"Name\":{\"0\":\"\",\"1\":\"\",\"2\":\"\",\"3\":\"\",\"4\":\"Spice Trader\",\"5\":\"\",\"6\":\"#14\",\"7\":\"\",\"8\":\"\",\"9\":\"\",\"10\":\"Rosso Dei Poggi\",\"11\":\"Montepulciano D\\'Abruzzo\",\"12\":\"\",\"13\":\"Rosso Di Montalcino\",\"14\":\"Sancerre Cuvee Des Moulins Bales\",\"15\":\"Meiomi\",\"16\":\"Saint Drezery Prestige\",\"17\":\"Saint Drezery Prestige\",\"18\":\"Sauvignon Blanc\",\"19\":\"Uppercut North Coast\",\"20\":\"Nero d\\'Avola\",\"21\":\"Cape Blush\",\"22\":\"Pinot Grigio\",\"23\":\"Cru Classe\",\"24\":\"Domaine du Claouset\",\"25\":\"Sauvignon Blanc\",\"26\":\"Vinho Verde\",\"27\":\"Vincent Dampt\",\"28\":\"Albarino\",\"29\":\"Dylans Wine\",\"30\":\"Dylans Wine\",\"31\":\"Dylans Wine\",\"32\":\"Dylans Wine\",\"33\":\"Dylans Wine\",\"34\":\"Dylans Wine\"},\"Price\":{\"0\":\"\",\"1\":\"17.8\",\"2\":\"20\",\"3\":\"7\",\"4\":\"6\",\"5\":\"13\",\"6\":\"21\",\"7\":\"12\",\"8\":\"11.99\",\"9\":\"13\",\"10\":\"12\",\"11\":\"22\",\"12\":\"7\",\"13\":\"15\",\"14\":\"12\",\"15\":\"13\",\"16\":\"13\",\"17\":\"14\",\"18\":\"14.5\",\"19\":\"11\",\"20\":\"\",\"21\":\"10\",\"22\":\"10\",\"23\":\"\",\"24\":\"\",\"25\":\"\",\"26\":\"\",\"27\":\"35\",\"28\":\"15\",\"29\":\"200\",\"30\":\"200\",\"31\":\"200\",\"32\":\"200\",\"33\":\"200\",\"34\":\"200\"},\"Region\":{\"0\":\"Portugal\",\"1\":\"France\",\"2\":\"Oregon\",\"3\":\"Spain\",\"4\":\"\",\"5\":\"California\",\"6\":\"Oregon\",\"7\":\"Bordeaux\",\"8\":\"Medoc\",\"9\":\"Washington\",\"10\":\"Tuscany\",\"11\":\"Tuscany\",\"12\":\"Oregon\",\"13\":\"Tuscany\",\"14\":\"Loire\",\"15\":\"Nappa\",\"16\":\"France\",\"17\":\"France\",\"18\":\"Nappa\",\"19\":\"Nappa\",\"20\":\"Sicily\",\"21\":\"Truro\",\"22\":\"Truro\",\"23\":\"Provence\",\"24\":\"Bordeaux\",\"25\":\"Napa\",\"26\":\"Portugal\",\"27\":\"Burgundy\",\"28\":\"Rias Baixas\",\"29\":\"CA\",\"30\":\"CA\",\"31\":\"CA\",\"32\":\"CA\",\"33\":\"CA\",\"34\":\"CA\"},\"Score\":{\"0\":\"4\",\"1\":\"3\",\"2\":\"3\",\"3\":\"2.5\",\"4\":\"3\",\"5\":\"3.5\",\"6\":\"2.5\",\"7\":\"3.5\",\"8\":\"3.5\",\"9\":\"4\",\"10\":\"3\",\"11\":\"4.5\",\"12\":\"3.5\",\"13\":\"3.5\",\"14\":\"3\",\"15\":\"3\",\"16\":\"3\",\"17\":\"2\",\"18\":\"4\",\"19\":\"3\",\"20\":\"\",\"21\":\"4\",\"22\":\"3\",\"23\":\"3.5\",\"24\":\"3\",\"25\":\"3.5\",\"26\":\"3.5\",\"27\":\"4\",\"28\":\"4\",\"29\":\"10\",\"30\":\"10\",\"31\":\"10\",\"32\":\"10\",\"33\":\"10\",\"34\":\"10\"},\"Vintage\":{\"0\":\"2013\",\"1\":\"2013\",\"2\":\"2013\",\"3\":\"2012\",\"4\":\"2012\",\"5\":\"2012\",\"6\":\"2013\",\"7\":\"2012\",\"8\":\"2011\",\"9\":\"2011\",\"10\":\"2012\",\"11\":\"2013\",\"12\":\"2010\",\"13\":\"2012\",\"14\":\"2012\",\"15\":\"2012\",\"16\":\"2012\",\"17\":\"2011\",\"18\":\"2012\",\"19\":\"2012\",\"20\":\"2011\",\"21\":\"2013\",\"22\":\"2013\",\"23\":\"2013\",\"24\":\"2013\",\"25\":\"2012\",\"26\":\"2013\",\"27\":\"2012\",\"28\":\"2012\",\"29\":\"1973\",\"30\":\"1973\",\"31\":\"1973\",\"32\":\"1973\",\"33\":\"1973\",\"34\":\"1973\"},\"Vinyard\":{\"0\":\"Vinho Verde\",\"1\":\"Peyruchet\",\"2\":\"Abacela\",\"3\":\"Ochoa\",\"4\":\"Heartland\",\"5\":\"Crow Canyon\",\"6\":\"Abacela\",\"7\":\"David Beaulieu\",\"8\":\"Chantemerle\",\"9\":\"Hyatt\",\"10\":\"Rosso Dei Poggi\",\"11\":\"Orizzonti\",\"12\":\"Abacelo\",\"13\":\"Ridolfi\",\"14\":\"Celestin Blobdeau\",\"15\":\"Belle Glos\",\"16\":\"Puech-Haut\",\"17\":\"Puech-Haut\",\"18\":\"Honig\",\"19\":\"Provenance\",\"20\":\"Baglio Di Pianetto\",\"21\":\"Truro Vineyards\",\"22\":\"Truro Vineyards\",\"23\":\"Chateau de la Clapiere\",\"24\":\"Domaine du Claouset\",\"25\":\"Two Angels\",\"26\":\"Mapreco\",\"27\":\"Vaillons\",\"28\":\"Granbazan\",\"29\":\"\",\"30\":\"\",\"31\":\"\",\"32\":\"\",\"33\":\"\",\"34\":\"\"}}'"
      ]
     },
     "execution_count": 13,
     "metadata": {},
     "output_type": "execute_result"
    }
   ],
   "source": [
    "wine_df.to_json()  ## The default is by columns"
   ]
  },
  {
   "cell_type": "code",
   "execution_count": 14,
   "metadata": {
    "collapsed": false
   },
   "outputs": [
    {
     "data": {
      "text/plain": [
       "'[{\"Color\":\"W\",\"Consumed In\":\"2015\",\"Country\":\"Portugal\",\"Grape\":\"\",\"Name\":\"\",\"Price\":\"\",\"Region\":\"Portugal\",\"Score\":\"4\",\"Vintage\":\"2013\",\"Vinyard\":\"Vinho Verde\"},{\"Color\":\"W\",\"Consumed In\":\"2015\",\"Country\":\"France\",\"Grape\":\"\",\"Name\":\"\",\"Price\":\"17.8\",\"Region\":\"France\",\"Score\":\"3\",\"Vintage\":\"2013\",\"Vinyard\":\"Peyruchet\"},{\"Color\":\"W\",\"Consumed In\":\"2015\",\"Country\":\"Oregon\",\"Grape\":\"\",\"Name\":\"\",\"Price\":\"20\",\"Region\":\"Oregon\",\"Score\":\"3\",\"Vintage\":\"2013\",\"Vinyard\":\"Abacela\"},{\"Color\":\"W\",\"Consumed In\":\"2015\",\"Country\":\"Spain\",\"Grape\":\"chardonay\",\"Name\":\"\",\"Price\":\"7\",\"Region\":\"Spain\",\"Score\":\"2.5\",\"Vintage\":\"2012\",\"Vinyard\":\"Ochoa\"},{\"Color\":\"R\",\"Consumed In\":\"2015\",\"Country\":\"US\",\"Grape\":\"chiraz, cab\",\"Name\":\"Spice Trader\",\"Price\":\"6\",\"Region\":\"\",\"Score\":\"3\",\"Vintage\":\"2012\",\"Vinyard\":\"Heartland\"},{\"Color\":\"R\",\"Consumed In\":\"2015\",\"Country\":\"US\",\"Grape\":\"cab\",\"Name\":\"\",\"Price\":\"13\",\"Region\":\"California\",\"Score\":\"3.5\",\"Vintage\":\"2012\",\"Vinyard\":\"Crow Canyon\"},{\"Color\":\"R\",\"Consumed In\":\"2015\",\"Country\":\"US\",\"Grape\":\"\",\"Name\":\"#14\",\"Price\":\"21\",\"Region\":\"Oregon\",\"Score\":\"2.5\",\"Vintage\":\"2013\",\"Vinyard\":\"Abacela\"},{\"Color\":\"R\",\"Consumed In\":\"2015\",\"Country\":\"France\",\"Grape\":\"merlot, cab\",\"Name\":\"\",\"Price\":\"12\",\"Region\":\"Bordeaux\",\"Score\":\"3.5\",\"Vintage\":\"2012\",\"Vinyard\":\"David Beaulieu\"},{\"Color\":\"R\",\"Consumed In\":\"2015\",\"Country\":\"France\",\"Grape\":\"merlot, cab\",\"Name\":\"\",\"Price\":\"11.99\",\"Region\":\"Medoc\",\"Score\":\"3.5\",\"Vintage\":\"2011\",\"Vinyard\":\"Chantemerle\"},{\"Color\":\"R\",\"Consumed In\":\"2015\",\"Country\":\"US\",\"Grape\":\"merlot\",\"Name\":\"\",\"Price\":\"13\",\"Region\":\"Washington\",\"Score\":\"4\",\"Vintage\":\"2011\",\"Vinyard\":\"Hyatt\"},{\"Color\":\"R\",\"Consumed In\":\"2015\",\"Country\":\"Italy\",\"Grape\":\"sangiovese\",\"Name\":\"Rosso Dei Poggi\",\"Price\":\"12\",\"Region\":\"Tuscany\",\"Score\":\"3\",\"Vintage\":\"2012\",\"Vinyard\":\"Rosso Dei Poggi\"},{\"Color\":\"R\",\"Consumed In\":\"2015\",\"Country\":\"\",\"Grape\":\"\",\"Name\":\"Montepulciano D\\'Abruzzo\",\"Price\":\"22\",\"Region\":\"Tuscany\",\"Score\":\"4.5\",\"Vintage\":\"2013\",\"Vinyard\":\"Orizzonti\"},{\"Color\":\"R\",\"Consumed In\":\"2015\",\"Country\":\"US\",\"Grape\":\"chiraz\",\"Name\":\"\",\"Price\":\"7\",\"Region\":\"Oregon\",\"Score\":\"3.5\",\"Vintage\":\"2010\",\"Vinyard\":\"Abacelo\"},{\"Color\":\"R\",\"Consumed In\":\"2015\",\"Country\":\"Italy\",\"Grape\":\"sangiovese\",\"Name\":\"Rosso Di Montalcino\",\"Price\":\"15\",\"Region\":\"Tuscany\",\"Score\":\"3.5\",\"Vintage\":\"2012\",\"Vinyard\":\"Ridolfi\"},{\"Color\":\"W\",\"Consumed In\":\"2013\",\"Country\":\"France\",\"Grape\":\"sauvignon blanc\",\"Name\":\"Sancerre Cuvee Des Moulins Bales\",\"Price\":\"12\",\"Region\":\"Loire\",\"Score\":\"3\",\"Vintage\":\"2012\",\"Vinyard\":\"Celestin Blobdeau\"},{\"Color\":\"R\",\"Consumed In\":\"2013\",\"Country\":\"US\",\"Grape\":\"pinot noir\",\"Name\":\"Meiomi\",\"Price\":\"13\",\"Region\":\"Nappa\",\"Score\":\"3\",\"Vintage\":\"2012\",\"Vinyard\":\"Belle Glos\"},{\"Color\":\"R\",\"Consumed In\":\"2013\",\"Country\":\"France\",\"Grape\":\"\",\"Name\":\"Saint Drezery Prestige\",\"Price\":\"13\",\"Region\":\"France\",\"Score\":\"3\",\"Vintage\":\"2012\",\"Vinyard\":\"Puech-Haut\"},{\"Color\":\"R\",\"Consumed In\":\"2013\",\"Country\":\"France\",\"Grape\":\"\",\"Name\":\"Saint Drezery Prestige\",\"Price\":\"14\",\"Region\":\"France\",\"Score\":\"2\",\"Vintage\":\"2011\",\"Vinyard\":\"Puech-Haut\"},{\"Color\":\"W\",\"Consumed In\":\"2014\",\"Country\":\"US\",\"Grape\":\"sauvignon blanc\",\"Name\":\"Sauvignon Blanc\",\"Price\":\"14.5\",\"Region\":\"Nappa\",\"Score\":\"4\",\"Vintage\":\"2012\",\"Vinyard\":\"Honig\"},{\"Color\":\"W\",\"Consumed In\":\"2014\",\"Country\":\"US\",\"Grape\":\"sauvignon blanc\",\"Name\":\"Uppercut North Coast\",\"Price\":\"11\",\"Region\":\"Nappa\",\"Score\":\"3\",\"Vintage\":\"2012\",\"Vinyard\":\"Provenance\"},{\"Color\":\"R\",\"Consumed In\":\"2014\",\"Country\":\"Italy\",\"Grape\":\"\",\"Name\":\"Nero d\\'Avola\",\"Price\":\"\",\"Region\":\"Sicily\",\"Score\":\"\",\"Vintage\":\"2011\",\"Vinyard\":\"Baglio Di Pianetto\"},{\"Color\":\"P\",\"Consumed In\":\"2014\",\"Country\":\"US\",\"Grape\":\"\",\"Name\":\"Cape Blush\",\"Price\":\"10\",\"Region\":\"Truro\",\"Score\":\"4\",\"Vintage\":\"2013\",\"Vinyard\":\"Truro Vineyards\"},{\"Color\":\"W\",\"Consumed In\":\"2014\",\"Country\":\"US\",\"Grape\":\"pinot griogio\",\"Name\":\"Pinot Grigio\",\"Price\":\"10\",\"Region\":\"Truro\",\"Score\":\"3\",\"Vintage\":\"2013\",\"Vinyard\":\"Truro Vineyards\"},{\"Color\":\"R\",\"Consumed In\":\"2014\",\"Country\":\"France\",\"Grape\":\"\",\"Name\":\"Cru Classe\",\"Price\":\"\",\"Region\":\"Provence\",\"Score\":\"3.5\",\"Vintage\":\"2013\",\"Vinyard\":\"Chateau de la Clapiere\"},{\"Color\":\"W\",\"Consumed In\":\"2015\",\"Country\":\"France\",\"Grape\":\"cabernet sauvignon\",\"Name\":\"Domaine du Claouset\",\"Price\":\"\",\"Region\":\"Bordeaux\",\"Score\":\"3\",\"Vintage\":\"2013\",\"Vinyard\":\"Domaine du Claouset\"},{\"Color\":\"W\",\"Consumed In\":\"2015\",\"Country\":\"\",\"Grape\":\"sauvignon blanc\",\"Name\":\"Sauvignon Blanc\",\"Price\":\"\",\"Region\":\"Napa\",\"Score\":\"3.5\",\"Vintage\":\"2012\",\"Vinyard\":\"Two Angels\"},{\"Color\":\"W\",\"Consumed In\":\"2015\",\"Country\":\"Portugal\",\"Grape\":\"\",\"Name\":\"Vinho Verde\",\"Price\":\"\",\"Region\":\"Portugal\",\"Score\":\"3.5\",\"Vintage\":\"2013\",\"Vinyard\":\"Mapreco\"},{\"Color\":\"W\",\"Consumed In\":\"2015\",\"Country\":\"France\",\"Grape\":\"Chablis, Vincent Dampt, Vaillons 1er (Burgundy, France) 2012 W\\\\/ Limestone taste\",\"Name\":\"Vincent Dampt\",\"Price\":\"35\",\"Region\":\"Burgundy\",\"Score\":\"4\",\"Vintage\":\"2012\",\"Vinyard\":\"Vaillons\"},{\"Color\":\"W\",\"Consumed In\":\"2015\",\"Country\":\"Spain\",\"Grape\":\"Albarino, Granbazan (Rias Baixas) 2012\",\"Name\":\"Albarino\",\"Price\":\"15\",\"Region\":\"Rias Baixas\",\"Score\":\"4\",\"Vintage\":\"2012\",\"Vinyard\":\"Granbazan\"},{\"Color\":\"R\",\"Consumed In\":\"2015\",\"Country\":\"US\",\"Grape\":\"\",\"Name\":\"Dylans Wine\",\"Price\":\"200\",\"Region\":\"CA\",\"Score\":\"10\",\"Vintage\":\"1973\",\"Vinyard\":\"\"},{\"Color\":\"R\",\"Consumed In\":\"2015\",\"Country\":\"US\",\"Grape\":\"\",\"Name\":\"Dylans Wine\",\"Price\":\"200\",\"Region\":\"CA\",\"Score\":\"10\",\"Vintage\":\"1973\",\"Vinyard\":\"\"},{\"Color\":\"R\",\"Consumed In\":\"2015\",\"Country\":\"US\",\"Grape\":\"\",\"Name\":\"Dylans Wine\",\"Price\":\"200\",\"Region\":\"CA\",\"Score\":\"10\",\"Vintage\":\"1973\",\"Vinyard\":\"\"},{\"Color\":\"R\",\"Consumed In\":\"2015\",\"Country\":\"US\",\"Grape\":\"\",\"Name\":\"Dylans Wine\",\"Price\":\"200\",\"Region\":\"CA\",\"Score\":\"10\",\"Vintage\":\"1973\",\"Vinyard\":\"\"},{\"Color\":\"R\",\"Consumed In\":\"2015\",\"Country\":\"US\",\"Grape\":\"\",\"Name\":\"Dylans Wine\",\"Price\":\"200\",\"Region\":\"CA\",\"Score\":\"10\",\"Vintage\":\"1973\",\"Vinyard\":\"\"},{\"Color\":\"R\",\"Consumed In\":\"2015\",\"Country\":\"US\",\"Grape\":\"\",\"Name\":\"Dylans Wine\",\"Price\":\"200\",\"Region\":\"CA\",\"Score\":\"10\",\"Vintage\":\"1973\",\"Vinyard\":\"\"}]'"
      ]
     },
     "execution_count": 14,
     "metadata": {},
     "output_type": "execute_result"
    }
   ],
   "source": [
    "wine_df.to_json(orient='records')  ## But you can orient it a few different ways"
   ]
  },
  {
   "cell_type": "code",
   "execution_count": 61,
   "metadata": {
    "collapsed": false
   },
   "outputs": [
    {
     "data": {
      "text/plain": [
       "'{\"columns\":[\"Color\",\"Consumed In\",\"Country\",\"Grape\",\"Name\",\"Price\",\"Region\",\"Score\",\"Vintage\",\"Vinyard\"],\"index\":[0,1,2,3,4,5,6,7,8,9,10,11,12,13,14,15,16,17,18,19,20,21,22,23,24,25,26,27,28,29,30,31,32,33,34],\"data\":[[\"W\",\"2015\",\"Portugal\",\"\",\"\",\"\",\"Portugal\",\"4\",\"2013\",\"Vinho Verde\"],[\"W\",\"2015\",\"France\",\"\",\"\",\"17.8\",\"France\",\"3\",\"2013\",\"Peyruchet\"],[\"W\",\"2015\",\"Oregon\",\"\",\"\",\"20\",\"Oregon\",\"3\",\"2013\",\"Abacela\"],[\"W\",\"2015\",\"Spain\",\"chardonay\",\"\",\"7\",\"Spain\",\"2.5\",\"2012\",\"Ochoa\"],[\"R\",\"2015\",\"US\",\"chiraz, cab\",\"Spice Trader\",\"6\",\"\",\"3\",\"2012\",\"Heartland\"],[\"R\",\"2015\",\"US\",\"cab\",\"\",\"13\",\"California\",\"3.5\",\"2012\",\"Crow Canyon\"],[\"R\",\"2015\",\"US\",\"\",\"#14\",\"21\",\"Oregon\",\"2.5\",\"2013\",\"Abacela\"],[\"R\",\"2015\",\"France\",\"merlot, cab\",\"\",\"12\",\"Bordeaux\",\"3.5\",\"2012\",\"David Beaulieu\"],[\"R\",\"2015\",\"France\",\"merlot, cab\",\"\",\"11.99\",\"Medoc\",\"3.5\",\"2011\",\"Chantemerle\"],[\"R\",\"2015\",\"US\",\"merlot\",\"\",\"13\",\"Washington\",\"4\",\"2011\",\"Hyatt\"],[\"R\",\"2015\",\"Italy\",\"sangiovese\",\"Rosso Dei Poggi\",\"12\",\"Tuscany\",\"3\",\"2012\",\"Rosso Dei Poggi\"],[\"R\",\"2015\",\"\",\"\",\"Montepulciano D\\'Abruzzo\",\"22\",\"Tuscany\",\"4.5\",\"2013\",\"Orizzonti\"],[\"R\",\"2015\",\"US\",\"chiraz\",\"\",\"7\",\"Oregon\",\"3.5\",\"2010\",\"Abacelo\"],[\"R\",\"2015\",\"Italy\",\"sangiovese\",\"Rosso Di Montalcino\",\"15\",\"Tuscany\",\"3.5\",\"2012\",\"Ridolfi\"],[\"W\",\"2013\",\"France\",\"sauvignon blanc\",\"Sancerre Cuvee Des Moulins Bales\",\"12\",\"Loire\",\"3\",\"2012\",\"Celestin Blobdeau\"],[\"R\",\"2013\",\"US\",\"pinot noir\",\"Meiomi\",\"13\",\"Nappa\",\"3\",\"2012\",\"Belle Glos\"],[\"R\",\"2013\",\"France\",\"\",\"Saint Drezery Prestige\",\"13\",\"France\",\"3\",\"2012\",\"Puech-Haut\"],[\"R\",\"2013\",\"France\",\"\",\"Saint Drezery Prestige\",\"14\",\"France\",\"2\",\"2011\",\"Puech-Haut\"],[\"W\",\"2014\",\"US\",\"sauvignon blanc\",\"Sauvignon Blanc\",\"14.5\",\"Nappa\",\"4\",\"2012\",\"Honig\"],[\"W\",\"2014\",\"US\",\"sauvignon blanc\",\"Uppercut North Coast\",\"11\",\"Nappa\",\"3\",\"2012\",\"Provenance\"],[\"R\",\"2014\",\"Italy\",\"\",\"Nero d\\'Avola\",\"\",\"Sicily\",\"\",\"2011\",\"Baglio Di Pianetto\"],[\"P\",\"2014\",\"US\",\"\",\"Cape Blush\",\"10\",\"Truro\",\"4\",\"2013\",\"Truro Vineyards\"],[\"W\",\"2014\",\"US\",\"pinot griogio\",\"Pinot Grigio\",\"10\",\"Truro\",\"3\",\"2013\",\"Truro Vineyards\"],[\"R\",\"2014\",\"France\",\"\",\"Cru Classe\",\"\",\"Provence\",\"3.5\",\"2013\",\"Chateau de la Clapiere\"],[\"W\",\"2015\",\"France\",\"cabernet sauvignon\",\"Domaine du Claouset\",\"\",\"Bordeaux\",\"3\",\"2013\",\"Domaine du Claouset\"],[\"W\",\"2015\",\"\",\"sauvignon blanc\",\"Sauvignon Blanc\",\"\",\"Napa\",\"3.5\",\"2012\",\"Two Angels\"],[\"W\",\"2015\",\"Portugal\",\"\",\"Vinho Verde\",\"\",\"Portugal\",\"3.5\",\"2013\",\"Mapreco\"],[\"W\",\"2015\",\"France\",\"Chablis, Vincent Dampt, Vaillons 1er (Burgundy, France) 2012 W\\\\/ Limestone taste\",\"Vincent Dampt\",\"35\",\"Burgundy\",\"4\",\"2012\",\"Vaillons\"],[\"W\",\"2015\",\"Spain\",\"Albarino, Granbazan (Rias Baixas) 2012\",\"Albarino\",\"15\",\"Rias Baixas\",\"4\",\"2012\",\"Granbazan\"],[\"R\",\"2015\",\"US\",\"\",\"Dylans Wine\",\"200\",\"CA\",\"10\",\"1973\",\"\"],[\"R\",\"2015\",\"US\",\"\",\"Dylans Wine\",\"200\",\"CA\",\"10\",\"1973\",\"\"],[\"R\",\"2015\",\"US\",\"\",\"Dylans Wine\",\"200\",\"CA\",\"10\",\"1973\",\"\"],[\"R\",\"2015\",\"US\",\"\",\"Dylans Wine\",\"200\",\"CA\",\"10\",\"1973\",\"\"],[\"R\",\"2015\",\"US\",\"\",\"Dylans Wine\",\"200\",\"CA\",\"10\",\"1973\",\"\"],[\"R\",\"2015\",\"US\",\"\",\"Dylans Wine\",\"200\",\"CA\",\"10\",\"1973\",\"\"]]}'"
      ]
     },
     "execution_count": 61,
     "metadata": {},
     "output_type": "execute_result"
    }
   ],
   "source": [
    "wine_df.to_json(orient='split')"
   ]
  },
  {
   "cell_type": "code",
   "execution_count": 63,
   "metadata": {
    "collapsed": false
   },
   "outputs": [
    {
     "data": {
      "text/plain": [
       "array([u'W', u'R', u'P'], dtype=object)"
      ]
     },
     "execution_count": 63,
     "metadata": {},
     "output_type": "execute_result"
    }
   ],
   "source": [
    "wine_df.Color.unique()"
   ]
  },
  {
   "cell_type": "markdown",
   "metadata": {},
   "source": [
    "#### Writing to an API using PUT\n",
    "You will rarely need to do this"
   ]
  },
  {
   "cell_type": "code",
   "execution_count": 16,
   "metadata": {
    "collapsed": false
   },
   "outputs": [
    {
     "data": {
      "text/plain": [
       "<Response [201]>"
      ]
     },
     "execution_count": 16,
     "metadata": {},
     "output_type": "execute_result"
    }
   ],
   "source": [
    "# Send data to an API\n",
    "post_data = {\n",
    "    'Grape' : ''\n",
    "    , 'Name' : 'Dylans Wine'\n",
    "    , 'Color' : 'R'\n",
    "    , 'Country' : 'US'\n",
    "    , 'Region' : 'CA'\n",
    "    , 'Vinyard' : ''\n",
    "    , 'Score' : '10'\n",
    "    , 'Consumed In' : '2015'\n",
    "    , 'Vintage' : '1973'\n",
    "    , 'Price' : '200'\n",
    "    }\n",
    "requests.post(api_base_url, data=post_data)\n"
   ]
  },
  {
   "cell_type": "markdown",
   "metadata": {},
   "source": [
    "### Exercise 1\n",
    "    - Either with your own google doc or a different API\n",
    "    - Extract some data using requests\n",
    "    - Pull the data into a DataFrame\n",
    "    - Search For missing data\n",
    "        - Is there any missing data you can clean?\n",
    "        - Is there any data you can just remove?\n",
    "    - Summarize the data \n",
    "        - Try using describe, min, max, mean, var\n",
    "        - What are the unique values and can you do anything with the text?\n",
    "            Hint: Try using pd.get_dummies\n",
    "    - Bonus: Create some visualizations form this data\n",
    "    - Bonus: Try using sheetsu to push new data to the google doc (requests.post)"
   ]
  },
  {
   "cell_type": "code",
   "execution_count": 55,
   "metadata": {
    "collapsed": true
   },
   "outputs": [],
   "source": [
    "import numpy as np"
   ]
  },
  {
   "cell_type": "code",
   "execution_count": 56,
   "metadata": {
    "collapsed": true
   },
   "outputs": [],
   "source": [
    "api_base_url_plomo = 'https://sheetsu.com/apis/36945b1c'\n",
    "api_column_plomo = '/column/Customer'\n",
    "api_column_balance = '/column/Balance Total'"
   ]
  },
  {
   "cell_type": "code",
   "execution_count": 57,
   "metadata": {
    "collapsed": false
   },
   "outputs": [],
   "source": [
    "api_column_url_plomo = api_base_url_plomo + api_column_plomo\n",
    "column_response_plomo = requests.get(api_column_url_plomo)"
   ]
  },
  {
   "cell_type": "code",
   "execution_count": 58,
   "metadata": {
    "collapsed": false
   },
   "outputs": [],
   "source": [
    "api_column_url_balance = api_base_url_plomo + api_column_balance\n",
    "balance_plomo = requests.get(api_column_url_balance)"
   ]
  },
  {
   "cell_type": "code",
   "execution_count": 59,
   "metadata": {
    "collapsed": false
   },
   "outputs": [
    {
     "data": {
      "text/plain": [
       "u'{\"status\":200,\"success\":true,\"result\":[{\"Customer\":\"52 Avenue\",\"Street1\":\"\",\"Street2\":\"\",\"City\":\"52 Roule\",\"State\":\"DE\",\"Zip\":\"\",\"Primary Contact\":\"\",\"Phone\":\"022-347-4918\",\"Balance Total\":\"5,586.38\"},{\"Customer\":\"Ahmee\",\"Street1\":\"206 W. 15th Street\",\"Street2\":\"\",\"City\":\"New York\",\"State\":\"NY\",\"Zip\":\"10011\",\"Primary Contact\":\"\",\"Phone\":\"\",\"Balance Total\":\"0.00\"},{\"Customer\":\"Alexa Hakim\",\"Street1\":\"\",\"Street2\":\"\",\"City\":\"\",\"State\":\"\",\"Zip\":\"\",\"Primary Contact\":\"\",\"Phone\":\"\",\"Balance Total\":\"0.00\"},{\"Customer\":\"Amazon.com.kydc,Inc.\",\"Street1\":\"1155 Worldwide Blvd.\",\"Street2\":\"\",\"City\":\"Hebron\",\"State\":\"KY\",\"Zip\":\"41048\",\"Primary Contact\":\"\",\"Phone\":\"\",\"Balance Total\":\"913.75\"},{\"Customer\":\"American Express.\",\"Street1\":\"\",\"Street2\":\"\",\"City\":\"\",\"State\":\"\",\"Zip\":\"\",\"Primary Contact\":\"\",\"Phone\":\"\",\"Balance Total\":\"0.00\"},{\"Customer\":\"American Rag Cie, LLC\",\"Street1\":\"160 S. La Brea Avenue\",\"Street2\":\"\",\"City\":\"Los Angeles\",\"State\":\"CA\",\"Zip\":\"90036\",\"Primary Contact\":\"\",\"Phone\":\"\",\"Balance Total\":\"1,072.00\"},{\"Customer\":\"Amiga Galia\",\"Street1\":\"\",\"Street2\":\"\",\"City\":\"\",\"State\":\"\",\"Zip\":\"\",\"Primary Contact\":\"\",\"Phone\":\"\",\"Balance Total\":\"0.00\"},{\"Customer\":\"Anna Somse\",\"Street1\":\"\",\"Street2\":\"\",\"City\":\"\",\"State\":\"\",\"Zip\":\"\",\"Primary Contact\":\"\",\"Phone\":\"\",\"Balance Total\":\"0.00\"},{\"Customer\":\"Anthropologie\",\"Street1\":\"ANTHROPOLOGIE\",\"Street2\":\"5000 South Broad St\",\"City\":\"Philadelphia\",\"State\":\"PA\",\"Zip\":\"19112-1495\",\"Primary Contact\":\"\",\"Phone\":\"\",\"Balance Total\":\"5,019.75\"},{\"Customer\":\"Atlantic\",\"Street1\":\"700 Linden Road\",\"Street2\":\"\",\"City\":\"Wyndmoor\",\"State\":\"PA\",\"Zip\":\"19038\",\"Primary Contact\":\"\",\"Phone\":\"267-481-2533\",\"Balance Total\":\"0.00\"},{\"Customer\":\"Beyond Cotton\",\"Street1\":\"11525 Cantrell Road\",\"Street2\":\"Suite 904\",\"City\":\"Little Rock\",\"State\":\"AR\",\"Zip\":\"72212\",\"Primary Contact\":\"\",\"Phone\":\"501-221-1539\",\"Balance Total\":\"6,482.00\"},{\"Customer\":\"Bona Drag\",\"Street1\":\"2433 S Kinnickinnic Ave\",\"Street2\":\"\",\"City\":\"Milwaukee\",\"State\":\"WI\",\"Zip\":\"53207\",\"Primary Contact\":\"\",\"Phone\":\"760-815-4485\",\"Balance Total\":\"0.00\"},{\"Customer\":\"Bonqenie\",\"Street1\":\"\",\"Street2\":\"\",\"City\":\"\",\"State\":\"\",\"Zip\":\"\",\"Primary Contact\":\"\",\"Phone\":\"\",\"Balance Total\":\"0.00\"},{\"Customer\":\"Bootleg\",\"Street1\":\"502 West 7th St, #102\",\"Street2\":\"Austin, Texas\\xc2\\xa078701\",\"City\":\"\",\"State\":\"\",\"Zip\":\"\",\"Primary Contact\":\"Meredith\",\"Phone\":\"512-476-7463\",\"Balance Total\":\"1,078.00\"},{\"Customer\":\"Bricks\",\"Street1\":\"\",\"Street2\":\"\",\"City\":\"\",\"State\":\"\",\"Zip\":\"\",\"Primary Contact\":\"\",\"Phone\":\"\",\"Balance Total\":\"0.00\"},{\"Customer\":\"Bridge Boutique\",\"Street1\":\"\",\"Street2\":\"\",\"City\":\"\",\"State\":\"\",\"Zip\":\"\",\"Primary Contact\":\"\",\"Phone\":\"\",\"Balance Total\":\"0.00\"},{\"Customer\":\"By George\",\"Street1\":\"\",\"Street2\":\"\",\"City\":\"\",\"State\":\"\",\"Zip\":\"\",\"Primary Contact\":\"\",\"Phone\":\"\",\"Balance Total\":\"0.00\"},{\"Customer\":\"Calypso\",\"Street1\":\"Calypso St Barth\",\"Street2\":\"\",\"City\":\"\",\"State\":\"\",\"Zip\":\"\",\"Primary Contact\":\"\",\"Phone\":\"212-219-8900\",\"Balance Total\":\"43,710.00\"},{\"Customer\":\"Caroline Hurley\",\"Street1\":\"\",\"Street2\":\"\",\"City\":\"\",\"State\":\"\",\"Zip\":\"\",\"Primary Contact\":\"\",\"Phone\":\"\",\"Balance Total\":\"0.00\"},{\"Customer\":\"Ceci\",\"Street1\":\"\",\"Street2\":\"\",\"City\":\"\",\"State\":\"\",\"Zip\":\"\",\"Primary Contact\":\"\",\"Phone\":\"\",\"Balance Total\":\"0.00\"},{\"Customer\":\"Chatabox, LLC\",\"Street1\":\"\",\"Street2\":\"\",\"City\":\"\",\"State\":\"\",\"Zip\":\"\",\"Primary Contact\":\"\",\"Phone\":\"\",\"Balance Total\":\"0.00\"},{\"Customer\":\"Cherry Hill\",\"Street1\":\"1515 Judson Road\",\"Street2\":\"\",\"City\":\"Longview\",\"State\":\"TX\",\"Zip\":\"75601\",\"Primary Contact\":\"Alicia Nolte\",\"Phone\":\"903-757-2955\",\"Balance Total\":\"0.00\"},{\"Customer\":\"Chuckies\",\"Street1\":\"1304 Kings Highway\",\"Street2\":\"\",\"City\":\"Brooklyn\",\"State\":\"NY\",\"Zip\":\"11229\",\"Primary Contact\":\"\",\"Phone\":\"(718)376-1003\",\"Balance Total\":\"0.00\"},{\"Customer\":\"City Soles\",\"Street1\":\"\",\"Street2\":\"\",\"City\":\"\",\"State\":\"\",\"Zip\":\"\",\"Primary Contact\":\"\",\"Phone\":\"\",\"Balance Total\":\"-2,000.00\"},{\"Customer\":\"Coco Eros\\' Boutique\",\"Street1\":\"\",\"Street2\":\"\",\"City\":\"\",\"State\":\"\",\"Zip\":\"\",\"Primary Contact\":\"\",\"Phone\":\"\",\"Balance Total\":\"0.00\"},{\"Customer\":\"Concept3 Inc.\",\"Street1\":\"\",\"Street2\":\"\",\"City\":\"\",\"State\":\"\",\"Zip\":\"\",\"Primary Contact\":\"\",\"Phone\":\"\",\"Balance Total\":\"0.00\"},{\"Customer\":\"Crystal Cove Promenade\",\"Street1\":\"Novecento\",\"Street2\":\"Crystal cove Promenade\",\"City\":\"Newport Coast\",\"State\":\"CA\",\"Zip\":\"\",\"Primary Contact\":\"\",\"Phone\":\"\",\"Balance Total\":\"0.00\"},{\"Customer\":\"customers\",\"Street1\":\"Kelese\\'s friends\",\"Street2\":\"\",\"City\":\"\",\"State\":\"\",\"Zip\":\"\",\"Primary Contact\":\"\",\"Phone\":\"\",\"Balance Total\":\"833.00\"},{\"Customer\":\"Debra\\'s\",\"Street1\":\"4068 Old shell Road\",\"Street2\":\"\",\"City\":\"Mobile\",\"State\":\"AL\",\"Zip\":\"36608\",\"Primary Contact\":\"Holly\",\"Phone\":\"(206)226-6433\",\"Balance Total\":\"5,157.00\"},{\"Customer\":\"Diani Boutique\",\"Street1\":\"\",\"Street2\":\"\",\"City\":\"\",\"State\":\"\",\"Zip\":\"\",\"Primary Contact\":\"\",\"Phone\":\"\",\"Balance Total\":\"0.00\"},{\"Customer\":\"DNA Footwear\",\"Street1\":\"242 40th Street\",\"Street2\":\"\",\"City\":\"Brooklyn\",\"State\":\"NY\",\"Zip\":\"11232\",\"Primary Contact\":\"\",\"Phone\":\"888-955-7463\",\"Balance Total\":\"0.00\"},{\"Customer\":\"Domby\",\"Street1\":\"128 E. Washington St.\",\"Street2\":\"\",\"City\":\"Iowa City\",\"State\":\"IA\",\"Zip\":\"52240\",\"Primary Contact\":\"\",\"Phone\":\"319-337-2530\",\"Balance Total\":\"0.00\"},{\"Customer\":\"El Portico\",\"Street1\":\"1705 Del Mar Blvd. 125-A\",\"Street2\":\"Times Square Plaza\",\"City\":\"Laredo\",\"State\":\"TX\",\"Zip\":\"7804\",\"Primary Contact\":\"\",\"Phone\":\"956-729-8642\",\"Balance Total\":\"0.00\"},{\"Customer\":\"Endless\",\"Street1\":\"Amazon.comkydc LLC\",\"Street2\":\"PO Box 80387\",\"City\":\"Seattle\",\"State\":\"WA\",\"Zip\":\"98108-0387\",\"Primary Contact\":\"\",\"Phone\":\"\",\"Balance Total\":\"11,658.00\"},{\"Customer\":\"Enzyme Shoe Lab\",\"Street1\":\"Enzyme Shoe Lab\",\"Street2\":\"1309 Kings Highway\",\"City\":\"Brooklyn\",\"State\":\"NY\",\"Zip\":\"11229\",\"Primary Contact\":\"\",\"Phone\":\"718 375 2148\",\"Balance Total\":\"1,080.00\"},{\"Customer\":\"Fab.com, INC.\",\"Street1\":\"Fab.com, Inc\",\"Street2\":\"Accounting Department\",\"City\":\"New York\",\"State\":\"NY\",\"Zip\":\"10014\",\"Primary Contact\":\"\",\"Phone\":\"732-868-1216\",\"Balance Total\":\"-799.68\"},{\"Customer\":\"FeBe\",\"Street1\":\"474 Metaire Road, Suite 102\",\"Street2\":\"\",\"City\":\"Metaire\",\"State\":\"LA\",\"Zip\":\"70005\",\"Primary Contact\":\"Bessie Papazis \\\\u0026 Effie Papazis-Boihem\",\"Phone\":\"504-835-5250\",\"Balance Total\":\"0.00\"},{\"Customer\":\"Footnotes\",\"Street1\":\"\",\"Street2\":\"\",\"City\":\"\",\"State\":\"\",\"Zip\":\"\",\"Primary Contact\":\"\",\"Phone\":\"\",\"Balance Total\":\"0.00\"},{\"Customer\":\"Franco Ambrosi Beckman\",\"Street1\":\"\",\"Street2\":\"\",\"City\":\"\",\"State\":\"\",\"Zip\":\"\",\"Primary Contact\":\"\",\"Phone\":\"\",\"Balance Total\":\"0.00\"},{\"Customer\":\"G. Gilbert\",\"Street1\":\"1198 Howell Mill Rd.\",\"Street2\":\"Ste. 109\",\"City\":\"Atlanta.\",\"State\":\"GA\",\"Zip\":\"30318\",\"Primary Contact\":\"Robert\",\"Phone\":\"(404)355-3713\",\"Balance Total\":\"0.00\"},{\"Customer\":\"Gallery D\",\"Street1\":\"436 West 2nd Street\",\"Street2\":\"\",\"City\":\"Austin\",\"State\":\"TX\",\"Zip\":\"78701\",\"Primary Contact\":\"\",\"Phone\":\"512-322-5241\",\"Balance Total\":\"1,500.00\"},{\"Customer\":\"Gap\",\"Street1\":\"Tha Gap Inc. - Piperlime\",\"Street2\":\"2 Folsom Street\",\"City\":\"San Francisco\",\"State\":\"\",\"Zip\":\"94105\",\"Primary Contact\":\"\",\"Phone\":\"\",\"Balance Total\":\"0.00\"},{\"Customer\":\"Garbarini\",\"Street1\":\"3003 East Third Avenue\",\"Street2\":\"\",\"City\":\"Denver\",\"State\":\"CO\",\"Zip\":\"80206\",\"Primary Contact\":\"Terry\",\"Phone\":\"303-333-8686\",\"Balance Total\":\"0.00\"},{\"Customer\":\"GILT\",\"Street1\":\"Gilt Global Trading \\\\u0026 Procurem\",\"Street2\":\"Connaught House I Burlington Rd\",\"City\":\"Dublin 4, Irelanad\",\"State\":\"\",\"Zip\":\"\",\"Primary Contact\":\"\",\"Phone\":\"\",\"Balance Total\":\"0.00\"},{\"Customer\":\"Girl Next Door\",\"Street1\":\"Girl Next Door\",\"Street2\":\"250 W 2nd Street\",\"City\":\"Austin\",\"State\":\"TX\",\"Zip\":\"78701\",\"Primary Contact\":\"\",\"Phone\":\"512-322-0501\",\"Balance Total\":\"0.00\"},{\"Customer\":\"Gregory\\'s\",\"Street1\":\"4887 Alpha Road #205\",\"Street2\":\"\",\"City\":\"Dallas\",\"State\":\"TX\",\"Zip\":\"75244\",\"Primary Contact\":\"\",\"Phone\":\"322-655-9500\",\"Balance Total\":\"2,160.00\"},{\"Customer\":\"Gyspy Warrior\",\"Street1\":\"75 10th Ave\",\"Street2\":\"9th Floor\",\"City\":\"New York\",\"State\":\"NY\",\"Zip\":\"10018\",\"Primary Contact\":\"\",\"Phone\":\"\",\"Balance Total\":\"0.00\"},{\"Customer\":\"HauteLook, Inc\",\"Street1\":\"\",\"Street2\":\"\",\"City\":\"\",\"State\":\"\",\"Zip\":\"\",\"Primary Contact\":\"\",\"Phone\":\"\",\"Balance Total\":\"0.00\"},{\"Customer\":\"Hilldun\",\"Street1\":\"\",\"Street2\":\"\",\"City\":\"\",\"State\":\"\",\"Zip\":\"\",\"Primary Contact\":\"\",\"Phone\":\"\",\"Balance Total\":\"0.00\"},{\"Customer\":\"I love Lulu\",\"Street1\":\"\",\"Street2\":\"\",\"City\":\"\",\"State\":\"\",\"Zip\":\"\",\"Primary Contact\":\"\",\"Phone\":\"\",\"Balance Total\":\"0.00\"},{\"Customer\":\"Ida Rae\",\"Street1\":\"\",\"Street2\":\"\",\"City\":\"\",\"State\":\"ID\",\"Zip\":\"\",\"Primary Contact\":\"\",\"Phone\":\"\",\"Balance Total\":\"0.00\"},{\"Customer\":\"In Her Shoes\",\"Street1\":\"1250 Fleetwood RD\",\"Street2\":\"\",\"City\":\"Jenkintown\",\"State\":\"PA\",\"Zip\":\"19046\",\"Primary Contact\":\"\",\"Phone\":\"215-499-4967\",\"Balance Total\":\"0.00\"},{\"Customer\":\"Insufficient Funds Fee Refund\",\"Street1\":\"\",\"Street2\":\"\",\"City\":\"\",\"State\":\"\",\"Zip\":\"\",\"Primary Contact\":\"\",\"Phone\":\"\",\"Balance Total\":\"0.00\"},{\"Customer\":\"Intermix Canada Inc\",\"Street1\":\"\",\"Street2\":\"\",\"City\":\"\",\"State\":\"\",\"Zip\":\"\",\"Primary Contact\":\"\",\"Phone\":\"\",\"Balance Total\":\"0.00\"},{\"Customer\":\"Irene\",\"Street1\":\"\",\"Street2\":\"\",\"City\":\"\",\"State\":\"\",\"Zip\":\"\",\"Primary Contact\":\"\",\"Phone\":\"\",\"Balance Total\":\"0.00\"},{\"Customer\":\"ISAAY.com\",\"Street1\":\"7643 N. San Francisco Rd\",\"Street2\":\"\",\"City\":\"Burbank\",\"State\":\"CA\",\"Zip\":\"91505\",\"Primary Contact\":\"\",\"Phone\":\"925-212-2381\",\"Balance Total\":\"0.00\"},{\"Customer\":\"Itochu Fashion System\",\"Street1\":\"\",\"Street2\":\"\",\"City\":\"\",\"State\":\"\",\"Zip\":\"\",\"Primary Contact\":\"\",\"Phone\":\"\",\"Balance Total\":\"0.00\"},{\"Customer\":\"J. Crew\",\"Street1\":\"770 Broadway\",\"Street2\":\"\",\"City\":\"New York\",\"State\":\"NY\",\"Zip\":\"10003\",\"Primary Contact\":\"\",\"Phone\":\"\",\"Balance Total\":\"4,500.00\"},{\"Customer\":\"JILDOR\",\"Street1\":\"Jan Friedman\",\"Street2\":\"473 Central Avenue\",\"City\":\"P: 516 569\",\"State\":\"New York\",\"Zip\":\"4880\",\"Primary Contact\":\"\",\"Phone\":\"\",\"Balance Total\":\"0.00\"},{\"Customer\":\"Joanna Gray\",\"Street1\":\"104-35 Stevenson Road\",\"Street2\":\"\",\"City\":\"Stevenson\",\"State\":\"MD\",\"Zip\":\"21153\",\"Primary Contact\":\"\",\"Phone\":\"\",\"Balance Total\":\"0.00\"},{\"Customer\":\"K3.co\",\"Street1\":\"K3 Co., Ltd\",\"Street2\":\"10-3 Nanpeidaicho shibuya\",\"City\":\"\",\"State\":\"\",\"Zip\":\"\",\"Primary Contact\":\"\",\"Phone\":\"813-3464-5357\",\"Balance Total\":\"0.00\"},{\"Customer\":\"Kalifornia Jean Bar\",\"Street1\":\"10092 Donner Pass Road\",\"Street2\":\"\",\"City\":\"Truckee\",\"State\":\"CA\",\"Zip\":\"96161\",\"Primary Contact\":\"Christy\",\"Phone\":\"\",\"Balance Total\":\"0.00\"},{\"Customer\":\"Karmaloop Inc.\",\"Street1\":\"Karmaloop Inc\",\"Street2\":\"334 Boylston St, 5th floor\",\"City\":\"Boston\",\"State\":\"MA\",\"Zip\":\"2116\",\"Primary Contact\":\"\",\"Phone\":\"\",\"Balance Total\":\"0.00\"},{\"Customer\":\"Katrina Bannette\",\"Street1\":\"\",\"Street2\":\"\",\"City\":\"\",\"State\":\"\",\"Zip\":\"\",\"Primary Contact\":\"\",\"Phone\":\"\",\"Balance Total\":\"0.00\"},{\"Customer\":\"Lambs Ear\",\"Street1\":\"617 Nort 35th St.\",\"Street2\":\"\",\"City\":\"Seattle\",\"State\":\"WA\",\"Zip\":\"98103\",\"Primary Contact\":\"Angie Sorensen\",\"Phone\":\"206-632-2626\",\"Balance Total\":\"0.00\"},{\"Customer\":\"Laura woldenberg\",\"Street1\":\"\",\"Street2\":\"\",\"City\":\"\",\"State\":\"\",\"Zip\":\"\",\"Primary Contact\":\"\",\"Phone\":\"\",\"Balance Total\":\"0.00\"},{\"Customer\":\"Lili Talavery\",\"Street1\":\"\",\"Street2\":\"\",\"City\":\"\",\"State\":\"\",\"Zip\":\"\",\"Primary Contact\":\"\",\"Phone\":\"\",\"Balance Total\":\"0.00\"},{\"Customer\":\"Look, Inc.\",\"Street1\":\"LOOK\",\"Street2\":\"Itochu Fashion System co., ltd\",\"City\":\"Tokyo\",\"State\":\"\",\"Zip\":\"151-0055\",\"Primary Contact\":\"\",\"Phone\":\"+81(0)3 6439 3141\",\"Balance Total\":\"660.00\"},{\"Customer\":\"LuLu Brandt\",\"Street1\":\"1 West California Blvd\",\"Street2\":\"\",\"City\":\"Pasadena\",\"State\":\"CA\",\"Zip\":\"91105\",\"Primary Contact\":\"\",\"Phone\":\"(626) 568-8090\",\"Balance Total\":\"1,080.00\"},{\"Customer\":\"MACS\",\"Street1\":\"9823 CLAYTON ROAD\",\"Street2\":\"\",\"City\":\"SAINT LOUIS\",\"State\":\"MO\",\"Zip\":\"63124\",\"Primary Contact\":\"\",\"Phone\":\"314-991-3337\",\"Balance Total\":\"0.00\"},{\"Customer\":\"Madewell\",\"Street1\":\"J. Crew\",\"Street2\":\"770 Broadway\",\"City\":\"New York\",\"State\":\"NY\",\"Zip\":\"10003\",\"Primary Contact\":\"\",\"Phone\":\"\",\"Balance Total\":\"0.00\"},{\"Customer\":\"Maja Shoes\",\"Street1\":\"\",\"Street2\":\"\",\"City\":\"\",\"State\":\"\",\"Zip\":\"\",\"Primary Contact\":\"\",\"Phone\":\"\",\"Balance Total\":\"0.00\"},{\"Customer\":\"Manne Felici\",\"Street1\":\"\",\"Street2\":\"\",\"City\":\"\",\"State\":\"\",\"Zip\":\"\",\"Primary Contact\":\"\",\"Phone\":\"\",\"Balance Total\":\"0.00\"},{\"Customer\":\"Mayra\",\"Street1\":\"\",\"Street2\":\"\",\"City\":\"\",\"State\":\"\",\"Zip\":\"\",\"Primary Contact\":\"\",\"Phone\":\"\",\"Balance Total\":\"0.00\"},{\"Customer\":\"Merge\",\"Street1\":\"5959 Royal Lane #624\",\"Street2\":\"\",\"City\":\"Dallas\",\"State\":\"TX\",\"Zip\":\"75230\",\"Primary Contact\":\"\",\"Phone\":\"214-987-1606\",\"Balance Total\":\"1,425.86\"},{\"Customer\":\"Michelle Cheng\",\"Street1\":\"\",\"Street2\":\"\",\"City\":\"\",\"State\":\"\",\"Zip\":\"\",\"Primary Contact\":\"\",\"Phone\":\"\",\"Balance Total\":\"0.00\"},{\"Customer\":\"Mizuho\",\"Street1\":\"\",\"Street2\":\"\",\"City\":\"\",\"State\":\"\",\"Zip\":\"\",\"Primary Contact\":\"\",\"Phone\":\"\",\"Balance Total\":\"0.00\"},{\"Customer\":\"Mr. Henry Smulewitz\",\"Street1\":\"\",\"Street2\":\"\",\"City\":\"\",\"State\":\"\",\"Zip\":\"\",\"Primary Contact\":\"\",\"Phone\":\"\",\"Balance Total\":\"0.00\"},{\"Customer\":\"My Habit\",\"Street1\":\"\",\"Street2\":\"\",\"City\":\"\",\"State\":\"\",\"Zip\":\"\",\"Primary Contact\":\"\",\"Phone\":\"\",\"Balance Total\":\"57,338.81\"},{\"Customer\":\"Needsupply\",\"Street1\":\"\",\"Street2\":\"\",\"City\":\"\",\"State\":\"\",\"Zip\":\"\",\"Primary Contact\":\"\",\"Phone\":\"\",\"Balance Total\":\"0.00\"},{\"Customer\":\"No Problem Inc.\",\"Street1\":\"\",\"Street2\":\"\",\"City\":\"\",\"State\":\"\",\"Zip\":\"\",\"Primary Contact\":\"\",\"Phone\":\"\",\"Balance Total\":\"0.00\"},{\"Customer\":\"Novecento\",\"Street1\":\"Crystal Cove Promenade\",\"Street2\":\"8002 East Coast HWY\",\"City\":\"Newport Coast\",\"State\":\"CA\",\"Zip\":\"8002\",\"Primary Contact\":\"\",\"Phone\":\"949-7151700\",\"Balance Total\":\"0.00\"},{\"Customer\":\"Orma Jose Jordan Riveros\",\"Street1\":\"\",\"Street2\":\"\",\"City\":\"\",\"State\":\"\",\"Zip\":\"\",\"Primary Contact\":\"\",\"Phone\":\"\",\"Balance Total\":\"0.00\"},{\"Customer\":\"Paul Karaz\",\"Street1\":\"414 East Genesee Street\",\"Street2\":\"\",\"City\":\"Fayetteville\",\"State\":\"NY\",\"Zip\":\"13066\",\"Primary Contact\":\"Paige@paulkarazshoes.com\",\"Phone\":\"315-663-0200\",\"Balance Total\":\"1,080.00\"},{\"Customer\":\"paypal.\",\"Street1\":\"\",\"Street2\":\"\",\"City\":\"\",\"State\":\"\",\"Zip\":\"\",\"Primary Contact\":\"\",\"Phone\":\"\",\"Balance Total\":\"0.00\"},{\"Customer\":\"PHOENICIA\",\"Street1\":\"TBC\",\"Street2\":\"\",\"City\":\"\",\"State\":\"\",\"Zip\":\"\",\"Primary Contact\":\"\",\"Phone\":\"0044(0)7515024919\",\"Balance Total\":\"0.00\"},{\"Customer\":\"Piperlime\",\"Street1\":\"2 Folsom Street\",\"Street2\":\"\",\"City\":\"San Francisco\",\"State\":\"CA\",\"Zip\":\"94105\",\"Primary Contact\":\"\",\"Phone\":\"\",\"Balance Total\":\"6,468.60\"},{\"Customer\":\"Prescene\",\"Street1\":\"8025 Jericho Turnpike\",\"Street2\":\"Woodbury, NY 11797\",\"City\":\"New York\",\"State\":\"NY\",\"Zip\":\"11797\",\"Primary Contact\":\"\",\"Phone\":\"516.807.3030\",\"Balance Total\":\"0.00\"},{\"Customer\":\"PUMPS\",\"Street1\":\"103 E. Virginia\",\"Street2\":\"Suite 101\",\"City\":\"McKinney\",\"State\":\"TX\",\"Zip\":\"75069\",\"Primary Contact\":\"Alisa Adams\",\"Phone\":\"972-562-4555\",\"Balance Total\":\"2,814.00\"},{\"Customer\":\"Rakota Remington\",\"Street1\":\"\",\"Street2\":\"\",\"City\":\"\",\"State\":\"\",\"Zip\":\"\",\"Primary Contact\":\"\",\"Phone\":\"\",\"Balance Total\":\"0.00\"},{\"Customer\":\"Rand + Statler\",\"Street1\":\"425 Hayes Street\",\"Street2\":\"\",\"City\":\"SF\",\"State\":\"CA\",\"Zip\":\"94102\",\"Primary Contact\":\"\",\"Phone\":\"4156340883\",\"Balance Total\":\"0.00\"},{\"Customer\":\"Ray Leventhal\",\"Street1\":\"Stiltz Inc.\",\"Street2\":\"4 Oxford blvd.\",\"City\":\"Great Neck\",\"State\":\"NY\",\"Zip\":\"11023\",\"Primary Contact\":\"\",\"Phone\":\"\",\"Balance Total\":\"0.00\"},{\"Customer\":\"Reflections\",\"Street1\":\"Rathausplatz 11\",\"Street2\":\"D-85049 Ingolstadt\",\"City\":\"\",\"State\":\"\",\"Zip\":\"\",\"Primary Contact\":\"\",\"Phone\":\"0049-841-910591\",\"Balance Total\":\"0.00\"},{\"Customer\":\"Revolver\",\"Street1\":\"136 Fillmore St\",\"Street2\":\"\",\"City\":\"San Francisco\",\"State\":\"CA\",\"Zip\":\"94117\",\"Primary Contact\":\"\",\"Phone\":\"415-871-0665\",\"Balance Total\":\"1,080.00\"},{\"Customer\":\"Rivet\",\"Street1\":\"151 Smith Street\",\"Street2\":\"\",\"City\":\"Brooklyn\",\"State\":\"NY\",\"Zip\":\"11201\",\"Primary Contact\":\"\",\"Phone\":\"(917)921-9184\",\"Balance Total\":\"0.00\"},{\"Customer\":\"Rosa\",\"Street1\":\"Robert Ley GmH \\\\u0026 Co. KG\",\"Street2\":\"\",\"City\":\"Postfach\",\"State\":\"\",\"Zip\":\"1182\",\"Primary Contact\":\"Rosa\",\"Phone\":\"0221-2508868\",\"Balance Total\":\"0.00\"},{\"Customer\":\"SeeSaw\",\"Street1\":\"6W. Railroad Avenue\",\"Street2\":\"\",\"City\":\"Tenafly\",\"State\":\"\",\"Zip\":\"7670\",\"Primary Contact\":\"\",\"Phone\":\"201-567-5560\",\"Balance Total\":\"0.00\"},{\"Customer\":\"Sharon Feldstein\",\"Street1\":\"\",\"Street2\":\"\",\"City\":\"\",\"State\":\"\",\"Zip\":\"\",\"Primary Contact\":\"\",\"Phone\":\"\",\"Balance Total\":\"0.00\"},{\"Customer\":\"Shen Yi \\\\u0026 Co\",\"Street1\":\"\",\"Street2\":\"\",\"City\":\"\",\"State\":\"\",\"Zip\":\"\",\"Primary Contact\":\"\",\"Phone\":\"\",\"Balance Total\":\"0.00\"},{\"Customer\":\"Shoe Inn\",\"Street1\":\"154 W Forest Ave\",\"Street2\":\"\",\"City\":\"Englewood\",\"State\":\"NJ\",\"Zip\":\"7631\",\"Primary Contact\":\"William Lawson\",\"Phone\":\"561-832-1196\",\"Balance Total\":\"0.00\"},{\"Customer\":\"Shop Bop\",\"Street1\":\"1245 East Washington, suite 300\",\"Street2\":\"\",\"City\":\"Madison\",\"State\":\"WI\",\"Zip\":\"53703\",\"Primary Contact\":\"Tia Powers, Buyer; Jessica Lee, Asst\",\"Phone\":\"608-270-3900\",\"Balance Total\":\"6,858.00\"},{\"Customer\":\"Solestruck\",\"Street1\":\"16350 SW 72nd Avenue\",\"Street2\":\"\",\"City\":\"Portland\",\"State\":\"OR\",\"Zip\":\"97224\",\"Primary Contact\":\"\",\"Phone\":\"\",\"Balance Total\":\"0.00\"},{\"Customer\":\"Stefanie S\",\"Street1\":\"\",\"Street2\":\"\",\"City\":\"\",\"State\":\"\",\"Zip\":\"\",\"Primary Contact\":\"\",\"Phone\":\"\",\"Balance Total\":\"0.00\"},{\"Customer\":\"Steve Madden\",\"Street1\":\"Steve Madden Retail Inc.\",\"Street2\":\"52-16 Barnett Ave\",\"City\":\"Long Island City\",\"State\":\"NY\",\"Zip\":\"11104\",\"Primary Contact\":\"\",\"Phone\":\"\",\"Balance Total\":\"0.00\"},{\"Customer\":\"stiltz\",\"Street1\":\"Stiltz Inc.\",\"Street2\":\"4 Oxford Blvd.\",\"City\":\"Great Neck\",\"State\":\"NY\",\"Zip\":\"11023\",\"Primary Contact\":\"Stacy\",\"Phone\":\"516.423.9446\",\"Balance Total\":\"0.00\"},{\"Customer\":\"Strut the Runway\",\"Street1\":\"7509 Poplar Ave, Suite 103\",\"Street2\":\"\",\"City\":\"Germantown\",\"State\":\"TN\",\"Zip\":\"38138\",\"Primary Contact\":\"Marian Richardson\",\"Phone\":\"901-751-5741\",\"Balance Total\":\"0.00\"},{\"Customer\":\"Suzanna\",\"Street1\":\"\",\"Street2\":\"\",\"City\":\"\",\"State\":\"\",\"Zip\":\"\",\"Primary Contact\":\"\",\"Phone\":\"\",\"Balance Total\":\"0.00\"},{\"Customer\":\"Sydney, Australia\",\"Street1\":\"Sydney,\",\"Street2\":\"\",\"City\":\"\",\"State\":\"\",\"Zip\":\"\",\"Primary Contact\":\"\",\"Phone\":\"\",\"Balance Total\":\"0.00\"},{\"Customer\":\"Tani\",\"Street1\":\"MOD Associates INC\",\"Street2\":\"131 West 72nd Street\",\"City\":\"New York\",\"State\":\"NY\",\"Zip\":\"10023\",\"Primary Contact\":\"\",\"Phone\":\"212-595-1338\",\"Balance Total\":\"0.00\"},{\"Customer\":\"The Gardens Room\",\"Street1\":\"5 Jefferson Sq\",\"Street2\":\"\",\"City\":\"Austin\",\"State\":\"TX\",\"Zip\":\"78731\",\"Primary Contact\":\"\",\"Phone\":\"512-458-5407\",\"Balance Total\":\"2,344.00\"},{\"Customer\":\"The Shoe Hive\",\"Street1\":\"127 South Fairfax Street\",\"Street2\":\"\",\"City\":\"Alexandria\",\"State\":\"VA\",\"Zip\":\"22314\",\"Primary Contact\":\"\",\"Phone\":\"\",\"Balance Total\":\"0.00\"},{\"Customer\":\"The Shoes Cake\",\"Street1\":\"\",\"Street2\":\"\",\"City\":\"\",\"State\":\"\",\"Zip\":\"\",\"Primary Contact\":\"\",\"Phone\":\"\",\"Balance Total\":\"0.00\"},{\"Customer\":\"Tootsies Laguna Beach\",\"Street1\":\"1200 S Coast Hwy\",\"Street2\":\"\",\"City\":\"Laguna Beach\",\"State\":\"CA\",\"Zip\":\"92652\",\"Primary Contact\":\"\",\"Phone\":\"949 715 5151\",\"Balance Total\":\"507.94\"},{\"Customer\":\"Tuni\",\"Street1\":\"301 Park Avenue South\",\"Street2\":\"\",\"City\":\"Winter Park\",\"State\":\"FL\",\"Zip\":\"\",\"Primary Contact\":\"\",\"Phone\":\"407-628-1414\",\"Balance Total\":\"0.00\"},{\"Customer\":\"Tutto\",\"Street1\":\"Kronbergerstr 42\",\"Street2\":\"60323 Frankfurt\",\"City\":\"\",\"State\":\"\",\"Zip\":\"\",\"Primary Contact\":\"\",\"Phone\":\"069-173565\",\"Balance Total\":\"0.00\"},{\"Customer\":\"Urban Outfitters\",\"Street1\":\"5000 South Broad St\",\"Street2\":\"\",\"City\":\"Philadelphia\",\"State\":\"PA\",\"Zip\":\"19112-1495\",\"Primary Contact\":\"\",\"Phone\":\"\",\"Balance Total\":\"8,088.00\"},{\"Customer\":\"W Boutique\",\"Street1\":\"4240 N Campbell Ave, ste 111\",\"Street2\":\"\",\"City\":\"Tucson\",\"State\":\"AZ\",\"Zip\":\"85718\",\"Primary Contact\":\"\",\"Phone\":\"520-577-3470\",\"Balance Total\":\"0.00\"},{\"Customer\":\"Zachary\\'s Smile\",\"Street1\":\"9 Greenpoint Ave\",\"Street2\":\"\",\"City\":\"New York\",\"State\":\"NY\",\"Zip\":\"10014\",\"Primary Contact\":\"\",\"Phone\":\"212-924-0604\",\"Balance Total\":\"0.00\"},{\"Customer\":\"Zelda\\'s\",\"Street1\":\"633 NW 23rd Ave\",\"Street2\":\"\",\"City\":\"Portland\",\"State\":\"OR\",\"Zip\":\"97210\",\"Primary Contact\":\"\",\"Phone\":\"503-226-0363\",\"Balance Total\":\"0.00\"}]}'"
      ]
     },
     "execution_count": 59,
     "metadata": {},
     "output_type": "execute_result"
    }
   ],
   "source": [
    "api_plomo = requests.get(api_base_url_plomo)\n",
    "api_plomo.text"
   ]
  },
  {
   "cell_type": "code",
   "execution_count": null,
   "metadata": {
    "collapsed": true
   },
   "outputs": [],
   "source": [
    "## See the instructor file for how to fill in the empty spaces"
   ]
  },
  {
   "cell_type": "code",
   "execution_count": 49,
   "metadata": {
    "collapsed": false
   },
   "outputs": [
    {
     "data": {
      "text/plain": [
       "u'{\"status\":200,\"success\":true,\"result\":[\"5,586.38\",\"0.00\",\"0.00\",\"913.75\",\"0.00\",\"1,072.00\",\"0.00\",\"0.00\",\"5,019.75\",\"0.00\",\"6,482.00\",\"0.00\",\"0.00\",\"1,078.00\",\"0.00\",\"0.00\",\"0.00\",\"43,710.00\",\"0.00\",\"0.00\",\"0.00\",\"0.00\",\"0.00\",\"-2,000.00\",\"0.00\",\"0.00\",\"0.00\",\"833.00\",\"5,157.00\",\"0.00\",\"0.00\",\"0.00\",\"0.00\",\"11,658.00\",\"1,080.00\",\"-799.68\",\"0.00\",\"0.00\",\"0.00\",\"0.00\",\"1,500.00\",\"0.00\",\"0.00\",\"0.00\",\"0.00\",\"2,160.00\",\"0.00\",\"0.00\",\"0.00\",\"0.00\",\"0.00\",\"0.00\",\"0.00\",\"0.00\",\"0.00\",\"0.00\",\"0.00\",\"4,500.00\",\"0.00\",\"0.00\",\"0.00\",\"0.00\",\"0.00\",\"0.00\",\"0.00\",\"0.00\",\"0.00\",\"660.00\",\"1,080.00\",\"0.00\",\"0.00\",\"0.00\",\"0.00\",\"0.00\",\"1,425.86\",\"0.00\",\"0.00\",\"0.00\",\"57,338.81\",\"0.00\",\"0.00\",\"0.00\",\"0.00\",\"1,080.00\",\"0.00\",\"0.00\",\"6,468.60\",\"0.00\",\"2,814.00\",\"0.00\",\"0.00\",\"0.00\",\"0.00\",\"1,080.00\",\"0.00\",\"0.00\",\"0.00\",\"0.00\",\"0.00\",\"0.00\",\"6,858.00\",\"0.00\",\"0.00\",\"0.00\",\"0.00\",\"0.00\",\"0.00\",\"0.00\",\"0.00\",\"2,344.00\",\"0.00\",\"0.00\",\"507.94\",\"0.00\",\"0.00\",\"8,088.00\",\"0.00\",\"0.00\",\"0.00\"]}'"
      ]
     },
     "execution_count": 49,
     "metadata": {},
     "output_type": "execute_result"
    }
   ],
   "source": [
    "api_balance_plomo = balance_plomo.text\n",
    "balance_plomo.text"
   ]
  },
  {
   "cell_type": "code",
   "execution_count": 54,
   "metadata": {
    "collapsed": false
   },
   "outputs": [
    {
     "ename": "TypeError",
     "evalue": "string indices must be integers",
     "output_type": "error",
     "traceback": [
      "\u001b[0;31m---------------------------------------------------------------------------\u001b[0m",
      "\u001b[0;31mTypeError\u001b[0m                                 Traceback (most recent call last)",
      "\u001b[0;32m<ipython-input-54-882fe12b6b5c>\u001b[0m in \u001b[0;36m<module>\u001b[0;34m()\u001b[0m\n\u001b[0;32m----> 1\u001b[0;31m \u001b[0mapi_balance_plomo\u001b[0m\u001b[0;34m[\u001b[0m\u001b[0;34m'result'\u001b[0m\u001b[0;34m]\u001b[0m\u001b[0;34m.\u001b[0m\u001b[0mint\u001b[0m\u001b[0;34m(\u001b[0m\u001b[0msum\u001b[0m\u001b[0;34m(\u001b[0m\u001b[0;34m)\u001b[0m\u001b[0;34m)\u001b[0m\u001b[0;34m\u001b[0m\u001b[0m\n\u001b[0m",
      "\u001b[0;31mTypeError\u001b[0m: string indices must be integers"
     ]
    }
   ],
   "source": [
    "api_balance_plomo['result'].int(sum())"
   ]
  },
  {
   "cell_type": "code",
   "execution_count": 25,
   "metadata": {
    "collapsed": true
   },
   "outputs": [],
   "source": [
    "plomo_dict = json.loads(api_plomo.text) "
   ]
  },
  {
   "cell_type": "code",
   "execution_count": 26,
   "metadata": {
    "collapsed": false
   },
   "outputs": [
    {
     "data": {
      "text/html": [
       "<div>\n",
       "<table border=\"1\" class=\"dataframe\">\n",
       "  <thead>\n",
       "    <tr style=\"text-align: right;\">\n",
       "      <th></th>\n",
       "      <th>Balance Total</th>\n",
       "      <th>City</th>\n",
       "      <th>Customer</th>\n",
       "      <th>Phone</th>\n",
       "      <th>Primary Contact</th>\n",
       "      <th>State</th>\n",
       "      <th>Street1</th>\n",
       "      <th>Street2</th>\n",
       "      <th>Zip</th>\n",
       "    </tr>\n",
       "  </thead>\n",
       "  <tbody>\n",
       "    <tr>\n",
       "      <th>0</th>\n",
       "      <td>5,586.38</td>\n",
       "      <td>52 Roule</td>\n",
       "      <td>52 Avenue</td>\n",
       "      <td>022-347-4918</td>\n",
       "      <td></td>\n",
       "      <td>DE</td>\n",
       "      <td></td>\n",
       "      <td></td>\n",
       "      <td></td>\n",
       "    </tr>\n",
       "    <tr>\n",
       "      <th>1</th>\n",
       "      <td>0.00</td>\n",
       "      <td>New York</td>\n",
       "      <td>Ahmee</td>\n",
       "      <td></td>\n",
       "      <td></td>\n",
       "      <td>NY</td>\n",
       "      <td>206 W. 15th Street</td>\n",
       "      <td></td>\n",
       "      <td>10011</td>\n",
       "    </tr>\n",
       "    <tr>\n",
       "      <th>2</th>\n",
       "      <td>0.00</td>\n",
       "      <td></td>\n",
       "      <td>Alexa Hakim</td>\n",
       "      <td></td>\n",
       "      <td></td>\n",
       "      <td></td>\n",
       "      <td></td>\n",
       "      <td></td>\n",
       "      <td></td>\n",
       "    </tr>\n",
       "    <tr>\n",
       "      <th>3</th>\n",
       "      <td>913.75</td>\n",
       "      <td>Hebron</td>\n",
       "      <td>Amazon.com.kydc,Inc.</td>\n",
       "      <td></td>\n",
       "      <td></td>\n",
       "      <td>KY</td>\n",
       "      <td>1155 Worldwide Blvd.</td>\n",
       "      <td></td>\n",
       "      <td>41048</td>\n",
       "    </tr>\n",
       "    <tr>\n",
       "      <th>4</th>\n",
       "      <td>0.00</td>\n",
       "      <td></td>\n",
       "      <td>American Express.</td>\n",
       "      <td></td>\n",
       "      <td></td>\n",
       "      <td></td>\n",
       "      <td></td>\n",
       "      <td></td>\n",
       "      <td></td>\n",
       "    </tr>\n",
       "  </tbody>\n",
       "</table>\n",
       "</div>"
      ],
      "text/plain": [
       "  Balance Total      City              Customer         Phone Primary Contact  \\\n",
       "0      5,586.38  52 Roule             52 Avenue  022-347-4918                   \n",
       "1          0.00  New York                 Ahmee                                 \n",
       "2          0.00                     Alexa Hakim                                 \n",
       "3        913.75    Hebron  Amazon.com.kydc,Inc.                                 \n",
       "4          0.00               American Express.                                 \n",
       "\n",
       "  State               Street1 Street2    Zip  \n",
       "0    DE                                       \n",
       "1    NY    206 W. 15th Street          10011  \n",
       "2                                             \n",
       "3    KY  1155 Worldwide Blvd.          41048  \n",
       "4                                             "
      ]
     },
     "execution_count": 26,
     "metadata": {},
     "output_type": "execute_result"
    }
   ],
   "source": [
    "plomo_df = pd.DataFrame(plomo_dict['result'])\n",
    "plomo_df.head()"
   ]
  },
  {
   "cell_type": "code",
   "execution_count": 41,
   "metadata": {
    "collapsed": false
   },
   "outputs": [
    {
     "ename": "TypeError",
     "evalue": "'type' object has no attribute '__getitem__'",
     "output_type": "error",
     "traceback": [
      "\u001b[0;31m---------------------------------------------------------------------------\u001b[0m",
      "\u001b[0;31mTypeError\u001b[0m                                 Traceback (most recent call last)",
      "\u001b[0;32m<ipython-input-41-e106591e5067>\u001b[0m in \u001b[0;36m<module>\u001b[0;34m()\u001b[0m\n\u001b[0;32m----> 1\u001b[0;31m \u001b[0mbalance_df\u001b[0m \u001b[0;34m=\u001b[0m \u001b[0mpd\u001b[0m\u001b[0;34m.\u001b[0m\u001b[0mDataFrame\u001b[0m\u001b[0;34m[\u001b[0m\u001b[0;34m'api_column_url_balance'\u001b[0m\u001b[0;34m]\u001b[0m\u001b[0;34m.\u001b[0m\u001b[0msum\u001b[0m\u001b[0;34m(\u001b[0m\u001b[0;34m)\u001b[0m\u001b[0;34m\u001b[0m\u001b[0m\n\u001b[0m",
      "\u001b[0;31mTypeError\u001b[0m: 'type' object has no attribute '__getitem__'"
     ]
    }
   ],
   "source": [
    "plomo_df['api_column_url_balance'].sum()"
   ]
  },
  {
   "cell_type": "markdown",
   "metadata": {},
   "source": [
    "## Kimono Labs\n",
    "\n"
   ]
  },
  {
   "cell_type": "markdown",
   "metadata": {},
   "source": [
    "Web scraping with the Kimono Labs API\n",
    "\n",
    "https://www.kimonolabs.com/\n",
    "\n",
    "Kimono labs has undergone a bit of a redesign in recent months and now encourages crawling for all the data you'd want ahead of time and extracting the batch in a series of calls. To create an api, follow the kimono labs walkthrough. To generate a large amount of data like we will here, a series of screenshot walkthroughs have been added.\n",
    "\n",
    "After creating an API from an advanced search query as walked through in class, navigate to the Crawl Setup tab from the API management page in kimono."
   ]
  },
  {
   "cell_type": "code",
   "execution_count": null,
   "metadata": {
    "collapsed": false
   },
   "outputs": [],
   "source": [
    "from IPython.display import Image\n",
    "Image(filename='KL_Crawl_Setup.png') "
   ]
  },
  {
   "cell_type": "markdown",
   "metadata": {},
   "source": [
    "Change the crawl strategy to Generated URL List"
   ]
  },
  {
   "cell_type": "code",
   "execution_count": null,
   "metadata": {
    "collapsed": false
   },
   "outputs": [],
   "source": [
    "from IPython.display import Image\n",
    "Image(filename='KL_Generated_URL_List.png') "
   ]
  },
  {
   "cell_type": "markdown",
   "metadata": {},
   "source": [
    "From here you can automatically generate a list of pages to extract data from, with the caveat that the pages you are navigating all have roughly the same structure. Here we are going to look for the top boxoffice_gross_us from 1990 to 2014. "
   ]
  },
  {
   "cell_type": "code",
   "execution_count": null,
   "metadata": {
    "collapsed": false
   },
   "outputs": [],
   "source": [
    "from IPython.display import Image\n",
    "Image(filename='KL_Parameter_range.png') "
   ]
  },
  {
   "cell_type": "code",
   "execution_count": null,
   "metadata": {
    "collapsed": false
   },
   "outputs": [],
   "source": [
    "#After you let the data crawl the page, you can update the data here.\n",
    "\n",
    "import json\n",
    "import urllib\n",
    "\n",
    "results = json.load(urllib.urlopen(\"https://www.kimonolabs.com/api/eb81bu78?apikey=4WrTjTsFDGmHCLnYrAXeSLIjJYcfrG7j\"))\n",
    "results"
   ]
  },
  {
   "cell_type": "code",
   "execution_count": null,
   "metadata": {
    "collapsed": false
   },
   "outputs": [],
   "source": [
    "your_key = \"4WrTjTsFDGmHCLnYrAXeSLIjJYcfrG7j\"\n",
    "your_endpoint = \"eb81bu78\"\n",
    "import json\n",
    "import urllib\n",
    "import pandas as pd\n",
    "\n",
    "def getMovies(api_key=your_key,endpoint=your_endpoint):\n",
    "    \"\"\"\n",
    "    Creates list of top 50 movies by gross box office\n",
    "    sales for a with ratings and sales\n",
    "    \"\"\"\n",
    "    \n",
    "    movies, ratings, sales, years = [], [], [], []\n",
    "    #Remember to replace this link with the link to your specifc API\n",
    "    url = \"https://www.kimonolabs.com/api/{}?\".format(endpoint) + \\\n",
    "            \"apikey={}\".format(api_key)\n",
    "    data = json.load(urllib.urlopen(url))\n",
    "    \n",
    "    # Iterate through json object to collect data\n",
    "    for n in xrange(data['count']):\n",
    "        n_title = data['results']['collection1'][n]['title']['text']\n",
    "        n_rating = float(data['results']['collection1'][n]['rating'])\n",
    "        n_sales = float(data['results']['collection1'][n]['sales'][1:-1])\n",
    "        n_year = int(data['results']['collection1'][n]['url'][-4:])\n",
    "        movies.append(n_title)\n",
    "        ratings.append(n_rating)\n",
    "        sales.append(n_sales)\n",
    "        years.append(n_year)\n",
    "    data = pd.DataFrame({'movie':movies,'rating':ratings,'sales_in_M':sales,'year':years})\n",
    "    \n",
    "    return data\n",
    "movies = getMovies()\n",
    "movies.head()"
   ]
  },
  {
   "cell_type": "markdown",
   "metadata": {},
   "source": [
    "Note a few things: The function we wrote relies on extracting pieces of a string and converting them to numeric types. Here, the year can be extracted from the url used to generate the movies, so we use the slice `[-4:]` to identify that. Similarly, the gross cost comes out as $##M, so we know we never want the first or last value. Thus the slice `[1:-1]` is correct."
   ]
  },
  {
   "cell_type": "markdown",
   "metadata": {},
   "source": [
    "###Exercise 2.1\n",
    "Build your own api via kimono at https://www.kimonolabs.com/. Create the api we created in class to call the data.\n",
    "\n",
    "What were the average sales in 1995?\n",
    "What was the average rating?"
   ]
  },
  {
   "cell_type": "code",
   "execution_count": null,
   "metadata": {
    "collapsed": false
   },
   "outputs": [],
   "source": []
  },
  {
   "cell_type": "markdown",
   "metadata": {},
   "source": [
    "###Bonus\n",
    "What were the average sales for the 90s? How does that differ from the 2000s?"
   ]
  },
  {
   "cell_type": "code",
   "execution_count": null,
   "metadata": {
    "collapsed": false
   },
   "outputs": [],
   "source": []
  }
 ],
 "metadata": {
  "kernelspec": {
   "display_name": "Python 2",
   "language": "python",
   "name": "python2"
  },
  "language_info": {
   "codemirror_mode": {
    "name": "ipython",
    "version": 2
   },
   "file_extension": ".py",
   "mimetype": "text/x-python",
   "name": "python",
   "nbconvert_exporter": "python",
   "pygments_lexer": "ipython2",
   "version": "2.7.10"
  }
 },
 "nbformat": 4,
 "nbformat_minor": 0
}
