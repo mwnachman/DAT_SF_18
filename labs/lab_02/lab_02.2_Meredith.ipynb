{
 "cells": [
  {
   "cell_type": "markdown",
   "metadata": {},
   "source": [
    "# Linear Algebra"
   ]
  },
  {
   "cell_type": "markdown",
   "metadata": {},
   "source": [
    "#### Importing Packages\n",
    "Python has an extensive collection of third-party libraries, or ***packages***, with additional functions, data-structures, etc.  Many (most?) packages of interest are hosted on the Python Package Index ***pypi***, and can be installed into your environment using ***pip***.  The Anaconda distribution in the pre-work includes a number of these that are useful in data science, so you should have most of them installed already.  \n",
    "\n",
    "ref:  https://pypi.python.org/pypi"
   ]
  },
  {
   "cell_type": "markdown",
   "metadata": {},
   "source": [
    "A note on namespaces when importing - there are a few different ways to import:\n",
    "\n",
    "    1. import numpy\n",
    "\n",
    "    - all submodules of numpy are accessible in the numpy namespace\n",
    "    - e.g. numpy.array([1,2,3])\n",
    "\n",
    "\n",
    "    2. import numpy as np\n",
    "\n",
    "    - same as 1 except an alias 'np' is created for the namespace instead\n",
    "    - e.g. np.array([1,2,3])\n",
    "\n",
    "\n",
    "    3. from numpy import *\n",
    "\n",
    "    - adds all submodules to global namespace\n",
    "    - e.g. array([1,2,3])\n",
    "    - Note: This can be dangerous because if different modules have submodules with the same name than whatever is imported last will overrite what came before it - i.e. naming collision -> overwriting!.\n",
    "    \n",
    "    4. from numpy import array\n",
    "    \n",
    "    - will import only the indicated submodules into the global namespace\n",
    "    - e.g. array([1,2,3])\n",
    "    - Note: can be ok since you are being explicit\n",
    "    \n",
    "    We will generally use 2 and 4 (sparingly)"
   ]
  },
  {
   "cell_type": "markdown",
   "metadata": {
    "collapsed": true
   },
   "source": [
    "### NumPy\n",
    "\n",
    "As we've seen in lecture, linear algebra is the branch of mathematics describing navigation between different vector spaces. This core concept is very important as various data science techniques rely upon it (e.g. Linear Regression, Support Vector Machines, Recommender Systems, Neural Networks).\n",
    "\n",
    "NumPy is a package designed to be used in scientific computing, and specifically around building and manipulating N-dimensional array objects."
   ]
  },
  {
   "cell_type": "code",
   "execution_count": 2,
   "metadata": {
    "collapsed": false
   },
   "outputs": [],
   "source": [
    "import numpy\n",
    "\n",
    "import numpy as np\n",
    "\n",
    "from numpy import absolute\n",
    "\n",
    "# The next one is dangerous to do, and not recommended \n",
    "# except in cases where you know why you're using it\n",
    "# from numpy import *"
   ]
  },
  {
   "cell_type": "markdown",
   "metadata": {},
   "source": [
    "Now we can do the same thing three ways"
   ]
  },
  {
   "cell_type": "code",
   "execution_count": 3,
   "metadata": {
    "collapsed": false
   },
   "outputs": [
    {
     "name": "stdout",
     "output_type": "stream",
     "text": [
      "10\n",
      "10\n",
      "10\n"
     ]
    }
   ],
   "source": [
    "print numpy.absolute(-10)\n",
    "print np.absolute(-10)\n",
    "print absolute(-10)"
   ]
  },
  {
   "cell_type": "markdown",
   "metadata": {},
   "source": [
    "We can create the Linear Algebra Objects we saw in lecture"
   ]
  },
  {
   "cell_type": "code",
   "execution_count": 3,
   "metadata": {
    "collapsed": false
   },
   "outputs": [],
   "source": [
    "vector = np.array([1, 2, 1])"
   ]
  },
  {
   "cell_type": "code",
   "execution_count": 4,
   "metadata": {
    "collapsed": false
   },
   "outputs": [
    {
     "data": {
      "text/plain": [
       "array([[1, 2, 3],\n",
       "       [2, 4, 9]])"
      ]
     },
     "execution_count": 4,
     "metadata": {},
     "output_type": "execute_result"
    }
   ],
   "source": [
    "data = np.array([[1, 2, 3],[2, 4, 9]])\n",
    "data"
   ]
  },
  {
   "cell_type": "code",
   "execution_count": 5,
   "metadata": {
    "collapsed": false
   },
   "outputs": [
    {
     "data": {
      "text/plain": [
       "array([1, 2, 3])"
      ]
     },
     "execution_count": 5,
     "metadata": {},
     "output_type": "execute_result"
    }
   ],
   "source": [
    "data[0]  # first row"
   ]
  },
  {
   "cell_type": "code",
   "execution_count": 6,
   "metadata": {
    "collapsed": false
   },
   "outputs": [
    {
     "data": {
      "text/plain": [
       "array([2, 4])"
      ]
     },
     "execution_count": 6,
     "metadata": {},
     "output_type": "execute_result"
    }
   ],
   "source": [
    "data[ : , 1]  # all rows, second column"
   ]
  },
  {
   "cell_type": "markdown",
   "metadata": {},
   "source": [
    "Numpy lets us perform matrix operations"
   ]
  },
  {
   "cell_type": "code",
   "execution_count": 9,
   "metadata": {
    "collapsed": false
   },
   "outputs": [
    {
     "data": {
      "text/plain": [
       "array([2])"
      ]
     },
     "execution_count": 9,
     "metadata": {},
     "output_type": "execute_result"
    }
   ],
   "source": [
    "data[ : 1, 1] # second column, first position"
   ]
  },
  {
   "cell_type": "code",
   "execution_count": 10,
   "metadata": {
    "collapsed": false
   },
   "outputs": [
    {
     "data": {
      "text/plain": [
       "array([ 8, 19])"
      ]
     },
     "execution_count": 10,
     "metadata": {},
     "output_type": "execute_result"
    }
   ],
   "source": [
    "np.dot(data, vector)"
   ]
  },
  {
   "cell_type": "markdown",
   "metadata": {},
   "source": [
    "We can transpose an array"
   ]
  },
  {
   "cell_type": "code",
   "execution_count": 11,
   "metadata": {
    "collapsed": false
   },
   "outputs": [
    {
     "name": "stdout",
     "output_type": "stream",
     "text": [
      "[[1 2 3]\n",
      " [2 4 9]]\n",
      "[[1 2]\n",
      " [2 4]\n",
      " [3 9]]\n"
     ]
    }
   ],
   "source": [
    "print data\n",
    "print data.T"
   ]
  },
  {
   "cell_type": "markdown",
   "metadata": {},
   "source": [
    "#### Creating a square matrix array"
   ]
  },
  {
   "cell_type": "code",
   "execution_count": 12,
   "metadata": {
    "collapsed": false
   },
   "outputs": [
    {
     "data": {
      "text/plain": [
       "array([[ 0,  1,  2,  3,  4],\n",
       "       [ 5,  6,  7,  8,  9],\n",
       "       [10, 11, 12, 13, 14],\n",
       "       [15, 16, 17, 18, 19],\n",
       "       [20, 21, 22, 23, 24]])"
      ]
     },
     "execution_count": 12,
     "metadata": {},
     "output_type": "execute_result"
    }
   ],
   "source": [
    "a = np.arange(25).reshape(5,5)\n",
    "# arange(n) is a function that creates a 1 row array of integers of length n \n",
    "# reshape(M,N) is a method converts a list to a matrix of size MxN\n",
    "a"
   ]
  },
  {
   "cell_type": "code",
   "execution_count": 13,
   "metadata": {
    "collapsed": false
   },
   "outputs": [
    {
     "data": {
      "text/plain": [
       "array([[  0,  10,  20,  30,  40],\n",
       "       [ 50,  60,  70,  80,  90],\n",
       "       [100, 110, 120, 130, 140],\n",
       "       [150, 160, 170, 180, 190],\n",
       "       [200, 210, 220, 230, 240]])"
      ]
     },
     "execution_count": 13,
     "metadata": {},
     "output_type": "execute_result"
    }
   ],
   "source": [
    "biga = a*10\n",
    "biga"
   ]
  },
  {
   "cell_type": "code",
   "execution_count": 14,
   "metadata": {
    "collapsed": false
   },
   "outputs": [
    {
     "name": "stdout",
     "output_type": "stream",
     "text": [
      "120.0\n",
      "[ 100.  110.  120.  130.  140.]\n"
     ]
    },
    {
     "data": {
      "text/plain": [
       "array([  20.,   70.,  120.,  170.,  220.])"
      ]
     },
     "execution_count": 14,
     "metadata": {},
     "output_type": "execute_result"
    }
   ],
   "source": [
    "print biga.mean()\n",
    "print biga.mean(axis=0) #Average per column; the zero is telling it which axis to work off of\n",
    "biga.mean(axis=1) #average per row\n",
    "# type(biga.mean(1))"
   ]
  },
  {
   "cell_type": "code",
   "execution_count": 15,
   "metadata": {
    "collapsed": false
   },
   "outputs": [
    {
     "data": {
      "text/plain": [
       "array([[-20, -10,   0,  10,  20],\n",
       "       [ 30,  40,  50,  60,  70],\n",
       "       [ 80,  90, 100, 110, 120],\n",
       "       [130, 140, 150, 160, 170],\n",
       "       [180, 190, 200, 210, 220]])"
      ]
     },
     "execution_count": 15,
     "metadata": {},
     "output_type": "execute_result"
    }
   ],
   "source": [
    "biga-20"
   ]
  },
  {
   "cell_type": "markdown",
   "metadata": {},
   "source": [
    "Creating a matrix with numpy"
   ]
  },
  {
   "cell_type": "code",
   "execution_count": 16,
   "metadata": {
    "collapsed": false
   },
   "outputs": [
    {
     "data": {
      "text/plain": [
       "matrix([[-20, -10,   0,  10,  20],\n",
       "        [ 30,  40,  50,  60,  70],\n",
       "        [ 80,  90, 100, 110, 120],\n",
       "        [130, 140, 150, 160, 170],\n",
       "        [180, 190, 200, 210, 220]])"
      ]
     },
     "execution_count": 16,
     "metadata": {},
     "output_type": "execute_result"
    }
   ],
   "source": [
    "bigm = np.matrix(biga-20)\n",
    "bigm"
   ]
  },
  {
   "cell_type": "markdown",
   "metadata": {},
   "source": [
    "Creating the Inverse of a Matrix"
   ]
  },
  {
   "cell_type": "code",
   "execution_count": 18,
   "metadata": {
    "collapsed": false
   },
   "outputs": [
    {
     "data": {
      "text/plain": [
       "array([[ -2.81474977e+13,  -1.52777778e-03,   5.62949953e+13,\n",
       "         -2.22222222e-02,  -2.81474977e+13],\n",
       "       [  3.51843721e+13,   2.25000000e-02,  -5.27765581e+13,\n",
       "         -3.51843721e+13,   5.27765581e+13],\n",
       "       [ -4.22212465e+13,   9.38249922e+13,  -7.97512434e+13,\n",
       "          4.69124961e+13,  -1.87649984e+13],\n",
       "       [  9.14793674e+13,  -1.87649984e+14,   9.26521798e+13,\n",
       "          1.17281240e+13,  -8.20968682e+12],\n",
       "       [ -5.62949953e+13,   9.38249922e+13,  -1.64193736e+13,\n",
       "         -2.34562481e+13,   2.34562481e+12]])"
      ]
     },
     "execution_count": 18,
     "metadata": {},
     "output_type": "execute_result"
    }
   ],
   "source": [
    "np.linalg.inv(biga-20)  #not everything has an inverse.  if it doesn't it will give you an error"
   ]
  },
  {
   "cell_type": "markdown",
   "metadata": {},
   "source": [
    "#### Slices"
   ]
  },
  {
   "cell_type": "code",
   "execution_count": 19,
   "metadata": {
    "collapsed": false
   },
   "outputs": [
    {
     "name": "stdout",
     "output_type": "stream",
     "text": [
      "[[-20 -10   0  10  20]\n",
      " [ 30  40  50  60  70]\n",
      " [ 80  90 100 110 120]\n",
      " [130 140 150 160 170]\n",
      " [180 190 200 210 220]]\n"
     ]
    },
    {
     "data": {
      "text/plain": [
       "array([-20, -10,   0,  10,  20])"
      ]
     },
     "execution_count": 19,
     "metadata": {},
     "output_type": "execute_result"
    }
   ],
   "source": [
    "bigm = np.array(bigm)  #turning it back into an array - instead of a matrix which has special numpy functionality\n",
    "# as opposed to an array which is just a list\n",
    "print bigm\n",
    "bigm[0]  #prints first row"
   ]
  },
  {
   "cell_type": "code",
   "execution_count": 20,
   "metadata": {
    "collapsed": false
   },
   "outputs": [
    {
     "name": "stdout",
     "output_type": "stream",
     "text": [
      "[[  0  10  20  30  40]\n",
      " [ 50  60  70  80  90]\n",
      " [100 110 120 130 140]\n",
      " [150 160 170 180 190]\n",
      " [200 210 220 230 240]]\n"
     ]
    },
    {
     "data": {
      "text/plain": [
       "array([ 0, 10, 20, 30, 40])"
      ]
     },
     "execution_count": 20,
     "metadata": {},
     "output_type": "execute_result"
    }
   ],
   "source": [
    "#Same thing, but demonstrating the full slice with a colon\n",
    "print biga\n",
    "biga[0,:] "
   ]
  },
  {
   "cell_type": "code",
   "execution_count": 21,
   "metadata": {
    "collapsed": false
   },
   "outputs": [
    {
     "name": "stdout",
     "output_type": "stream",
     "text": [
      "[[  0  10  20  30  40]\n",
      " [ 50  60  70  80  90]\n",
      " [100 110 120 130 140]\n",
      " [150 160 170 180 190]\n",
      " [200 210 220 230 240]]\n"
     ]
    },
    {
     "data": {
      "text/plain": [
       "array([ 20,  70, 120, 170, 220])"
      ]
     },
     "execution_count": 21,
     "metadata": {},
     "output_type": "execute_result"
    }
   ],
   "source": [
    "print biga\n",
    "biga[:,2] # middle column of biga"
   ]
  },
  {
   "cell_type": "markdown",
   "metadata": {},
   "source": [
    "#### Describing your Arrays"
   ]
  },
  {
   "cell_type": "code",
   "execution_count": 22,
   "metadata": {
    "collapsed": false
   },
   "outputs": [
    {
     "data": {
      "text/plain": [
       "array([[[ 0,  1],\n",
       "        [ 2,  3],\n",
       "        [ 4,  5]],\n",
       "\n",
       "       [[ 6,  7],\n",
       "        [ 8,  9],\n",
       "        [10, 11]],\n",
       "\n",
       "       [[12, 13],\n",
       "        [14, 15],\n",
       "        [16, 17]],\n",
       "\n",
       "       [[18, 19],\n",
       "        [20, 21],\n",
       "        [22, 23]],\n",
       "\n",
       "       [[24, 25],\n",
       "        [26, 27],\n",
       "        [28, 29]]])"
      ]
     },
     "execution_count": 22,
     "metadata": {},
     "output_type": "execute_result"
    }
   ],
   "source": [
    "compa = np.arange(30).reshape(5,3,2)  # numbers zero to 29, the tells the dimensions of the datatype\n",
    "compa"
   ]
  },
  {
   "cell_type": "code",
   "execution_count": 23,
   "metadata": {
    "collapsed": false
   },
   "outputs": [
    {
     "name": "stdout",
     "output_type": "stream",
     "text": [
      "(5, 3, 2)\n",
      "3\n",
      "int64\n"
     ]
    }
   ],
   "source": [
    "# lets describe it\n",
    "print compa.shape\n",
    "print compa.ndim\n",
    "print compa.dtype"
   ]
  },
  {
   "cell_type": "code",
   "execution_count": 25,
   "metadata": {
    "collapsed": false
   },
   "outputs": [
    {
     "data": {
      "text/plain": [
       "array([19, 21, 23])"
      ]
     },
     "execution_count": 25,
     "metadata": {},
     "output_type": "execute_result"
    }
   ],
   "source": [
    "compa[3,:,1] # fourth matrix, second column"
   ]
  },
  {
   "cell_type": "code",
   "execution_count": 27,
   "metadata": {
    "collapsed": false
   },
   "outputs": [
    {
     "data": {
      "text/plain": [
       "5"
      ]
     },
     "execution_count": 27,
     "metadata": {},
     "output_type": "execute_result"
    }
   ],
   "source": [
    "# We can assign values using list-like index\n",
    "# But be careful on types\n",
    "# this rounds down because we said we wanted an integer\n",
    "compa[0,0,0] = 5.9\n",
    "compa[0,0,0]"
   ]
  },
  {
   "cell_type": "markdown",
   "metadata": {},
   "source": [
    "We can change the datatype when needed"
   ]
  },
  {
   "cell_type": "code",
   "execution_count": 28,
   "metadata": {
    "collapsed": false
   },
   "outputs": [
    {
     "data": {
      "text/plain": [
       "5.75"
      ]
     },
     "execution_count": 28,
     "metadata": {},
     "output_type": "execute_result"
    }
   ],
   "source": [
    "compa = compa.astype(float)\n",
    "compa[0,0,0] = 5.75\n",
    "compa[0,0,0]"
   ]
  },
  {
   "cell_type": "code",
   "execution_count": 41,
   "metadata": {
    "collapsed": false
   },
   "outputs": [
    {
     "name": "stdout",
     "output_type": "stream",
     "text": [
      "[[[  5.75   1.  ]\n",
      "  [  2.     3.  ]\n",
      "  [  4.     5.  ]]\n",
      "\n",
      " [[  6.     7.  ]\n",
      "  [  8.     9.  ]\n",
      "  [ 10.    11.  ]]\n",
      "\n",
      " [[ 12.    13.  ]\n",
      "  [ 14.    15.  ]\n",
      "  [ 16.    17.  ]]\n",
      "\n",
      " [[ 18.    19.  ]\n",
      "  [ 20.    21.  ]\n",
      "  [ 22.    23.  ]]\n",
      "\n",
      " [[ 24.    25.  ]\n",
      "  [ 26.    27.  ]\n",
      "  [ 28.    29.  ]]]\n"
     ]
    }
   ],
   "source": [
    "print compa"
   ]
  },
  {
   "cell_type": "markdown",
   "metadata": {},
   "source": [
    "#### Stacking arrays\n",
    "\n",
    "You must stack using dimensions of the saem size"
   ]
  },
  {
   "cell_type": "code",
   "execution_count": 29,
   "metadata": {
    "collapsed": false
   },
   "outputs": [
    {
     "name": "stdout",
     "output_type": "stream",
     "text": [
      "H Stack\n",
      "[1 2 3 2 3 4]\n",
      "V Stack\n",
      "[[1 2 3]\n",
      " [2 3 4]]\n"
     ]
    }
   ],
   "source": [
    "a = np.array((1,2,3))\n",
    "b = np.array((2,3,4))\n",
    "print 'H Stack'\n",
    "print np.hstack((a,b))  # hstack stacks horizontally\n",
    "print 'V Stack'\n",
    "print np.vstack((a,b))  # vstack stacks vertically"
   ]
  },
  {
   "cell_type": "code",
   "execution_count": 30,
   "metadata": {
    "collapsed": false
   },
   "outputs": [
    {
     "name": "stdout",
     "output_type": "stream",
     "text": [
      "H Stack\n",
      "[[1 2]\n",
      " [2 3]\n",
      " [3 4]]\n",
      "V Stack\n",
      "[[1]\n",
      " [2]\n",
      " [3]\n",
      " [2]\n",
      " [3]\n",
      " [4]]\n"
     ]
    }
   ],
   "source": [
    "a = np.array([[1],[2],[3]])  # notice how the brackets made it a vertical column\n",
    "b = np.array([[2],[3],[4]])  \n",
    "print 'H Stack'\n",
    "print np.hstack((a,b))\n",
    "print 'V Stack'\n",
    "print np.vstack((a,b))"
   ]
  },
  {
   "cell_type": "markdown",
   "metadata": {},
   "source": [
    "### Using Random Numbers\n",
    "\n",
    "Random numbers are very helpful and are necessary at times for testing data pipelines and running statistical analyses. Functions for creating random values are under numpy.random."
   ]
  },
  {
   "cell_type": "code",
   "execution_count": 31,
   "metadata": {
    "collapsed": false
   },
   "outputs": [
    {
     "data": {
      "text/plain": [
       "array([[ 0.33657047,  0.04664994,  0.28433004,  0.79588933,  0.29269912],\n",
       "       [ 0.60771488,  0.71045076,  0.63625401,  0.10559881,  0.46396262],\n",
       "       [ 0.13766378,  0.627699  ,  0.85654187,  0.87158997,  0.0511931 ],\n",
       "       [ 0.76289337,  0.92061919,  0.10833938,  0.78479162,  0.30455547],\n",
       "       [ 0.77972883,  0.94583118,  0.3605636 ,  0.99278135,  0.36815898]])"
      ]
     },
     "execution_count": 31,
     "metadata": {},
     "output_type": "execute_result"
    }
   ],
   "source": [
    "#Create a randomized array\n",
    "rm = np.random.rand(5,5)\n",
    "rm"
   ]
  },
  {
   "cell_type": "code",
   "execution_count": 32,
   "metadata": {
    "collapsed": false
   },
   "outputs": [
    {
     "data": {
      "text/plain": [
       "(5, 5)"
      ]
     },
     "execution_count": 32,
     "metadata": {},
     "output_type": "execute_result"
    }
   ],
   "source": [
    "rm.shape"
   ]
  },
  {
   "cell_type": "markdown",
   "metadata": {},
   "source": [
    "You can shuffle values randomly as well"
   ]
  },
  {
   "cell_type": "code",
   "execution_count": 33,
   "metadata": {
    "collapsed": false
   },
   "outputs": [
    {
     "data": {
      "text/plain": [
       "array([[ 0.77972883,  0.94583118,  0.3605636 ,  0.99278135,  0.36815898],\n",
       "       [ 0.13766378,  0.627699  ,  0.85654187,  0.87158997,  0.0511931 ],\n",
       "       [ 0.60771488,  0.71045076,  0.63625401,  0.10559881,  0.46396262],\n",
       "       [ 0.33657047,  0.04664994,  0.28433004,  0.79588933,  0.29269912],\n",
       "       [ 0.76289337,  0.92061919,  0.10833938,  0.78479162,  0.30455547]])"
      ]
     },
     "execution_count": 33,
     "metadata": {},
     "output_type": "execute_result"
    }
   ],
   "source": [
    "# This will shuffle along the first index of a multi-dimensional array\n",
    "np.random.shuffle(rm)  # it only shuffles alone one dimension - by column\n",
    "rm"
   ]
  },
  {
   "cell_type": "code",
   "execution_count": 35,
   "metadata": {
    "collapsed": false
   },
   "outputs": [
    {
     "name": "stdout",
     "output_type": "stream",
     "text": [
      "0.526122826769\n",
      "[ 0.52491426  0.65025001  0.44920578  0.71013022  0.29611386]\n",
      "[ 0.68941279  0.50893754  0.50479622  0.35122778  0.5762398 ]\n"
     ]
    }
   ],
   "source": [
    "print rm.mean()\n",
    "print rm.mean(axis=0) #Average per column\n",
    "print rm.mean(axis=1) #average per row"
   ]
  },
  {
   "cell_type": "code",
   "execution_count": 36,
   "metadata": {
    "collapsed": false
   },
   "outputs": [
    {
     "data": {
      "text/plain": [
       "array([[ -2.41014049e-01,   1.80629718e+01,   8.97343937e+00,\n",
       "          1.26958964e+01,   1.11112567e+01,   1.33874639e+01,\n",
       "          2.81852872e+01,   3.19464259e+00,  -4.46599876e+00,\n",
       "          1.31581760e+01,   1.54695116e+01,  -1.13889412e+00,\n",
       "         -4.54518700e+00,  -1.16053455e+01,   4.14067013e+00,\n",
       "          1.58163384e+01,   8.75795160e+00,  -7.02742251e+00,\n",
       "          9.11924176e+00,  -2.41922870e+00,   1.07332947e+01,\n",
       "          3.32532331e+00,  -8.38393911e-01,   9.75335603e+00,\n",
       "         -7.65764677e+00,   2.26033940e+01,  -9.60532660e+00,\n",
       "          1.24351995e+01,   1.57138409e+01,   4.82950888e+00],\n",
       "       [  1.90850939e+01,   1.65816121e+01,   1.10564048e+01,\n",
       "          1.03239795e+00,   7.13392959e+00,   1.04923543e+01,\n",
       "          2.28152190e+00,   8.48982190e+00,   6.10152282e+00,\n",
       "          2.44404457e+01,   3.97943596e+00,   8.54973337e+00,\n",
       "          9.86868904e-02,   1.10190623e+01,  -3.11413565e+00,\n",
       "         -1.23244988e+00,  -7.38383798e+00,   1.47892940e+01,\n",
       "         -5.88362757e+00,   1.99290007e+00,   4.52988934e+00,\n",
       "          3.61687241e+00,   3.97809540e+00,  -1.30412382e+01,\n",
       "          2.52666178e+01,   5.74305716e+00,   1.78674388e+00,\n",
       "         -6.54115791e+00,  -1.09678746e+00,  -4.57742900e+00],\n",
       "       [  5.82157996e+00,  -1.10422522e+01,   1.84631998e+01,\n",
       "         -1.90947908e+01,   7.03025246e+00,  -4.50443578e+00,\n",
       "          5.36576031e+00,   1.87737878e+01,   1.55093953e+01,\n",
       "          1.51523369e+01,   7.59529235e+00,   1.46112241e+01,\n",
       "          1.51884297e+01,   1.09597279e+01,  -4.06668158e+00,\n",
       "          2.63496132e+01,   1.68485872e+01,   1.03792066e+01,\n",
       "          9.75564012e+00,   1.79665667e+01,  -1.32770187e+01,\n",
       "          5.06986171e+00,   8.39214564e+00,   9.85244353e-01,\n",
       "          1.14645671e+01,   7.32949295e+00,   1.13144048e+01,\n",
       "          1.86306058e+01,   2.42091393e+00,   1.81958605e+01],\n",
       "       [  5.60385461e+00,   2.08100280e+01,   1.99356631e+01,\n",
       "         -6.10232434e+00,   5.60870203e+00,   1.89101402e+01,\n",
       "         -4.24171465e+00,  -1.79028532e+00,   2.54676149e+01,\n",
       "          6.56231352e-01,  -1.26078324e+00,   1.99571306e+01,\n",
       "          2.82249676e-01,   9.44858443e+00,   5.34357845e+00,\n",
       "         -5.36042787e+00,   5.64549589e+00,   9.01636396e+00,\n",
       "          8.09188853e+00,   1.19445025e+01,  -1.33943942e+01,\n",
       "         -3.34187660e+00,   2.08316043e+01,   1.19560754e+01,\n",
       "         -5.65092778e+00,   9.60310905e+00,   9.75732777e+00,\n",
       "          1.42584316e+01,   1.25050538e+01,  -1.96351984e+01],\n",
       "       [ -4.51779179e+00,   1.76301343e+01,   5.40037386e-01,\n",
       "          7.87538469e+00,  -6.52298049e+00,  -1.39737562e+01,\n",
       "          8.35273070e+00,   6.06992370e+00,  -3.22468856e+00,\n",
       "          1.50072569e+01,   2.06242487e+01,  -4.91758308e+00,\n",
       "          8.42821481e+00,   1.79218693e+01,   1.90572802e+01,\n",
       "         -1.39918888e+00,   1.27566787e+01,  -2.58152056e+00,\n",
       "          1.06429971e+01,   3.40422623e+00,   2.99600784e+00,\n",
       "          4.41640576e+00,  -3.98668619e+00,   1.71328664e+01,\n",
       "         -4.19260724e+00,   7.21407183e+00,   1.71490470e-01,\n",
       "         -9.47566827e+00,   4.61823632e+00,   1.42979161e+01],\n",
       "       [  1.92055398e+01,   1.13249836e+01,   8.23551515e+00,\n",
       "          1.58364155e+01,   4.20015431e+00,   2.98833006e+00,\n",
       "          1.05930203e+01,   2.41184399e+00,  -1.11819478e+01,\n",
       "         -7.82953656e+00,   1.70054725e+01,   1.03710207e+00,\n",
       "          4.21670246e+00,   1.87469487e+00,   9.19824923e-01,\n",
       "          1.31954194e+01,   1.68646396e+01,   1.87242180e+00,\n",
       "          9.95308929e+00,   9.00903780e+00,   5.79529372e+00,\n",
       "         -3.06225208e+00,   5.78981017e+00,  -5.80917964e+00,\n",
       "         -3.95399707e+00,  -7.33177685e+00,   7.25539503e+00,\n",
       "          6.05887737e+00,   1.06356470e+01,  -1.80330156e+00],\n",
       "       [  7.11869679e+00,   1.72423102e+01,  -1.33738370e+00,\n",
       "          3.82722060e+00,   1.09095864e+01,   1.02700760e+00,\n",
       "          3.74730525e+00,  -9.14352763e+00,  -3.29691169e+00,\n",
       "          6.22877222e+00,  -8.38672881e+00,   1.87187406e+01,\n",
       "          1.71600767e+01,   1.79424904e+01,   3.23324386e+00,\n",
       "          2.39275596e+00,   9.90348882e+00,  -8.95121917e-01,\n",
       "          1.39527086e+00,  -6.60534537e+00,   4.60391333e+00,\n",
       "         -2.36873838e+00,  -4.65501084e+00,   3.27456323e+00,\n",
       "          6.15278483e+00,  -4.98227280e-01,   9.72952160e-01,\n",
       "         -2.51931942e+00,   1.40075599e+01,   9.36855245e+00],\n",
       "       [  7.13975027e+00,   1.15718920e+01,   6.95248356e+00,\n",
       "          4.98256317e+00,   1.62003667e+01,   6.09387622e+00,\n",
       "          5.10075067e+00,   1.24168508e+01,   1.07607576e+01,\n",
       "         -3.67056032e+00,   7.57816979e+00,  -7.30844315e+00,\n",
       "          3.26762258e+00,  -5.56966869e+00,   6.48438587e+00,\n",
       "         -5.46575180e-01,   1.24075408e+01,   1.91510248e+00,\n",
       "          4.44327017e+00,   1.33079586e+00,   1.75403701e+01,\n",
       "          2.13931824e+00,   6.17992978e+00,   3.73762563e-01,\n",
       "         -8.83596218e+00,  -3.58599176e-01,   4.34557748e+00,\n",
       "         -2.06608311e+00,  -9.05595838e+00,   1.43725745e+01],\n",
       "       [ -8.46292789e+00,   4.87191010e+00,   3.83106064e+00,\n",
       "          1.17327536e+00,   4.44572329e+00,   1.15531745e+00,\n",
       "          1.35558731e+01,  -7.08717286e+00,   6.59637176e+00,\n",
       "          8.27834161e+00,   1.19923775e+01,   3.69447394e+00,\n",
       "          2.39588630e-01,   6.59271591e+00,   9.13852378e+00,\n",
       "         -9.88467457e-01,   3.21094121e+00,   5.83025089e+00,\n",
       "         -6.48749821e+00,  -5.53237949e-01,   1.91100013e+01,\n",
       "          1.58469176e+00,   1.89190004e+01,   5.43280490e-01,\n",
       "         -1.55202201e+01,  -7.14554814e+00,   1.56925767e+01,\n",
       "          2.85469834e+00,  -5.06775297e+00,   1.32569474e+00],\n",
       "       [ -1.12941302e+01,  -7.30647900e+00,  -1.46861810e+01,\n",
       "          1.07453787e+01,  -8.20543818e-01,   1.11689798e+01,\n",
       "          1.63130982e+01,  -9.46045204e+00,   3.04096305e+00,\n",
       "          6.51375138e+00,   5.80662867e+00,   2.71104501e+00,\n",
       "          1.45131704e+01,   1.08105523e+01,   8.72900099e+00,\n",
       "          1.08477535e+01,   1.70282439e+00,  -7.21148815e-01,\n",
       "          5.37092504e-01,   9.83505336e+00,   1.23901714e+01,\n",
       "          1.21999262e+01,   3.74391984e+00,   1.07094191e+01,\n",
       "          8.11038181e+00,   1.18118772e+01,   9.18201693e+00,\n",
       "         -8.31625259e+00,   1.39195729e+01,   3.85058110e+00],\n",
       "       [  2.09893488e+01,   1.64445558e+01,   7.64521993e+00,\n",
       "         -4.87610236e+00,   4.99104825e+00,   1.63489927e+01,\n",
       "         -1.26807216e+01,  -5.33069844e+00,   5.70290892e+00,\n",
       "          2.84780665e+00,   1.38596395e+01,   1.82607215e+01,\n",
       "         -1.79893168e+00,  -7.29670748e+00,   9.01702849e+00,\n",
       "         -1.21212414e+01,  -8.52211440e+00,   2.80710969e+00,\n",
       "          8.25332816e+00,   8.40798708e+00,   1.58627280e+01,\n",
       "          7.42905372e+00,   1.48722587e+01,   1.37460545e+01,\n",
       "         -8.22758397e-01,   1.32502964e+01,  -2.68557441e+00,\n",
       "          2.72485549e+01,   1.42732834e+00,   5.34488590e+00],\n",
       "       [  2.41725755e+01,   1.21662066e+01,   1.14600353e+00,\n",
       "          9.39846617e-01,   6.11176339e+00,   4.53738708e+00,\n",
       "         -8.53245169e-01,   9.60689513e+00,   4.60862932e+00,\n",
       "          1.07708828e+01,   2.27733009e+01,   2.64895104e+00,\n",
       "         -3.31902586e+00,  -1.68184888e+01,   6.17189959e+00,\n",
       "         -1.20801001e+01,   1.27085745e+01,   1.38498880e+01,\n",
       "         -5.52041714e+00,   9.29949894e+00,   7.73589469e+00,\n",
       "         -4.00436291e+00,  -4.69770557e+00,   2.34674253e+01,\n",
       "          2.68452805e+00,  -1.11121282e+01,   6.85441356e+00,\n",
       "         -5.55700666e+00,   1.17605222e+01,   2.03404876e+01],\n",
       "       [  4.52293665e+00,   1.48880383e+01,   2.23249639e+01,\n",
       "          3.27938067e+00,  -5.58754557e+00,  -6.67693999e+00,\n",
       "          1.29162105e+01,  -7.79607347e+00,   6.58711537e+00,\n",
       "          6.28476590e+00,   1.37882008e+01,  -1.10453252e+01,\n",
       "          2.35708262e+00,   9.65067078e+00,   6.49500397e+00,\n",
       "         -3.11750631e+00,  -1.10874255e+01,   7.86999358e+00,\n",
       "          2.30495615e+01,   2.89610099e+01,  -3.49503084e-01,\n",
       "          9.83955675e+00,   6.94410310e+00,   4.45706441e+00,\n",
       "         -7.83589113e+00,   1.29702486e+01,   1.82345894e+01,\n",
       "          6.91554807e+00,  -9.25270115e+00,   1.56754152e+01],\n",
       "       [  1.52020857e+01,   1.40854591e+01,   7.17593773e+00,\n",
       "          1.07768094e+01,  -4.68912635e-01,   9.01143057e+00,\n",
       "          2.08994716e+00,   1.34378546e+01,  -8.14803516e+00,\n",
       "          1.54317668e+00,  -2.07476889e+00,  -1.20171657e+01,\n",
       "         -1.43765011e+01,   2.30411349e+01,   1.27198746e+01,\n",
       "          1.20431675e+01,   4.18697704e+00,  -4.32589592e+00,\n",
       "         -9.48139305e-01,   6.63828533e+00,  -9.21931778e+00,\n",
       "         -5.12616131e-01,   9.50245916e-01,   1.94419321e+01,\n",
       "         -5.54265362e+00,   1.07108123e+01,   9.37206085e+00,\n",
       "          1.68235109e+01,   1.37825548e+01,  -4.73688943e-01],\n",
       "       [  8.85739120e+00,  -1.02898418e+01,   1.49641878e+00,\n",
       "          8.69423720e+00,   8.42124926e+00,  -4.81592394e-01,\n",
       "          8.56129374e+00,  -1.24193076e+00,   3.38602125e+00,\n",
       "          6.93331358e+00,   1.98836947e+00,  -1.13323807e+01,\n",
       "         -2.86680531e+00,   1.06379398e+01,   1.60949654e+01,\n",
       "         -1.54593399e+01,   9.40222905e+00,   1.09289424e+01,\n",
       "          5.10502456e+00,   3.97005152e+00,   2.12424426e+00,\n",
       "          1.43616210e+01,   2.07501271e+00,   1.66575297e+01,\n",
       "         -5.12833906e+00,   8.75987301e-01,  -2.17973929e+01,\n",
       "          1.07030340e+01,   2.03920957e+01,   6.59253201e+00],\n",
       "       [  1.68983205e+01,  -4.79103345e+00,   9.69028753e+00,\n",
       "          9.86040815e+00,   6.77462450e-01,  -6.21716131e+00,\n",
       "          1.35192297e+01,   1.58003624e+01,   1.68236212e+01,\n",
       "          1.50629166e+01,   1.62671254e+01,   8.31949073e+00,\n",
       "          9.12962734e-01,   3.89845753e+00,  -1.31819230e+01,\n",
       "         -2.63746638e+00,   1.76325484e+00,  -1.29351638e+01,\n",
       "         -5.05138894e+00,   3.15620726e+00,   8.17633479e+00,\n",
       "         -5.46025393e+00,   8.02967780e+00,   1.28641412e+01,\n",
       "         -3.60652030e+00,   4.24015254e+00,   8.69607210e-01,\n",
       "         -2.07487714e+01,  -5.81770351e+00,   6.95056939e+00],\n",
       "       [  1.76046373e+01,   2.34575333e+00,   9.53345476e+00,\n",
       "          1.08868814e+01,   9.83503008e+00,  -5.87273146e+00,\n",
       "          1.74154085e+01,   1.36370560e+01,   1.47114934e+01,\n",
       "          1.08230106e+01,   1.53881065e+01,   5.59649962e+00,\n",
       "          1.38461951e+01,   1.11257755e+00,  -3.19206374e+00,\n",
       "         -9.14528202e+00,   6.23918580e+00,   2.18019919e+01,\n",
       "          1.86177623e+01,   1.78041876e+01,   1.15609388e+01,\n",
       "         -1.17780694e+01,   1.31762524e+01,  -8.91772469e+00,\n",
       "          9.25118250e+00,   8.17601212e+00,   5.65077656e+00,\n",
       "          2.40838397e-01,   2.09639483e+00,   4.70155196e+00],\n",
       "       [ -6.06015372e+00,   3.44302506e+01,   3.06981209e+00,\n",
       "          9.18560138e+00,   1.21419239e+01,   6.98957294e+00,\n",
       "         -8.27598521e+00,  -8.23834070e+00,   7.87968404e-01,\n",
       "          1.26013591e+01,   4.34130793e+00,  -6.95578880e-01,\n",
       "          3.90355507e+00,  -9.47745871e-01,   1.27741882e+01,\n",
       "          1.80929150e+00,   9.09293137e+00,   2.06004320e+01,\n",
       "          6.20901212e+00,   1.84800005e+00,   1.65667847e+01,\n",
       "          8.82984475e+00,  -2.33837890e+00,  -1.25997266e+01,\n",
       "          1.41037275e+01,   1.17676191e+01,  -1.54627052e+01,\n",
       "          1.48225587e+00,   7.30049485e+00,   1.38254340e+00],\n",
       "       [  1.31078353e+01,   1.51035585e+01,   1.97681447e+01,\n",
       "         -7.63641371e+00,   1.74217465e+01,  -1.48577006e+01,\n",
       "          3.86161688e+00,   7.11773791e+00,   5.40984090e+00,\n",
       "          1.30472217e+01,   1.18583981e+01,   1.49698636e+01,\n",
       "          5.07904048e+00,   3.29918100e+00,   7.00756515e+00,\n",
       "          8.69986862e+00,  -4.38462201e+00,   6.30275907e+00,\n",
       "          4.24020612e+00,   6.49690103e+00,  -2.44353216e+00,\n",
       "         -1.02068394e+01,  -7.44704550e+00,   5.42211423e+00,\n",
       "          1.48299212e+01,   1.55729611e+01,   1.03623048e+01,\n",
       "         -1.11743948e+00,  -1.61857469e+01,   1.10811047e+01],\n",
       "       [ -7.31960963e+00,   1.88232377e+00,   1.13212981e+01,\n",
       "          2.36979539e+00,  -3.24101621e+00,  -6.28896061e+00,\n",
       "          1.57337690e+01,   6.31789163e+00,   5.14724095e+00,\n",
       "          3.57056497e+00,   1.15769821e+01,  -1.11862968e+01,\n",
       "          1.89294111e+01,  -8.60627849e+00,   3.63478047e+00,\n",
       "          9.72371187e+00,   1.61204567e+00,   4.68258894e+00,\n",
       "         -5.00378348e+00,   1.12899799e+01,   1.15353547e+01,\n",
       "         -4.44800244e+00,   1.21496745e+01,  -8.97966794e-01,\n",
       "          5.46660079e+00,   8.74880239e+00,   6.64864105e+00,\n",
       "         -7.81799293e+00,   9.31287775e+00,   1.52924315e+01],\n",
       "       [ -3.87155153e+00,   4.69932853e+00,   1.52472521e+01,\n",
       "         -6.82499370e+00,  -3.68095897e+00,   1.44688193e+01,\n",
       "          1.19134708e+00,   2.22709533e+00,   1.12470665e+01,\n",
       "          7.96913234e+00,   7.78426553e+00,   1.15844834e+01,\n",
       "          2.14712323e+01,   1.94875267e+00,  -8.49233711e-02,\n",
       "          2.57854066e+00,   6.45466256e+00,  -1.40945411e+01,\n",
       "          1.28557606e+01,   1.70751302e+01,   7.31875401e-01,\n",
       "         -1.06640124e+01,   2.22311225e+00,  -1.05533688e+01,\n",
       "          6.94316774e-01,   5.47184219e+00,   1.64053711e+00,\n",
       "          5.51913451e+00,   1.12729456e+01,   5.04547260e+00],\n",
       "       [  8.68446399e-01,   7.43148491e-01,  -3.45406179e+00,\n",
       "         -7.94202907e+00,   1.12844784e+01,   1.45986811e+01,\n",
       "          1.61690312e+00,  -1.43216177e+00,   2.15910712e+01,\n",
       "          5.18259866e+00,   9.07580753e+00,   1.77679742e+01,\n",
       "         -8.92026879e+00,   2.02773475e+00,   9.58609055e+00,\n",
       "         -4.42548476e-01,   5.45430738e+00,  -3.24821519e+00,\n",
       "         -3.10629099e+00,   2.08749149e+00,   5.88164344e+00,\n",
       "          1.27377591e+01,   1.22352321e+00,   1.85125487e+01,\n",
       "         -4.82072992e+00,  -8.61230415e+00,  -1.21982304e+01,\n",
       "          2.45876813e+00,  -6.94632715e+00,  -6.03449065e-01],\n",
       "       [  1.80288780e+00,   1.47643150e+01,   1.37239503e+01,\n",
       "         -9.17744167e+00,  -5.79535820e-01,   4.25699861e+00,\n",
       "         -1.69306888e+00,  -5.29970597e+00,   2.19532940e+01,\n",
       "          7.13276391e+00,  -3.33014226e+00,  -1.24165661e+01,\n",
       "         -6.58457951e+00,   3.49648984e+00,   1.22502511e+00,\n",
       "          1.42555095e+01,   1.31208511e+01,  -5.85846647e+00,\n",
       "          2.82979765e+01,   1.13686990e+01,   3.01045928e+01,\n",
       "         -6.17945244e+00,   1.21292077e+01,   1.57021634e+01,\n",
       "         -5.16493361e-01,   9.00066653e+00,   9.19460700e+00,\n",
       "         -3.42005038e+00,  -7.71224435e+00,   1.60410931e+00],\n",
       "       [  4.77030924e+00,  -8.95269942e+00,   1.32363594e+01,\n",
       "         -5.28253366e+00,  -7.13131847e+00,   5.38013441e+00,\n",
       "          5.59600974e+00,   2.14283422e+01,   1.27512674e+01,\n",
       "         -4.49925397e+00,  -1.88025613e+00,   1.08259521e+01,\n",
       "          7.91489491e+00,   1.33573927e+01,   7.04938855e+00,\n",
       "          7.04682799e+00,   1.05347512e+01,  -1.43306787e+01,\n",
       "         -6.51366790e+00,  -6.18843827e+00,   8.34048078e+00,\n",
       "         -2.08403551e+01,  -6.62019641e-01,  -6.70852780e+00,\n",
       "          2.10868476e+01,   3.65412149e+00,  -4.08908084e+00,\n",
       "         -1.28850549e+00,   6.45602528e+00,   1.47712565e+00],\n",
       "       [ -7.69316095e+00,   8.69953841e+00,   2.93636025e+00,\n",
       "         -2.22601719e+01,   3.62697468e+00,   1.00835060e+01,\n",
       "          2.55860303e+00,   1.05483609e+01,   1.11443674e+01,\n",
       "          6.05681807e+00,  -3.49304447e-01,   2.40955712e+01,\n",
       "         -4.48575083e+00,   1.24815988e+01,   2.31497781e+01,\n",
       "          4.13144529e+00,   9.77746508e+00,   2.07745408e+01,\n",
       "         -4.28608533e+00,   1.45217723e+01,   2.31596509e+00,\n",
       "         -7.22845558e-02,   3.08461315e+00,   1.33233610e+01,\n",
       "         -6.32330334e+00,   1.16324965e+01,   1.03210004e+01,\n",
       "          2.67455709e+00,   1.91910231e+00,   1.57374828e+01],\n",
       "       [  1.83444661e+01,   1.58878262e+01,  -3.52103527e-01,\n",
       "         -3.69207923e+00,   2.67537236e+00,   1.28743464e+01,\n",
       "          2.86533156e+01,   2.01453997e+01,   3.04904246e+00,\n",
       "         -3.79670099e+00,   9.83579963e+00,  -6.99844955e+00,\n",
       "         -7.42509690e+00,  -1.04155900e+01,   7.30689719e+00,\n",
       "          1.97643486e+01,  -8.10084935e+00,   5.79054953e+00,\n",
       "          1.14006700e+01,  -1.22782010e-01,   2.50134167e-01,\n",
       "         -5.35505767e+00,   5.57085295e+00,   6.49989145e+00,\n",
       "          3.71873646e+00,   8.48925023e+00,   6.33575571e+00,\n",
       "         -3.20493957e+00,  -1.02459285e+00,   8.56829480e+00],\n",
       "       [  2.11365733e+01,   2.24302782e+00,   1.79271837e+00,\n",
       "          1.13827700e+01,   6.46671282e+00,  -2.89965839e+00,\n",
       "         -1.15309208e+01,   2.03767225e+01,   6.82236996e+00,\n",
       "          3.02183488e+00,   6.70974166e+00,   4.11818962e-01,\n",
       "         -9.63347117e+00,   8.50917997e+00,   3.45107556e+00,\n",
       "          7.87540772e+00,   5.22207151e+00,   1.23035692e-01,\n",
       "         -2.44056883e+00,  -1.15061927e+01,  -3.13577799e+00,\n",
       "          6.45376270e+00,   1.84240616e+00,  -1.87274118e+00,\n",
       "          5.32002952e+00,   2.99155022e+00,   1.33590828e+01,\n",
       "          1.38544471e+01,   2.55690730e+01,  -7.19105729e-01],\n",
       "       [  4.94087988e+00,   7.36083993e+00,  -2.03770503e+00,\n",
       "         -9.46158507e-01,   1.37175561e+01,   1.29638560e+01,\n",
       "          1.22809860e+01,  -6.15779986e+00,  -7.81533250e-01,\n",
       "         -1.19275934e+00,   1.96412248e+01,   1.66332501e+00,\n",
       "          8.65206760e+00,   8.88848248e+00,   6.53477963e+00,\n",
       "          2.71883550e+01,   2.11006724e+01,   9.53015536e+00,\n",
       "          1.95502333e+00,  -3.19561435e+00,   2.94026189e+00,\n",
       "          1.25897974e+01,  -5.16869179e+00,  -1.35779879e+01,\n",
       "         -7.80452475e+00,  -7.61986854e+00,   3.60547461e+00,\n",
       "         -1.64276168e+00,  -2.72599003e+00,  -1.59732260e+01],\n",
       "       [  8.03544860e+00,   5.69199719e+00,  -1.64539761e+00,\n",
       "          1.74092913e+00,   7.19030847e+00,  -1.78088696e-01,\n",
       "          4.30457938e+00,  -6.96307025e+00,   5.72150241e+00,\n",
       "          1.32550488e-02,   2.21553951e+01,   7.90850416e+00,\n",
       "         -2.16361785e-01,  -4.63944709e+00,   4.02733454e+00,\n",
       "          2.07167353e+00,  -2.09437228e-01,   1.15768359e+01,\n",
       "          1.18262786e+01,   1.10725163e+01,   4.01641848e+00,\n",
       "          7.17163456e+00,  -4.09845828e+00,   1.00418935e+01,\n",
       "          1.94086022e+01,   6.26191022e+00,  -1.97031167e-02,\n",
       "          9.82109444e+00,   6.58165254e+00,   1.54399018e+01],\n",
       "       [  1.10760574e+00,  -4.59826706e+00,   9.94128830e+00,\n",
       "          1.99573968e+01,   1.49765470e+01,   9.21730872e+00,\n",
       "          3.77016955e+00,  -3.26141527e+00,   1.07813514e+01,\n",
       "          3.41774189e+00,   2.02940595e+01,  -5.38759190e+00,\n",
       "          5.54299347e+00,   1.54430739e+01,   1.09203981e+01,\n",
       "         -6.68779842e-01,   1.04220111e+01,   7.92672305e+00,\n",
       "          1.08595116e+01,   5.58783130e-02,   1.56035407e+01,\n",
       "         -4.97494015e-01,   9.16297192e+00,   2.28364945e+00,\n",
       "          1.05077313e+01,  -2.08474582e+00,   3.18594236e+00,\n",
       "          4.64517956e+00,  -6.78094630e-01,  -9.15554014e-01]])"
      ]
     },
     "execution_count": 36,
     "metadata": {},
     "output_type": "execute_result"
    }
   ],
   "source": [
    "# for a different Normal Distribution, use np.random.normal\n",
    "rm = np.random.normal(5,9,(30,30))\n",
    "rm"
   ]
  },
  {
   "cell_type": "code",
   "execution_count": 37,
   "metadata": {
    "collapsed": false
   },
   "outputs": [
    {
     "name": "stdout",
     "output_type": "stream",
     "text": [
      "4.86996207383 which is hopefully close to the input mean\n",
      "84.0821277135 which variance = stdev squared\n",
      "5.05766715902\n"
     ]
    }
   ],
   "source": [
    "print rm.mean(), \"which is hopefully close to the input mean\" - should be 5\n",
    "print rm.var(), \"which variance = stdev squared\"- here, 9 squared\n",
    "print np.median(rm)"
   ]
  },
  {
   "cell_type": "code",
   "execution_count": null,
   "metadata": {
    "collapsed": true
   },
   "outputs": [],
   "source": []
  },
  {
   "cell_type": "markdown",
   "metadata": {},
   "source": [
    "Find more distributions and random functions here: http://docs.scipy.org/doc/numpy/reference/routines.random.html"
   ]
  },
  {
   "cell_type": "markdown",
   "metadata": {},
   "source": [
    "### Exercise 1"
   ]
  },
  {
   "cell_type": "markdown",
   "metadata": {},
   "source": [
    "1) Create a 4x5 array of integers between 0 and 19"
   ]
  },
  {
   "cell_type": "code",
   "execution_count": 40,
   "metadata": {
    "collapsed": false
   },
   "outputs": [
    {
     "data": {
      "text/plain": [
       "array([[ 0,  1,  2,  3,  4],\n",
       "       [ 5,  6,  7,  8,  9],\n",
       "       [10, 11, 12, 13, 14],\n",
       "       [15, 16, 17, 18, 19]])"
      ]
     },
     "execution_count": 40,
     "metadata": {},
     "output_type": "execute_result"
    }
   ],
   "source": [
    "myarray = np.arange(20).reshape(4,5)\n",
    "myarray"
   ]
  },
  {
   "cell_type": "markdown",
   "metadata": {},
   "source": [
    "2) Create a 50x500 array with a mean of 20 and variance of 100. Save it to a variable called  biggie"
   ]
  },
  {
   "cell_type": "code",
   "execution_count": 48,
   "metadata": {
    "collapsed": false
   },
   "outputs": [
    {
     "name": "stdout",
     "output_type": "stream",
     "text": [
      "19.9989809171\n",
      "99.641034047\n",
      "19.9351527112\n"
     ]
    }
   ],
   "source": [
    "biggie = np.random.normal(20, 10, (50,500))\n",
    "biggie\n",
    "print biggie.mean()\n",
    "print biggie.var()\n",
    "print np.median(biggie)"
   ]
  },
  {
   "cell_type": "markdown",
   "metadata": {},
   "source": [
    "3) Change the mean of the array to a value within 1 of 0 and the variance within 1 of 25. Think about what the mean and the variance represent and try using various mathematical operations."
   ]
  },
  {
   "cell_type": "code",
   "execution_count": 49,
   "metadata": {
    "collapsed": true
   },
   "outputs": [],
   "source": [
    "biggie = biggie - 20"
   ]
  },
  {
   "cell_type": "code",
   "execution_count": 50,
   "metadata": {
    "collapsed": true
   },
   "outputs": [],
   "source": [
    "biggie = biggie/2  # why divide by 2 and not 4??"
   ]
  },
  {
   "cell_type": "code",
   "execution_count": 51,
   "metadata": {
    "collapsed": false
   },
   "outputs": [
    {
     "name": "stdout",
     "output_type": "stream",
     "text": [
      "-0.000509541453228\n",
      "24.9102585117\n"
     ]
    }
   ],
   "source": [
    "print biggie.mean()\n",
    "print biggie.var()"
   ]
  },
  {
   "cell_type": "markdown",
   "metadata": {},
   "source": [
    "## Pandas (python package)\n",
    "\n",
    "Pandas is a Python package providing fast, flexible, and expressive data structures designed to make working with “relational” or “labeled” data both easy and intuitive.\n",
    "\n",
    "Pandas is great for tabular/indexed data"
   ]
  },
  {
   "cell_type": "code",
   "execution_count": 52,
   "metadata": {
    "collapsed": true
   },
   "outputs": [],
   "source": [
    "# NOTE: you should normally put all your imports at the top of the file\n",
    "import pandas as pd"
   ]
  },
  {
   "cell_type": "code",
   "execution_count": 53,
   "metadata": {
    "collapsed": false
   },
   "outputs": [],
   "source": [
    "data = pd.read_csv('../data/nytimes.csv')  # .. means move up a directory"
   ]
  },
  {
   "cell_type": "code",
   "execution_count": 54,
   "metadata": {
    "collapsed": false
   },
   "outputs": [
    {
     "data": {
      "text/html": [
       "<div>\n",
       "<table border=\"1\" class=\"dataframe\">\n",
       "  <thead>\n",
       "    <tr style=\"text-align: right;\">\n",
       "      <th></th>\n",
       "      <th>Age</th>\n",
       "      <th>Gender</th>\n",
       "      <th>Impressions</th>\n",
       "      <th>Clicks</th>\n",
       "      <th>Signed_In</th>\n",
       "    </tr>\n",
       "  </thead>\n",
       "  <tbody>\n",
       "    <tr>\n",
       "      <th>0</th>\n",
       "      <td>36</td>\n",
       "      <td>0</td>\n",
       "      <td>3</td>\n",
       "      <td>0</td>\n",
       "      <td>1</td>\n",
       "    </tr>\n",
       "    <tr>\n",
       "      <th>1</th>\n",
       "      <td>73</td>\n",
       "      <td>1</td>\n",
       "      <td>3</td>\n",
       "      <td>0</td>\n",
       "      <td>1</td>\n",
       "    </tr>\n",
       "    <tr>\n",
       "      <th>2</th>\n",
       "      <td>30</td>\n",
       "      <td>0</td>\n",
       "      <td>3</td>\n",
       "      <td>0</td>\n",
       "      <td>1</td>\n",
       "    </tr>\n",
       "    <tr>\n",
       "      <th>3</th>\n",
       "      <td>49</td>\n",
       "      <td>1</td>\n",
       "      <td>3</td>\n",
       "      <td>0</td>\n",
       "      <td>1</td>\n",
       "    </tr>\n",
       "  </tbody>\n",
       "</table>\n",
       "</div>"
      ],
      "text/plain": [
       "   Age  Gender  Impressions  Clicks  Signed_In\n",
       "0   36       0            3       0          1\n",
       "1   73       1            3       0          1\n",
       "2   30       0            3       0          1\n",
       "3   49       1            3       0          1"
      ]
     },
     "execution_count": 54,
     "metadata": {},
     "output_type": "execute_result"
    }
   ],
   "source": [
    "# Note here we're calling the head method on the dataframe to return the 'head' of the \n",
    "# dataframe, in this case the first 4 lines\n",
    "# head() actually creates a new copy of the data, this is important later in the course!  You don't want to end up\n",
    "# with just the first four rows of data!\n",
    "data.head(4)  "
   ]
  },
  {
   "cell_type": "code",
   "execution_count": 55,
   "metadata": {
    "collapsed": false
   },
   "outputs": [
    {
     "data": {
      "text/html": [
       "<div>\n",
       "<table border=\"1\" class=\"dataframe\">\n",
       "  <thead>\n",
       "    <tr style=\"text-align: right;\">\n",
       "      <th></th>\n",
       "      <th>Age</th>\n",
       "      <th>Gender</th>\n",
       "      <th>Impressions</th>\n",
       "      <th>Clicks</th>\n",
       "      <th>Signed_In</th>\n",
       "    </tr>\n",
       "  </thead>\n",
       "  <tbody>\n",
       "    <tr>\n",
       "      <th>0</th>\n",
       "      <td>36</td>\n",
       "      <td>0</td>\n",
       "      <td>3</td>\n",
       "      <td>0</td>\n",
       "      <td>1</td>\n",
       "    </tr>\n",
       "    <tr>\n",
       "      <th>1</th>\n",
       "      <td>73</td>\n",
       "      <td>1</td>\n",
       "      <td>3</td>\n",
       "      <td>0</td>\n",
       "      <td>1</td>\n",
       "    </tr>\n",
       "    <tr>\n",
       "      <th>2</th>\n",
       "      <td>30</td>\n",
       "      <td>0</td>\n",
       "      <td>3</td>\n",
       "      <td>0</td>\n",
       "      <td>1</td>\n",
       "    </tr>\n",
       "    <tr>\n",
       "      <th>3</th>\n",
       "      <td>49</td>\n",
       "      <td>1</td>\n",
       "      <td>3</td>\n",
       "      <td>0</td>\n",
       "      <td>1</td>\n",
       "    </tr>\n",
       "  </tbody>\n",
       "</table>\n",
       "</div>"
      ],
      "text/plain": [
       "   Age  Gender  Impressions  Clicks  Signed_In\n",
       "0   36       0            3       0          1\n",
       "1   73       1            3       0          1\n",
       "2   30       0            3       0          1\n",
       "3   49       1            3       0          1"
      ]
     },
     "execution_count": 55,
     "metadata": {},
     "output_type": "execute_result"
    }
   ],
   "source": [
    "data[0:4] # this way of showing the first four lines just shows them to us -- it doesn't create a new object like .head di"
   ]
  },
  {
   "cell_type": "code",
   "execution_count": 56,
   "metadata": {
    "collapsed": false
   },
   "outputs": [
    {
     "data": {
      "text/plain": [
       "Int64Index([     0,      1,      2,      3,      4,      5,      6,      7,\n",
       "                 8,      9, \n",
       "            ...\n",
       "            458431, 458432, 458433, 458434, 458435, 458436, 458437, 458438,\n",
       "            458439, 458440],\n",
       "           dtype='int64', length=458441)"
      ]
     },
     "execution_count": 56,
     "metadata": {},
     "output_type": "execute_result"
    }
   ],
   "source": [
    "# Each DataFrame has an index\n",
    "# Sometimes you will need to reindex\n",
    "data.index"
   ]
  },
  {
   "cell_type": "code",
   "execution_count": 57,
   "metadata": {
    "collapsed": false
   },
   "outputs": [
    {
     "data": {
      "text/plain": [
       "0         36\n",
       "1         73\n",
       "2         30\n",
       "3         49\n",
       "4         47\n",
       "5         47\n",
       "6          0\n",
       "7         46\n",
       "8         16\n",
       "9         52\n",
       "10         0\n",
       "11        21\n",
       "12         0\n",
       "13        57\n",
       "14        31\n",
       "15         0\n",
       "16        40\n",
       "17        31\n",
       "18        38\n",
       "19         0\n",
       "20        59\n",
       "21        61\n",
       "22        48\n",
       "23        29\n",
       "24         0\n",
       "25        19\n",
       "26        19\n",
       "27        48\n",
       "28        48\n",
       "29        21\n",
       "          ..\n",
       "458411    55\n",
       "458412    68\n",
       "458413     0\n",
       "458414    21\n",
       "458415    35\n",
       "458416    26\n",
       "458417    41\n",
       "458418    58\n",
       "458419    46\n",
       "458420    45\n",
       "458421    46\n",
       "458422    47\n",
       "458423    22\n",
       "458424    21\n",
       "458425    40\n",
       "458426    49\n",
       "458427    43\n",
       "458428    40\n",
       "458429    49\n",
       "458430     0\n",
       "458431    21\n",
       "458432    30\n",
       "458433    21\n",
       "458434    61\n",
       "458435    51\n",
       "458436     0\n",
       "458437     0\n",
       "458438    72\n",
       "458439     0\n",
       "458440     0\n",
       "Name: Age, dtype: int64"
      ]
     },
     "execution_count": 57,
     "metadata": {},
     "output_type": "execute_result"
    }
   ],
   "source": [
    "# This is a Series\n",
    "# A DataFrame is made of of several Series with the same index\n",
    "# The index number moves with the row, even when you sort - it's an identifier for that row, which stays with it as\n",
    "# long as that dataframe exists\n",
    "data.Age"
   ]
  },
  {
   "cell_type": "code",
   "execution_count": 58,
   "metadata": {
    "collapsed": false
   },
   "outputs": [
    {
     "name": "stdout",
     "output_type": "stream",
     "text": [
      "<class 'pandas.core.frame.DataFrame'>\n",
      "Int64Index: 458441 entries, 0 to 458440\n",
      "Data columns (total 5 columns):\n",
      "Age            458441 non-null int64\n",
      "Gender         458441 non-null int64\n",
      "Impressions    458441 non-null int64\n",
      "Clicks         458441 non-null int64\n",
      "Signed_In      458441 non-null int64\n",
      "dtypes: int64(5)\n",
      "memory usage: 21.0 MB\n"
     ]
    }
   ],
   "source": [
    "data.info()"
   ]
  },
  {
   "cell_type": "code",
   "execution_count": 59,
   "metadata": {
    "collapsed": false
   },
   "outputs": [
    {
     "data": {
      "text/html": [
       "<div>\n",
       "<table border=\"1\" class=\"dataframe\">\n",
       "  <thead>\n",
       "    <tr style=\"text-align: right;\">\n",
       "      <th></th>\n",
       "      <th>Age</th>\n",
       "      <th>Gender</th>\n",
       "      <th>Impressions</th>\n",
       "      <th>Clicks</th>\n",
       "      <th>Signed_In</th>\n",
       "    </tr>\n",
       "  </thead>\n",
       "  <tbody>\n",
       "    <tr>\n",
       "      <th>count</th>\n",
       "      <td>458441.000000</td>\n",
       "      <td>458441.000000</td>\n",
       "      <td>458441.000000</td>\n",
       "      <td>458441.000000</td>\n",
       "      <td>458441.000000</td>\n",
       "    </tr>\n",
       "    <tr>\n",
       "      <th>mean</th>\n",
       "      <td>29.482551</td>\n",
       "      <td>0.367037</td>\n",
       "      <td>5.007316</td>\n",
       "      <td>0.092594</td>\n",
       "      <td>0.700930</td>\n",
       "    </tr>\n",
       "    <tr>\n",
       "      <th>std</th>\n",
       "      <td>23.607034</td>\n",
       "      <td>0.481997</td>\n",
       "      <td>2.239349</td>\n",
       "      <td>0.309973</td>\n",
       "      <td>0.457851</td>\n",
       "    </tr>\n",
       "    <tr>\n",
       "      <th>min</th>\n",
       "      <td>0.000000</td>\n",
       "      <td>0.000000</td>\n",
       "      <td>0.000000</td>\n",
       "      <td>0.000000</td>\n",
       "      <td>0.000000</td>\n",
       "    </tr>\n",
       "    <tr>\n",
       "      <th>25%</th>\n",
       "      <td>0.000000</td>\n",
       "      <td>0.000000</td>\n",
       "      <td>3.000000</td>\n",
       "      <td>0.000000</td>\n",
       "      <td>0.000000</td>\n",
       "    </tr>\n",
       "    <tr>\n",
       "      <th>50%</th>\n",
       "      <td>31.000000</td>\n",
       "      <td>0.000000</td>\n",
       "      <td>5.000000</td>\n",
       "      <td>0.000000</td>\n",
       "      <td>1.000000</td>\n",
       "    </tr>\n",
       "    <tr>\n",
       "      <th>75%</th>\n",
       "      <td>48.000000</td>\n",
       "      <td>1.000000</td>\n",
       "      <td>6.000000</td>\n",
       "      <td>0.000000</td>\n",
       "      <td>1.000000</td>\n",
       "    </tr>\n",
       "    <tr>\n",
       "      <th>max</th>\n",
       "      <td>108.000000</td>\n",
       "      <td>1.000000</td>\n",
       "      <td>20.000000</td>\n",
       "      <td>4.000000</td>\n",
       "      <td>1.000000</td>\n",
       "    </tr>\n",
       "  </tbody>\n",
       "</table>\n",
       "</div>"
      ],
      "text/plain": [
       "                 Age         Gender    Impressions         Clicks  \\\n",
       "count  458441.000000  458441.000000  458441.000000  458441.000000   \n",
       "mean       29.482551       0.367037       5.007316       0.092594   \n",
       "std        23.607034       0.481997       2.239349       0.309973   \n",
       "min         0.000000       0.000000       0.000000       0.000000   \n",
       "25%         0.000000       0.000000       3.000000       0.000000   \n",
       "50%        31.000000       0.000000       5.000000       0.000000   \n",
       "75%        48.000000       1.000000       6.000000       0.000000   \n",
       "max       108.000000       1.000000      20.000000       4.000000   \n",
       "\n",
       "           Signed_In  \n",
       "count  458441.000000  \n",
       "mean        0.700930  \n",
       "std         0.457851  \n",
       "min         0.000000  \n",
       "25%         0.000000  \n",
       "50%         1.000000  \n",
       "75%         1.000000  \n",
       "max         1.000000  "
      ]
     },
     "execution_count": 59,
     "metadata": {},
     "output_type": "execute_result"
    }
   ],
   "source": [
    "data.describe()  # will only work on numbers, but will give you all the calculations below"
   ]
  },
  {
   "cell_type": "code",
   "execution_count": 60,
   "metadata": {
    "collapsed": false
   },
   "outputs": [
    {
     "data": {
      "text/plain": [
       "numpy.ndarray"
      ]
     },
     "execution_count": 60,
     "metadata": {},
     "output_type": "execute_result"
    }
   ],
   "source": [
    "# We can change this data into numpy\n",
    "type(data.Age.values)"
   ]
  },
  {
   "cell_type": "markdown",
   "metadata": {},
   "source": [
    "#### Just like in numpy, we can use mean, var, and other functions on the data"
   ]
  },
  {
   "cell_type": "code",
   "execution_count": 61,
   "metadata": {
    "collapsed": false
   },
   "outputs": [
    {
     "name": "stdout",
     "output_type": "stream",
     "text": [
      "29.4825506445\n",
      "557.292044027\n",
      "108\n",
      "0\n"
     ]
    }
   ],
   "source": [
    "print data.Age.mean()\n",
    "print data.Age.var()\n",
    "print data.Age.max()\n",
    "print data.Age.min()"
   ]
  },
  {
   "cell_type": "code",
   "execution_count": 62,
   "metadata": {
    "collapsed": true
   },
   "outputs": [],
   "source": [
    "# Function that groups users by age.\n",
    "def map_age_category(x):\n",
    "    if x < 18:\n",
    "        return '1'\n",
    "    elif x < 25:\n",
    "        return '2'\n",
    "    elif x < 32:\n",
    "        return '3'\n",
    "    elif x < 45:\n",
    "        return '4'\n",
    "    else:\n",
    "        return '5'\n",
    "\n",
    "data['age_categories'] = data['Age'].apply(map_age_category)  # when assigning a value you always use the brackets\n",
    "# this creates a new column called ages_categories"
   ]
  },
  {
   "cell_type": "code",
   "execution_count": 63,
   "metadata": {
    "collapsed": false
   },
   "outputs": [
    {
     "data": {
      "text/html": [
       "<div>\n",
       "<table border=\"1\" class=\"dataframe\">\n",
       "  <thead>\n",
       "    <tr style=\"text-align: right;\">\n",
       "      <th></th>\n",
       "      <th>Age</th>\n",
       "      <th>Gender</th>\n",
       "      <th>Impressions</th>\n",
       "      <th>Clicks</th>\n",
       "      <th>Signed_In</th>\n",
       "      <th>age_categories</th>\n",
       "    </tr>\n",
       "  </thead>\n",
       "  <tbody>\n",
       "    <tr>\n",
       "      <th>0</th>\n",
       "      <td>36</td>\n",
       "      <td>0</td>\n",
       "      <td>3</td>\n",
       "      <td>0</td>\n",
       "      <td>1</td>\n",
       "      <td>4</td>\n",
       "    </tr>\n",
       "    <tr>\n",
       "      <th>1</th>\n",
       "      <td>73</td>\n",
       "      <td>1</td>\n",
       "      <td>3</td>\n",
       "      <td>0</td>\n",
       "      <td>1</td>\n",
       "      <td>5</td>\n",
       "    </tr>\n",
       "    <tr>\n",
       "      <th>2</th>\n",
       "      <td>30</td>\n",
       "      <td>0</td>\n",
       "      <td>3</td>\n",
       "      <td>0</td>\n",
       "      <td>1</td>\n",
       "      <td>3</td>\n",
       "    </tr>\n",
       "    <tr>\n",
       "      <th>3</th>\n",
       "      <td>49</td>\n",
       "      <td>1</td>\n",
       "      <td>3</td>\n",
       "      <td>0</td>\n",
       "      <td>1</td>\n",
       "      <td>5</td>\n",
       "    </tr>\n",
       "    <tr>\n",
       "      <th>4</th>\n",
       "      <td>47</td>\n",
       "      <td>1</td>\n",
       "      <td>11</td>\n",
       "      <td>0</td>\n",
       "      <td>1</td>\n",
       "      <td>5</td>\n",
       "    </tr>\n",
       "  </tbody>\n",
       "</table>\n",
       "</div>"
      ],
      "text/plain": [
       "   Age  Gender  Impressions  Clicks  Signed_In age_categories\n",
       "0   36       0            3       0          1              4\n",
       "1   73       1            3       0          1              5\n",
       "2   30       0            3       0          1              3\n",
       "3   49       1            3       0          1              5\n",
       "4   47       1           11       0          1              5"
      ]
     },
     "execution_count": 63,
     "metadata": {},
     "output_type": "execute_result"
    }
   ],
   "source": [
    "data.head()"
   ]
  },
  {
   "cell_type": "markdown",
   "metadata": {},
   "source": [
    "#### Sorting data"
   ]
  },
  {
   "cell_type": "code",
   "execution_count": 64,
   "metadata": {
    "collapsed": false
   },
   "outputs": [
    {
     "data": {
      "text/html": [
       "<div>\n",
       "<table border=\"1\" class=\"dataframe\">\n",
       "  <thead>\n",
       "    <tr style=\"text-align: right;\">\n",
       "      <th></th>\n",
       "      <th>age_categories</th>\n",
       "      <th>Signed_In</th>\n",
       "      <th>Impressions</th>\n",
       "      <th>Gender</th>\n",
       "      <th>Clicks</th>\n",
       "      <th>Age</th>\n",
       "    </tr>\n",
       "  </thead>\n",
       "  <tbody>\n",
       "    <tr>\n",
       "      <th>0</th>\n",
       "      <td>4</td>\n",
       "      <td>1</td>\n",
       "      <td>3</td>\n",
       "      <td>0</td>\n",
       "      <td>0</td>\n",
       "      <td>36</td>\n",
       "    </tr>\n",
       "    <tr>\n",
       "      <th>1</th>\n",
       "      <td>5</td>\n",
       "      <td>1</td>\n",
       "      <td>3</td>\n",
       "      <td>1</td>\n",
       "      <td>0</td>\n",
       "      <td>73</td>\n",
       "    </tr>\n",
       "    <tr>\n",
       "      <th>2</th>\n",
       "      <td>3</td>\n",
       "      <td>1</td>\n",
       "      <td>3</td>\n",
       "      <td>0</td>\n",
       "      <td>0</td>\n",
       "      <td>30</td>\n",
       "    </tr>\n",
       "    <tr>\n",
       "      <th>3</th>\n",
       "      <td>5</td>\n",
       "      <td>1</td>\n",
       "      <td>3</td>\n",
       "      <td>1</td>\n",
       "      <td>0</td>\n",
       "      <td>49</td>\n",
       "    </tr>\n",
       "    <tr>\n",
       "      <th>4</th>\n",
       "      <td>5</td>\n",
       "      <td>1</td>\n",
       "      <td>11</td>\n",
       "      <td>1</td>\n",
       "      <td>0</td>\n",
       "      <td>47</td>\n",
       "    </tr>\n",
       "  </tbody>\n",
       "</table>\n",
       "</div>"
      ],
      "text/plain": [
       "  age_categories  Signed_In  Impressions  Gender  Clicks  Age\n",
       "0              4          1            3       0       0   36\n",
       "1              5          1            3       1       0   73\n",
       "2              3          1            3       0       0   30\n",
       "3              5          1            3       1       0   49\n",
       "4              5          1           11       1       0   47"
      ]
     },
     "execution_count": 64,
     "metadata": {},
     "output_type": "execute_result"
    }
   ],
   "source": [
    "data.sort_index(axis=1, ascending=False).head()  # using axis of 1 sorts by column\n",
    "# using axis of zero would sort by index number\n",
    "## I Don't understand this one"
   ]
  },
  {
   "cell_type": "code",
   "execution_count": 65,
   "metadata": {
    "collapsed": false
   },
   "outputs": [
    {
     "data": {
      "text/html": [
       "<div>\n",
       "<table border=\"1\" class=\"dataframe\">\n",
       "  <thead>\n",
       "    <tr style=\"text-align: right;\">\n",
       "      <th></th>\n",
       "      <th>Age</th>\n",
       "      <th>Gender</th>\n",
       "      <th>Impressions</th>\n",
       "      <th>Clicks</th>\n",
       "      <th>Signed_In</th>\n",
       "      <th>age_categories</th>\n",
       "    </tr>\n",
       "  </thead>\n",
       "  <tbody>\n",
       "    <tr>\n",
       "      <th>458440</th>\n",
       "      <td>0</td>\n",
       "      <td>0</td>\n",
       "      <td>3</td>\n",
       "      <td>0</td>\n",
       "      <td>0</td>\n",
       "      <td>1</td>\n",
       "    </tr>\n",
       "    <tr>\n",
       "      <th>149914</th>\n",
       "      <td>0</td>\n",
       "      <td>0</td>\n",
       "      <td>5</td>\n",
       "      <td>0</td>\n",
       "      <td>0</td>\n",
       "      <td>1</td>\n",
       "    </tr>\n",
       "    <tr>\n",
       "      <th>149915</th>\n",
       "      <td>0</td>\n",
       "      <td>0</td>\n",
       "      <td>10</td>\n",
       "      <td>1</td>\n",
       "      <td>0</td>\n",
       "      <td>1</td>\n",
       "    </tr>\n",
       "    <tr>\n",
       "      <th>149916</th>\n",
       "      <td>0</td>\n",
       "      <td>0</td>\n",
       "      <td>6</td>\n",
       "      <td>1</td>\n",
       "      <td>0</td>\n",
       "      <td>1</td>\n",
       "    </tr>\n",
       "    <tr>\n",
       "      <th>353762</th>\n",
       "      <td>0</td>\n",
       "      <td>0</td>\n",
       "      <td>3</td>\n",
       "      <td>0</td>\n",
       "      <td>0</td>\n",
       "      <td>1</td>\n",
       "    </tr>\n",
       "  </tbody>\n",
       "</table>\n",
       "</div>"
      ],
      "text/plain": [
       "        Age  Gender  Impressions  Clicks  Signed_In age_categories\n",
       "458440    0       0            3       0          0              1\n",
       "149914    0       0            5       0          0              1\n",
       "149915    0       0           10       1          0              1\n",
       "149916    0       0            6       1          0              1\n",
       "353762    0       0            3       0          0              1"
      ]
     },
     "execution_count": 65,
     "metadata": {},
     "output_type": "execute_result"
    }
   ],
   "source": [
    "data.sort('Signed_In').head()"
   ]
  },
  {
   "cell_type": "code",
   "execution_count": 66,
   "metadata": {
    "collapsed": false
   },
   "outputs": [
    {
     "data": {
      "text/html": [
       "<div>\n",
       "<table border=\"1\" class=\"dataframe\">\n",
       "  <thead>\n",
       "    <tr style=\"text-align: right;\">\n",
       "      <th></th>\n",
       "      <th>col_a</th>\n",
       "      <th>numeric</th>\n",
       "    </tr>\n",
       "  </thead>\n",
       "  <tbody>\n",
       "    <tr>\n",
       "      <th>0</th>\n",
       "      <td>a</td>\n",
       "      <td>1</td>\n",
       "    </tr>\n",
       "    <tr>\n",
       "      <th>1</th>\n",
       "      <td>b</td>\n",
       "      <td>2</td>\n",
       "    </tr>\n",
       "    <tr>\n",
       "      <th>2</th>\n",
       "      <td>c</td>\n",
       "      <td>3</td>\n",
       "    </tr>\n",
       "  </tbody>\n",
       "</table>\n",
       "</div>"
      ],
      "text/plain": [
       "  col_a  numeric\n",
       "0     a        1\n",
       "1     b        2\n",
       "2     c        3"
      ]
     },
     "execution_count": 66,
     "metadata": {},
     "output_type": "execute_result"
    }
   ],
   "source": [
    "ran_data = [\n",
    "    ['a', 1]\n",
    "    , ['b', 2]\n",
    "    , ['c', 3]\n",
    "]\n",
    "df = pd.DataFrame(ran_data, columns=['col_a', 'numeric'])\n",
    "df"
   ]
  },
  {
   "cell_type": "markdown",
   "metadata": {},
   "source": [
    "#### Indexing functions\n",
    "\n",
    "Pandas Dataframes support various methods for indexing:\n",
    "\n",
    "- .iloc\n",
    "- .loc\n",
    "- .ix"
   ]
  },
  {
   "cell_type": "code",
   "execution_count": 67,
   "metadata": {
    "collapsed": false
   },
   "outputs": [
    {
     "data": {
      "text/html": [
       "<div>\n",
       "<table border=\"1\" class=\"dataframe\">\n",
       "  <thead>\n",
       "    <tr style=\"text-align: right;\">\n",
       "      <th></th>\n",
       "      <th>col_a</th>\n",
       "      <th>numeric</th>\n",
       "    </tr>\n",
       "  </thead>\n",
       "  <tbody>\n",
       "    <tr>\n",
       "      <th>0</th>\n",
       "      <td>a</td>\n",
       "      <td>1</td>\n",
       "    </tr>\n",
       "    <tr>\n",
       "      <th>1</th>\n",
       "      <td>b</td>\n",
       "      <td>2</td>\n",
       "    </tr>\n",
       "    <tr>\n",
       "      <th>2</th>\n",
       "      <td>c</td>\n",
       "      <td>3</td>\n",
       "    </tr>\n",
       "  </tbody>\n",
       "</table>\n",
       "</div>"
      ],
      "text/plain": [
       "  col_a  numeric\n",
       "0     a        1\n",
       "1     b        2\n",
       "2     c        3"
      ]
     },
     "execution_count": 67,
     "metadata": {},
     "output_type": "execute_result"
    }
   ],
   "source": [
    "df"
   ]
  },
  {
   "cell_type": "code",
   "execution_count": 68,
   "metadata": {
    "collapsed": false
   },
   "outputs": [
    {
     "data": {
      "text/plain": [
       "col_a      a\n",
       "numeric    1\n",
       "Name: 0, dtype: object"
      ]
     },
     "execution_count": 68,
     "metadata": {},
     "output_type": "execute_result"
    }
   ],
   "source": [
    "# iloc accesses a row by its row number\n",
    "df.iloc[0]"
   ]
  },
  {
   "cell_type": "code",
   "execution_count": 69,
   "metadata": {
    "collapsed": false
   },
   "outputs": [
    {
     "data": {
      "text/html": [
       "<div>\n",
       "<table border=\"1\" class=\"dataframe\">\n",
       "  <thead>\n",
       "    <tr style=\"text-align: right;\">\n",
       "      <th></th>\n",
       "      <th>numeric</th>\n",
       "    </tr>\n",
       "    <tr>\n",
       "      <th>col_a</th>\n",
       "      <th></th>\n",
       "    </tr>\n",
       "  </thead>\n",
       "  <tbody>\n",
       "    <tr>\n",
       "      <th>a</th>\n",
       "      <td>1</td>\n",
       "    </tr>\n",
       "    <tr>\n",
       "      <th>b</th>\n",
       "      <td>2</td>\n",
       "    </tr>\n",
       "    <tr>\n",
       "      <th>c</th>\n",
       "      <td>3</td>\n",
       "    </tr>\n",
       "  </tbody>\n",
       "</table>\n",
       "</div>"
      ],
      "text/plain": [
       "       numeric\n",
       "col_a         \n",
       "a            1\n",
       "b            2\n",
       "c            3"
      ]
     },
     "execution_count": 69,
     "metadata": {},
     "output_type": "execute_result"
    }
   ],
   "source": [
    "df.set_index('col_a', inplace = True)\n",
    "df"
   ]
  },
  {
   "cell_type": "code",
   "execution_count": 70,
   "metadata": {
    "collapsed": false
   },
   "outputs": [],
   "source": [
    "# loc accesses a dataframe row by its index label (or column label)\n",
    "df.loc['a'] = 5\n",
    "df.loc['b'] = 3"
   ]
  },
  {
   "cell_type": "code",
   "execution_count": 71,
   "metadata": {
    "collapsed": false
   },
   "outputs": [
    {
     "data": {
      "text/html": [
       "<div>\n",
       "<table border=\"1\" class=\"dataframe\">\n",
       "  <thead>\n",
       "    <tr style=\"text-align: right;\">\n",
       "      <th></th>\n",
       "      <th>numeric</th>\n",
       "    </tr>\n",
       "    <tr>\n",
       "      <th>col_a</th>\n",
       "      <th></th>\n",
       "    </tr>\n",
       "  </thead>\n",
       "  <tbody>\n",
       "    <tr>\n",
       "      <th>a</th>\n",
       "      <td>5</td>\n",
       "    </tr>\n",
       "    <tr>\n",
       "      <th>b</th>\n",
       "      <td>3</td>\n",
       "    </tr>\n",
       "    <tr>\n",
       "      <th>c</th>\n",
       "      <td>3</td>\n",
       "    </tr>\n",
       "  </tbody>\n",
       "</table>\n",
       "</div>"
      ],
      "text/plain": [
       "       numeric\n",
       "col_a         \n",
       "a            5\n",
       "b            3\n",
       "c            3"
      ]
     },
     "execution_count": 71,
     "metadata": {},
     "output_type": "execute_result"
    }
   ],
   "source": [
    "df"
   ]
  },
  {
   "cell_type": "code",
   "execution_count": 72,
   "metadata": {
    "collapsed": false
   },
   "outputs": [
    {
     "data": {
      "text/html": [
       "<div>\n",
       "<table border=\"1\" class=\"dataframe\">\n",
       "  <thead>\n",
       "    <tr style=\"text-align: right;\">\n",
       "      <th></th>\n",
       "      <th>numeric</th>\n",
       "      <th>C</th>\n",
       "    </tr>\n",
       "    <tr>\n",
       "      <th>col_a</th>\n",
       "      <th></th>\n",
       "      <th></th>\n",
       "    </tr>\n",
       "  </thead>\n",
       "  <tbody>\n",
       "    <tr>\n",
       "      <th>a</th>\n",
       "      <td>5</td>\n",
       "      <td>5</td>\n",
       "    </tr>\n",
       "    <tr>\n",
       "      <th>b</th>\n",
       "      <td>3</td>\n",
       "      <td>3</td>\n",
       "    </tr>\n",
       "    <tr>\n",
       "      <th>c</th>\n",
       "      <td>3</td>\n",
       "      <td>3</td>\n",
       "    </tr>\n",
       "  </tbody>\n",
       "</table>\n",
       "</div>"
      ],
      "text/plain": [
       "       numeric  C\n",
       "col_a            \n",
       "a            5  5\n",
       "b            3  3\n",
       "c            3  3"
      ]
     },
     "execution_count": 72,
     "metadata": {},
     "output_type": "execute_result"
    }
   ],
   "source": [
    "# This can be used to add new columns\n",
    "df.loc[:,'C'] = df.loc[:,'numeric']\n",
    "\n",
    "df"
   ]
  },
  {
   "cell_type": "code",
   "execution_count": 73,
   "metadata": {
    "collapsed": false
   },
   "outputs": [
    {
     "data": {
      "text/html": [
       "<div>\n",
       "<table border=\"1\" class=\"dataframe\">\n",
       "  <thead>\n",
       "    <tr style=\"text-align: right;\">\n",
       "      <th></th>\n",
       "      <th>numeric</th>\n",
       "      <th>C</th>\n",
       "      <th>D</th>\n",
       "    </tr>\n",
       "    <tr>\n",
       "      <th>col_a</th>\n",
       "      <th></th>\n",
       "      <th></th>\n",
       "      <th></th>\n",
       "    </tr>\n",
       "  </thead>\n",
       "  <tbody>\n",
       "    <tr>\n",
       "      <th>a</th>\n",
       "      <td>5</td>\n",
       "      <td>5</td>\n",
       "      <td>5</td>\n",
       "    </tr>\n",
       "    <tr>\n",
       "      <th>b</th>\n",
       "      <td>3</td>\n",
       "      <td>3</td>\n",
       "      <td>3</td>\n",
       "    </tr>\n",
       "    <tr>\n",
       "      <th>c</th>\n",
       "      <td>3</td>\n",
       "      <td>3</td>\n",
       "      <td>3</td>\n",
       "    </tr>\n",
       "  </tbody>\n",
       "</table>\n",
       "</div>"
      ],
      "text/plain": [
       "       numeric  C  D\n",
       "col_a               \n",
       "a            5  5  5\n",
       "b            3  3  3\n",
       "c            3  3  3"
      ]
     },
     "execution_count": 73,
     "metadata": {},
     "output_type": "execute_result"
    }
   ],
   "source": [
    "# is equivalent to:\n",
    "df['D'] = df.loc[:,'numeric']\n",
    "\n",
    "df"
   ]
  },
  {
   "cell_type": "markdown",
   "metadata": {},
   "source": [
    ".ix is the generic form of indexers\n",
    "\n",
    "Values can be set by index and index + column"
   ]
  },
  {
   "cell_type": "code",
   "execution_count": 74,
   "metadata": {
    "collapsed": false
   },
   "outputs": [
    {
     "data": {
      "text/html": [
       "<div>\n",
       "<table border=\"1\" class=\"dataframe\">\n",
       "  <thead>\n",
       "    <tr style=\"text-align: right;\">\n",
       "      <th></th>\n",
       "      <th>numeric</th>\n",
       "      <th>C</th>\n",
       "      <th>D</th>\n",
       "    </tr>\n",
       "    <tr>\n",
       "      <th>col_a</th>\n",
       "      <th></th>\n",
       "      <th></th>\n",
       "      <th></th>\n",
       "    </tr>\n",
       "  </thead>\n",
       "  <tbody>\n",
       "    <tr>\n",
       "      <th>a</th>\n",
       "      <td>5</td>\n",
       "      <td>5</td>\n",
       "      <td>5</td>\n",
       "    </tr>\n",
       "    <tr>\n",
       "      <th>b</th>\n",
       "      <td>3</td>\n",
       "      <td>3</td>\n",
       "      <td>3</td>\n",
       "    </tr>\n",
       "    <tr>\n",
       "      <th>c</th>\n",
       "      <td>2</td>\n",
       "      <td>3</td>\n",
       "      <td>2</td>\n",
       "    </tr>\n",
       "  </tbody>\n",
       "</table>\n",
       "</div>"
      ],
      "text/plain": [
       "       numeric  C  D\n",
       "col_a               \n",
       "a            5  5  5\n",
       "b            3  3  3\n",
       "c            2  3  2"
      ]
     },
     "execution_count": 74,
     "metadata": {},
     "output_type": "execute_result"
    }
   ],
   "source": [
    "df.ix[2] = 2\n",
    "df.ix[2, 'C'] = 3\n",
    "\n",
    "df"
   ]
  },
  {
   "cell_type": "markdown",
   "metadata": {},
   "source": [
    "### Combining DataFrames\n",
    "#### Appending\n",
    "We can append dataframes together"
   ]
  },
  {
   "cell_type": "code",
   "execution_count": 75,
   "metadata": {
    "collapsed": false
   },
   "outputs": [
    {
     "data": {
      "text/html": [
       "<div>\n",
       "<table border=\"1\" class=\"dataframe\">\n",
       "  <thead>\n",
       "    <tr style=\"text-align: right;\">\n",
       "      <th></th>\n",
       "      <th>numeric</th>\n",
       "      <th>C</th>\n",
       "      <th>D</th>\n",
       "    </tr>\n",
       "    <tr>\n",
       "      <th>col_a</th>\n",
       "      <th></th>\n",
       "      <th></th>\n",
       "      <th></th>\n",
       "    </tr>\n",
       "  </thead>\n",
       "  <tbody>\n",
       "    <tr>\n",
       "      <th>a</th>\n",
       "      <td>5</td>\n",
       "      <td>5</td>\n",
       "      <td>5</td>\n",
       "    </tr>\n",
       "    <tr>\n",
       "      <th>b</th>\n",
       "      <td>3</td>\n",
       "      <td>3</td>\n",
       "      <td>3</td>\n",
       "    </tr>\n",
       "    <tr>\n",
       "      <th>c</th>\n",
       "      <td>2</td>\n",
       "      <td>3</td>\n",
       "      <td>2</td>\n",
       "    </tr>\n",
       "    <tr>\n",
       "      <th>a</th>\n",
       "      <td>5</td>\n",
       "      <td>5</td>\n",
       "      <td>5</td>\n",
       "    </tr>\n",
       "    <tr>\n",
       "      <th>b</th>\n",
       "      <td>3</td>\n",
       "      <td>3</td>\n",
       "      <td>3</td>\n",
       "    </tr>\n",
       "    <tr>\n",
       "      <th>c</th>\n",
       "      <td>2</td>\n",
       "      <td>3</td>\n",
       "      <td>2</td>\n",
       "    </tr>\n",
       "  </tbody>\n",
       "</table>\n",
       "</div>"
      ],
      "text/plain": [
       "       numeric  C  D\n",
       "col_a               \n",
       "a            5  5  5\n",
       "b            3  3  3\n",
       "c            2  3  2\n",
       "a            5  5  5\n",
       "b            3  3  3\n",
       "c            2  3  2"
      ]
     },
     "execution_count": 75,
     "metadata": {},
     "output_type": "execute_result"
    }
   ],
   "source": [
    "df_combine = df.append(df)\n",
    "df_combine"
   ]
  },
  {
   "cell_type": "code",
   "execution_count": 76,
   "metadata": {
    "collapsed": false
   },
   "outputs": [
    {
     "data": {
      "text/html": [
       "<div>\n",
       "<table border=\"1\" class=\"dataframe\">\n",
       "  <thead>\n",
       "    <tr style=\"text-align: right;\">\n",
       "      <th></th>\n",
       "      <th>col_a</th>\n",
       "      <th>numeric</th>\n",
       "      <th>C</th>\n",
       "      <th>D</th>\n",
       "    </tr>\n",
       "  </thead>\n",
       "  <tbody>\n",
       "    <tr>\n",
       "      <th>0</th>\n",
       "      <td>a</td>\n",
       "      <td>5</td>\n",
       "      <td>5</td>\n",
       "      <td>5</td>\n",
       "    </tr>\n",
       "    <tr>\n",
       "      <th>1</th>\n",
       "      <td>b</td>\n",
       "      <td>3</td>\n",
       "      <td>3</td>\n",
       "      <td>3</td>\n",
       "    </tr>\n",
       "    <tr>\n",
       "      <th>2</th>\n",
       "      <td>c</td>\n",
       "      <td>2</td>\n",
       "      <td>3</td>\n",
       "      <td>2</td>\n",
       "    </tr>\n",
       "    <tr>\n",
       "      <th>3</th>\n",
       "      <td>a</td>\n",
       "      <td>5</td>\n",
       "      <td>5</td>\n",
       "      <td>5</td>\n",
       "    </tr>\n",
       "    <tr>\n",
       "      <th>4</th>\n",
       "      <td>b</td>\n",
       "      <td>3</td>\n",
       "      <td>3</td>\n",
       "      <td>3</td>\n",
       "    </tr>\n",
       "    <tr>\n",
       "      <th>5</th>\n",
       "      <td>c</td>\n",
       "      <td>2</td>\n",
       "      <td>3</td>\n",
       "      <td>2</td>\n",
       "    </tr>\n",
       "  </tbody>\n",
       "</table>\n",
       "</div>"
      ],
      "text/plain": [
       "  col_a  numeric  C  D\n",
       "0     a        5  5  5\n",
       "1     b        3  3  3\n",
       "2     c        2  3  2\n",
       "3     a        5  5  5\n",
       "4     b        3  3  3\n",
       "5     c        2  3  2"
      ]
     },
     "execution_count": 76,
     "metadata": {},
     "output_type": "execute_result"
    }
   ],
   "source": [
    "# When DataFrames are appended together, we often need to create a new index\n",
    "df_combine.reset_index()"
   ]
  },
  {
   "cell_type": "markdown",
   "metadata": {},
   "source": [
    "#### Join lets us join together dataframes using their index"
   ]
  },
  {
   "cell_type": "code",
   "execution_count": 77,
   "metadata": {
    "collapsed": false
   },
   "outputs": [
    {
     "data": {
      "text/html": [
       "<div>\n",
       "<table border=\"1\" class=\"dataframe\">\n",
       "  <thead>\n",
       "    <tr style=\"text-align: right;\">\n",
       "      <th></th>\n",
       "      <th>col</th>\n",
       "    </tr>\n",
       "  </thead>\n",
       "  <tbody>\n",
       "    <tr>\n",
       "      <th>0</th>\n",
       "      <td>1</td>\n",
       "    </tr>\n",
       "    <tr>\n",
       "      <th>1</th>\n",
       "      <td>2</td>\n",
       "    </tr>\n",
       "    <tr>\n",
       "      <th>2</th>\n",
       "      <td>3</td>\n",
       "    </tr>\n",
       "  </tbody>\n",
       "</table>\n",
       "</div>"
      ],
      "text/plain": [
       "   col\n",
       "0    1\n",
       "1    2\n",
       "2    3"
      ]
     },
     "execution_count": 77,
     "metadata": {},
     "output_type": "execute_result"
    }
   ],
   "source": [
    "df_2 = pd.DataFrame([1, 2, 3], columns=['col'])\n",
    "df_2"
   ]
  },
  {
   "cell_type": "code",
   "execution_count": 78,
   "metadata": {
    "collapsed": false
   },
   "outputs": [
    {
     "data": {
      "text/html": [
       "<div>\n",
       "<table border=\"1\" class=\"dataframe\">\n",
       "  <thead>\n",
       "    <tr style=\"text-align: right;\">\n",
       "      <th></th>\n",
       "      <th>numeric</th>\n",
       "      <th>C</th>\n",
       "      <th>D</th>\n",
       "      <th>col</th>\n",
       "    </tr>\n",
       "    <tr>\n",
       "      <th>col_a</th>\n",
       "      <th></th>\n",
       "      <th></th>\n",
       "      <th></th>\n",
       "      <th></th>\n",
       "    </tr>\n",
       "  </thead>\n",
       "  <tbody>\n",
       "    <tr>\n",
       "      <th>a</th>\n",
       "      <td>5</td>\n",
       "      <td>5</td>\n",
       "      <td>5</td>\n",
       "      <td>NaN</td>\n",
       "    </tr>\n",
       "    <tr>\n",
       "      <th>b</th>\n",
       "      <td>3</td>\n",
       "      <td>3</td>\n",
       "      <td>3</td>\n",
       "      <td>NaN</td>\n",
       "    </tr>\n",
       "    <tr>\n",
       "      <th>c</th>\n",
       "      <td>2</td>\n",
       "      <td>3</td>\n",
       "      <td>2</td>\n",
       "      <td>NaN</td>\n",
       "    </tr>\n",
       "  </tbody>\n",
       "</table>\n",
       "</div>"
      ],
      "text/plain": [
       "       numeric  C  D  col\n",
       "col_a                    \n",
       "a            5  5  5  NaN\n",
       "b            3  3  3  NaN\n",
       "c            2  3  2  NaN"
      ]
     },
     "execution_count": 78,
     "metadata": {},
     "output_type": "execute_result"
    }
   ],
   "source": [
    "# The default is left join, so Null values are placed\n",
    "# where values are misssing\n",
    "df.join(df_2)\n"
   ]
  },
  {
   "cell_type": "code",
   "execution_count": 79,
   "metadata": {
    "collapsed": false
   },
   "outputs": [
    {
     "data": {
      "text/html": [
       "<div>\n",
       "<table border=\"1\" class=\"dataframe\">\n",
       "  <thead>\n",
       "    <tr style=\"text-align: right;\">\n",
       "      <th></th>\n",
       "      <th>col_a</th>\n",
       "      <th>numeric</th>\n",
       "      <th>C</th>\n",
       "      <th>D</th>\n",
       "    </tr>\n",
       "  </thead>\n",
       "  <tbody>\n",
       "    <tr>\n",
       "      <th>0</th>\n",
       "      <td>a</td>\n",
       "      <td>5</td>\n",
       "      <td>5</td>\n",
       "      <td>5</td>\n",
       "    </tr>\n",
       "    <tr>\n",
       "      <th>1</th>\n",
       "      <td>b</td>\n",
       "      <td>3</td>\n",
       "      <td>3</td>\n",
       "      <td>3</td>\n",
       "    </tr>\n",
       "    <tr>\n",
       "      <th>2</th>\n",
       "      <td>c</td>\n",
       "      <td>2</td>\n",
       "      <td>3</td>\n",
       "      <td>2</td>\n",
       "    </tr>\n",
       "  </tbody>\n",
       "</table>\n",
       "</div>"
      ],
      "text/plain": [
       "  col_a  numeric  C  D\n",
       "0     a        5  5  5\n",
       "1     b        3  3  3\n",
       "2     c        2  3  2"
      ]
     },
     "execution_count": 79,
     "metadata": {},
     "output_type": "execute_result"
    }
   ],
   "source": [
    "# reset the index\n",
    "df_1 = df.reset_index()\n",
    "df_1"
   ]
  },
  {
   "cell_type": "code",
   "execution_count": 80,
   "metadata": {
    "collapsed": false
   },
   "outputs": [
    {
     "data": {
      "text/html": [
       "<div>\n",
       "<table border=\"1\" class=\"dataframe\">\n",
       "  <thead>\n",
       "    <tr style=\"text-align: right;\">\n",
       "      <th></th>\n",
       "      <th>col_a</th>\n",
       "      <th>numeric</th>\n",
       "      <th>C</th>\n",
       "      <th>D</th>\n",
       "      <th>col</th>\n",
       "    </tr>\n",
       "  </thead>\n",
       "  <tbody>\n",
       "    <tr>\n",
       "      <th>0</th>\n",
       "      <td>a</td>\n",
       "      <td>5</td>\n",
       "      <td>5</td>\n",
       "      <td>5</td>\n",
       "      <td>1</td>\n",
       "    </tr>\n",
       "    <tr>\n",
       "      <th>1</th>\n",
       "      <td>b</td>\n",
       "      <td>3</td>\n",
       "      <td>3</td>\n",
       "      <td>3</td>\n",
       "      <td>2</td>\n",
       "    </tr>\n",
       "    <tr>\n",
       "      <th>2</th>\n",
       "      <td>c</td>\n",
       "      <td>2</td>\n",
       "      <td>3</td>\n",
       "      <td>2</td>\n",
       "      <td>3</td>\n",
       "    </tr>\n",
       "  </tbody>\n",
       "</table>\n",
       "</div>"
      ],
      "text/plain": [
       "  col_a  numeric  C  D  col\n",
       "0     a        5  5  5    1\n",
       "1     b        3  3  3    2\n",
       "2     c        2  3  2    3"
      ]
     },
     "execution_count": 80,
     "metadata": {},
     "output_type": "execute_result"
    }
   ],
   "source": [
    "# try joining again:\n",
    "df_1.join(df_2)\n"
   ]
  },
  {
   "cell_type": "markdown",
   "metadata": {},
   "source": [
    "#### Merge allows us to join on any fields"
   ]
  },
  {
   "cell_type": "code",
   "execution_count": 81,
   "metadata": {
    "collapsed": false
   },
   "outputs": [
    {
     "data": {
      "text/html": [
       "<div>\n",
       "<table border=\"1\" class=\"dataframe\">\n",
       "  <thead>\n",
       "    <tr style=\"text-align: right;\">\n",
       "      <th></th>\n",
       "      <th>numeric</th>\n",
       "      <th>C</th>\n",
       "      <th>D</th>\n",
       "      <th>col</th>\n",
       "    </tr>\n",
       "  </thead>\n",
       "  <tbody>\n",
       "    <tr>\n",
       "      <th>0</th>\n",
       "      <td>3</td>\n",
       "      <td>3</td>\n",
       "      <td>3</td>\n",
       "      <td>3</td>\n",
       "    </tr>\n",
       "    <tr>\n",
       "      <th>1</th>\n",
       "      <td>2</td>\n",
       "      <td>3</td>\n",
       "      <td>2</td>\n",
       "      <td>2</td>\n",
       "    </tr>\n",
       "  </tbody>\n",
       "</table>\n",
       "</div>"
      ],
      "text/plain": [
       "   numeric  C  D  col\n",
       "0        3  3  3    3\n",
       "1        2  3  2    2"
      ]
     },
     "execution_count": 81,
     "metadata": {},
     "output_type": "execute_result"
    }
   ],
   "source": [
    "# Merge has a default of inner join\n",
    "# So where the join misses rows are omitted\n",
    "df.merge(df_2, left_on='numeric', right_on='col')"
   ]
  },
  {
   "cell_type": "markdown",
   "metadata": {},
   "source": [
    "### Concat combines a list of DataFrames together"
   ]
  },
  {
   "cell_type": "code",
   "execution_count": 82,
   "metadata": {
    "collapsed": false
   },
   "outputs": [
    {
     "data": {
      "text/html": [
       "<div>\n",
       "<table border=\"1\" class=\"dataframe\">\n",
       "  <thead>\n",
       "    <tr style=\"text-align: right;\">\n",
       "      <th></th>\n",
       "      <th>numeric</th>\n",
       "      <th>C</th>\n",
       "      <th>D</th>\n",
       "    </tr>\n",
       "    <tr>\n",
       "      <th>col_a</th>\n",
       "      <th></th>\n",
       "      <th></th>\n",
       "      <th></th>\n",
       "    </tr>\n",
       "  </thead>\n",
       "  <tbody>\n",
       "    <tr>\n",
       "      <th>a</th>\n",
       "      <td>5</td>\n",
       "      <td>5</td>\n",
       "      <td>5</td>\n",
       "    </tr>\n",
       "    <tr>\n",
       "      <th>b</th>\n",
       "      <td>3</td>\n",
       "      <td>3</td>\n",
       "      <td>3</td>\n",
       "    </tr>\n",
       "    <tr>\n",
       "      <th>c</th>\n",
       "      <td>2</td>\n",
       "      <td>3</td>\n",
       "      <td>2</td>\n",
       "    </tr>\n",
       "    <tr>\n",
       "      <th>a</th>\n",
       "      <td>5</td>\n",
       "      <td>5</td>\n",
       "      <td>5</td>\n",
       "    </tr>\n",
       "    <tr>\n",
       "      <th>b</th>\n",
       "      <td>3</td>\n",
       "      <td>3</td>\n",
       "      <td>3</td>\n",
       "    </tr>\n",
       "    <tr>\n",
       "      <th>c</th>\n",
       "      <td>2</td>\n",
       "      <td>3</td>\n",
       "      <td>2</td>\n",
       "    </tr>\n",
       "  </tbody>\n",
       "</table>\n",
       "</div>"
      ],
      "text/plain": [
       "       numeric  C  D\n",
       "col_a               \n",
       "a            5  5  5\n",
       "b            3  3  3\n",
       "c            2  3  2\n",
       "a            5  5  5\n",
       "b            3  3  3\n",
       "c            2  3  2"
      ]
     },
     "execution_count": 82,
     "metadata": {},
     "output_type": "execute_result"
    }
   ],
   "source": [
    "# It can be used like append\n",
    "pd.concat([df, df])"
   ]
  },
  {
   "cell_type": "code",
   "execution_count": null,
   "metadata": {
    "collapsed": false
   },
   "outputs": [],
   "source": [
    "# But concat will create a spare DataFrame when columns don't match\n",
    "# This can create huge dataframes when mismatches occur\n",
    "pd.concat([df, df_2])"
   ]
  },
  {
   "cell_type": "markdown",
   "metadata": {},
   "source": [
    "## Exercise 2\n",
    "### Combining numpy and pandas"
   ]
  },
  {
   "cell_type": "markdown",
   "metadata": {},
   "source": [
    "1) Create 2 arrays of integers\n",
    "\n",
    "One should be created using np.random"
   ]
  },
  {
   "cell_type": "code",
   "execution_count": 91,
   "metadata": {
    "collapsed": false
   },
   "outputs": [
    {
     "ename": "TypeError",
     "evalue": "'tuple' object is not callable",
     "output_type": "error",
     "traceback": [
      "\u001b[0;31m---------------------------------------------------------------------------\u001b[0m",
      "\u001b[0;31mTypeError\u001b[0m                                 Traceback (most recent call last)",
      "\u001b[0;32m<ipython-input-91-24b3d70d4574>\u001b[0m in \u001b[0;36m<module>\u001b[0;34m()\u001b[0m\n\u001b[0;32m----> 1\u001b[0;31m \u001b[0marr1\u001b[0m \u001b[0;34m=\u001b[0m \u001b[0mnp\u001b[0m\u001b[0;34m.\u001b[0m\u001b[0marange\u001b[0m\u001b[0;34m(\u001b[0m\u001b[0;36m10\u001b[0m\u001b[0;34m)\u001b[0m\u001b[0;34m.\u001b[0m\u001b[0mshape\u001b[0m\u001b[0;34m(\u001b[0m\u001b[0;36m5\u001b[0m\u001b[0;34m,\u001b[0m\u001b[0;36m2\u001b[0m\u001b[0;34m)\u001b[0m\u001b[0;34m\u001b[0m\u001b[0m\n\u001b[0m\u001b[1;32m      2\u001b[0m \u001b[0marr2\u001b[0m \u001b[0;34m=\u001b[0m \u001b[0mnp\u001b[0m\u001b[0;34m.\u001b[0m\u001b[0mrandom\u001b[0m\u001b[0;34m.\u001b[0m\u001b[0mrand\u001b[0m\u001b[0;34m(\u001b[0m\u001b[0;36m8\u001b[0m\u001b[0;34m,\u001b[0m\u001b[0;36m2\u001b[0m\u001b[0;34m)\u001b[0m\u001b[0;34m\u001b[0m\u001b[0m\n\u001b[1;32m      3\u001b[0m \u001b[0;32mprint\u001b[0m \u001b[0mfirst\u001b[0m\u001b[0;34m\u001b[0m\u001b[0m\n\u001b[1;32m      4\u001b[0m \u001b[0;32mprint\u001b[0m \u001b[0msecond\u001b[0m\u001b[0;34m\u001b[0m\u001b[0m\n",
      "\u001b[0;31mTypeError\u001b[0m: 'tuple' object is not callable"
     ]
    }
   ],
   "source": [
    "arr1 = np.arange(10).shape(5,2)\n",
    "arr2 = np.random.rand(8,2)\n",
    "print first\n",
    "print second"
   ]
  },
  {
   "cell_type": "markdown",
   "metadata": {},
   "source": [
    "2) Turn those arrays into pandas DataFrames\n",
    "\n",
    "The columns can be named numerically"
   ]
  },
  {
   "cell_type": "code",
   "execution_count": 89,
   "metadata": {
    "collapsed": false
   },
   "outputs": [
    {
     "ename": "AttributeError",
     "evalue": "'module' object has no attribute 'dataframe'",
     "output_type": "error",
     "traceback": [
      "\u001b[0;31m---------------------------------------------------------------------------\u001b[0m",
      "\u001b[0;31mAttributeError\u001b[0m                            Traceback (most recent call last)",
      "\u001b[0;32m<ipython-input-89-0b5ea39d5c12>\u001b[0m in \u001b[0;36m<module>\u001b[0;34m()\u001b[0m\n\u001b[0;32m----> 1\u001b[0;31m \u001b[0mdffirst\u001b[0m \u001b[0;34m=\u001b[0m \u001b[0mpd\u001b[0m\u001b[0;34m.\u001b[0m\u001b[0mdataframe\u001b[0m\u001b[0;34m(\u001b[0m\u001b[0mfirst\u001b[0m\u001b[0;34m)\u001b[0m\u001b[0;34m\u001b[0m\u001b[0m\n\u001b[0m",
      "\u001b[0;31mAttributeError\u001b[0m: 'module' object has no attribute 'dataframe'"
     ]
    }
   ],
   "source": [
    "df_1 = pd.DataFrame(arr1, columns=['col1', [col2]])\n",
    "df_2 = "
   ]
  },
  {
   "cell_type": "markdown",
   "metadata": {},
   "source": [
    "3) Use some of the summary functions on the dataframes and arrays\n",
    "\n",
    "Show how mean and var give the same response in python and numpy"
   ]
  },
  {
   "cell_type": "code",
   "execution_count": null,
   "metadata": {
    "collapsed": true
   },
   "outputs": [],
   "source": []
  },
  {
   "cell_type": "markdown",
   "metadata": {},
   "source": [
    "\n",
    "4) Add an extra index using .loc"
   ]
  },
  {
   "cell_type": "code",
   "execution_count": null,
   "metadata": {
    "collapsed": true
   },
   "outputs": [],
   "source": []
  },
  {
   "cell_type": "markdown",
   "metadata": {},
   "source": [
    "5) Using merge or join, create a single DataFrame from the two"
   ]
  },
  {
   "cell_type": "code",
   "execution_count": null,
   "metadata": {
    "collapsed": true
   },
   "outputs": [],
   "source": []
  },
  {
   "cell_type": "markdown",
   "metadata": {},
   "source": [
    "6) Try testing out the groupby functions\n",
    "\n",
    "df.groupby(column).agg (agg can be an aggregate function, try sum, max, min...)\n",
    "\n",
    "Resources can be found here: http://pandas.pydata.org/pandas-docs/stable/10min.html#grouping\n"
   ]
  },
  {
   "cell_type": "code",
   "execution_count": null,
   "metadata": {
    "collapsed": true
   },
   "outputs": [],
   "source": []
  },
  {
   "cell_type": "markdown",
   "metadata": {},
   "source": [
    "## Plotting!"
   ]
  },
  {
   "cell_type": "code",
   "execution_count": null,
   "metadata": {
    "collapsed": false
   },
   "outputs": [],
   "source": [
    "import pandas.io.data\n",
    "import datetime\n",
    "import matplotlib.pyplot as plt\n",
    "\n",
    "%matplotlib inline\n",
    "\n",
    "mu, sigma = 0, 0.1\n",
    "normal_dist = np.random.normal(mu, sigma, 1000)\n",
    "aapl = pd.io.data.get_data_yahoo('FB', \n",
    "                                 start=datetime.datetime(2015, 4, 1), \n",
    "                                 end=datetime.datetime(2015, 4, 28))\n",
    "aapl.head()"
   ]
  },
  {
   "cell_type": "markdown",
   "metadata": {},
   "source": [
    "## MatPlotLib\n",
    "\n",
    "MatPlotLib is a standard, granular method for building visualizations. Although tried and true, it can be cumbersome compared to other higher level packages such as Seaborn or Bokeh. Note most visualization packages use matplotlib as their base."
   ]
  },
  {
   "cell_type": "code",
   "execution_count": null,
   "metadata": {
    "collapsed": false
   },
   "outputs": [],
   "source": [
    "fig = plt.figure(figsize=(20,16))\n",
    "\n",
    "ax = fig.add_subplot(2,2,1)\n",
    "ax.plot(aapl.index, aapl['Close'])\n",
    "ax.set_title('Line plots', size=24)\n",
    "\n",
    "ax = fig.add_subplot(2,2,2)\n",
    "ax.plot(aapl['Close'], 'o')\n",
    "ax.set_title('Scatter plots', size=24)\n",
    "\n",
    "ax = fig.add_subplot(2,2,3)\n",
    "ax.hist(normal_dist, bins=50)\n",
    "ax.set_title('Histograms', size=24)\n",
    "ax.set_xlabel('count', size=16)\n",
    "\n",
    "ax = fig.add_subplot(2,2,4)\n",
    "ax.boxplot(normal_dist)\n",
    "ax.set_title('Boxplots', size=24)"
   ]
  },
  {
   "cell_type": "markdown",
   "metadata": {},
   "source": [
    "### Bokeh\n",
    "To install Bokeh, go to a terminal and type:\n",
    "\n",
    "`conda install bokeh` \n",
    "\n",
    "Bokeh is built by the same people that created Anaconda (Continuum Analytics) and is designed out of the box for web display, making it nice for creating presentation ready, interactive visuals quickly. Labs in this course will be shown in Bokeh. Checkout http://bokeh.pydata.org/en/latest/docs/quickstart.html#concepts to see some of the range of capabilities."
   ]
  },
  {
   "cell_type": "code",
   "execution_count": null,
   "metadata": {
    "collapsed": false
   },
   "outputs": [],
   "source": [
    "from bokeh.plotting import figure, output_notebook,show\n",
    "output_notebook()"
   ]
  },
  {
   "cell_type": "code",
   "execution_count": null,
   "metadata": {
    "collapsed": false
   },
   "outputs": [],
   "source": [
    "# prepare some data\n",
    "x = aapl.Low\n",
    "y = aapl['High']\n",
    "\n",
    "# create a new plot with a title and axis labels\n",
    "p = figure(title=\"Stock High vs. Low\", x_axis_label='Low', y_axis_label='High')\n",
    "\n",
    "# add a line renderer with legend and line thickness\n",
    "p.circle(x, y, legend=\"High vs. Low\", line_width=2)\n",
    "\n",
    "# show the results\n",
    "show(p)"
   ]
  },
  {
   "cell_type": "code",
   "execution_count": null,
   "metadata": {
    "collapsed": false
   },
   "outputs": [],
   "source": [
    "x = aapl.index\n",
    "y = aapl.Close\n",
    "p = figure(title=\"Stock Open & Close over time\", x_axis_label='Date', y_axis_label='High',x_axis_type=\"datetime\")\n",
    "# Note that I've declared the x_axis_type\n",
    "p.square(x, y, legend=\"Close\")\n",
    "p.circle(x,aapl.Open,legend='Open',color='red')\n",
    "# show the results\n",
    "show(p)"
   ]
  },
  {
   "cell_type": "markdown",
   "metadata": {},
   "source": [
    "## Pandas Plotting!\n",
    "\n",
    "The plot method is a great, quick way to visualize your dataframes. By selecting the columns you care to view, calling .plot() on the dataframe defaults to a line chart vs. the index.\n",
    "\n",
    "We will be revisiting this so just take a second to appreciate what can be done with one line of code."
   ]
  },
  {
   "cell_type": "code",
   "execution_count": null,
   "metadata": {
    "collapsed": false
   },
   "outputs": [],
   "source": [
    "aapl[['Open','Close']].plot()"
   ]
  },
  {
   "cell_type": "code",
   "execution_count": null,
   "metadata": {
    "collapsed": false
   },
   "outputs": [],
   "source": [
    "aapl[['High','Low','Open','Close']].plot(kind='box')"
   ]
  },
  {
   "cell_type": "code",
   "execution_count": null,
   "metadata": {
    "collapsed": true
   },
   "outputs": [],
   "source": []
  }
 ],
 "metadata": {
  "kernelspec": {
   "display_name": "Python 2",
   "language": "python",
   "name": "python2"
  },
  "language_info": {
   "codemirror_mode": {
    "name": "ipython",
    "version": 2
   },
   "file_extension": ".py",
   "mimetype": "text/x-python",
   "name": "python",
   "nbconvert_exporter": "python",
   "pygments_lexer": "ipython2",
   "version": "2.7.10"
  }
 },
 "nbformat": 4,
 "nbformat_minor": 0
}
