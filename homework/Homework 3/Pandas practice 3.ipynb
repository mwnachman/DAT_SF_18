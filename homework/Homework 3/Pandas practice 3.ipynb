{
 "cells": [
  {
   "cell_type": "code",
   "execution_count": 1,
   "metadata": {
    "collapsed": true
   },
   "outputs": [],
   "source": [
    "import pandas as pd\n",
    "import matplotlib.pyplot as plt\n",
    "import numpy.random as np\n",
    "%matplotlib inline"
   ]
  },
  {
   "cell_type": "code",
   "execution_count": 2,
   "metadata": {
    "collapsed": true
   },
   "outputs": [],
   "source": [
    "np.seed(111)\n",
    "\n",
    "def CreateDataSet(Number=1):\n",
    "    \n",
    "    Output = []\n",
    "    \n",
    "    for i in range(Number):\n",
    "        \n",
    "        rng = pd.date_range(start='1/1/2009', end='12/31/2012', freq='W-MON')\n",
    "        \n",
    "        data = np.randint(low=25,high=1000,size=len(rng))\n",
    "        \n",
    "        status = [1,2,3]\n",
    "        \n",
    "        random_status = [status[np.randint(low=0, high=len(status))] for i in range(len(rng))]\n",
    "        \n",
    "        states = ['GA', 'FL', 'fl', 'NY', 'NJ', 'TX']\n",
    "        \n",
    "        random_states = [states[np.randint(low=0, high = len(states))] for i in range(len(rng))]\n",
    "        \n",
    "        Output.extend(zip(random_states, random_status, data, rng))\n",
    "        \n",
    "    return Output"
   ]
  },
  {
   "cell_type": "code",
   "execution_count": 8,
   "metadata": {
    "collapsed": false
   },
   "outputs": [
    {
     "name": "stdout",
     "output_type": "stream",
     "text": [
      "<class 'pandas.core.frame.DataFrame'>\n",
      "Int64Index: 836 entries, 0 to 835\n",
      "Data columns (total 4 columns):\n",
      "State            836 non-null object\n",
      "Status           836 non-null int64\n",
      "CustomerCount    836 non-null int64\n",
      "StatusDate       836 non-null datetime64[ns]\n",
      "dtypes: datetime64[ns](1), int64(2), object(1)\n",
      "memory usage: 32.7+ KB\n"
     ]
    }
   ],
   "source": [
    "dataset = CreateDataSet(4)\n",
    "df = pd.DataFrame(data=dataset, columns=['State', 'Status', 'CustomerCount', 'StatusDate'])\n",
    "df.info()"
   ]
  },
  {
   "cell_type": "code",
   "execution_count": 9,
   "metadata": {
    "collapsed": false
   },
   "outputs": [
    {
     "data": {
      "text/html": [
       "<div>\n",
       "<table border=\"1\" class=\"dataframe\">\n",
       "  <thead>\n",
       "    <tr style=\"text-align: right;\">\n",
       "      <th></th>\n",
       "      <th>State</th>\n",
       "      <th>Status</th>\n",
       "      <th>CustomerCount</th>\n",
       "      <th>StatusDate</th>\n",
       "    </tr>\n",
       "  </thead>\n",
       "  <tbody>\n",
       "    <tr>\n",
       "      <th>0</th>\n",
       "      <td>NY</td>\n",
       "      <td>3</td>\n",
       "      <td>635</td>\n",
       "      <td>2009-01-05</td>\n",
       "    </tr>\n",
       "    <tr>\n",
       "      <th>1</th>\n",
       "      <td>NJ</td>\n",
       "      <td>1</td>\n",
       "      <td>90</td>\n",
       "      <td>2009-01-12</td>\n",
       "    </tr>\n",
       "    <tr>\n",
       "      <th>2</th>\n",
       "      <td>NJ</td>\n",
       "      <td>3</td>\n",
       "      <td>315</td>\n",
       "      <td>2009-01-19</td>\n",
       "    </tr>\n",
       "    <tr>\n",
       "      <th>3</th>\n",
       "      <td>TX</td>\n",
       "      <td>3</td>\n",
       "      <td>919</td>\n",
       "      <td>2009-01-26</td>\n",
       "    </tr>\n",
       "    <tr>\n",
       "      <th>4</th>\n",
       "      <td>GA</td>\n",
       "      <td>2</td>\n",
       "      <td>897</td>\n",
       "      <td>2009-02-02</td>\n",
       "    </tr>\n",
       "  </tbody>\n",
       "</table>\n",
       "</div>"
      ],
      "text/plain": [
       "  State  Status  CustomerCount StatusDate\n",
       "0    NY       3            635 2009-01-05\n",
       "1    NJ       1             90 2009-01-12\n",
       "2    NJ       3            315 2009-01-19\n",
       "3    TX       3            919 2009-01-26\n",
       "4    GA       2            897 2009-02-02"
      ]
     },
     "execution_count": 9,
     "metadata": {},
     "output_type": "execute_result"
    }
   ],
   "source": [
    "df.head()"
   ]
  },
  {
   "cell_type": "code",
   "execution_count": 10,
   "metadata": {
    "collapsed": false
   },
   "outputs": [
    {
     "name": "stdout",
     "output_type": "stream",
     "text": [
      "Done\n"
     ]
    }
   ],
   "source": [
    "df.to_excel('Lesson3.xlsx', index=False)\n",
    "print 'Done'"
   ]
  },
  {
   "cell_type": "code",
   "execution_count": 23,
   "metadata": {
    "collapsed": false
   },
   "outputs": [
    {
     "data": {
      "text/plain": [
       "State            object\n",
       "Status            int64\n",
       "CustomerCount     int64\n",
       "dtype: object"
      ]
     },
     "execution_count": 23,
     "metadata": {},
     "output_type": "execute_result"
    }
   ],
   "source": [
    "Location = 'Lesson3.xlsx'\n",
    "\n",
    "df = pd.read_excel(Location, 0, index_col='StatusDate')\n",
    "df.dtypes"
   ]
  },
  {
   "cell_type": "code",
   "execution_count": 24,
   "metadata": {
    "collapsed": false
   },
   "outputs": [
    {
     "data": {
      "text/plain": [
       "DatetimeIndex(['2009-01-05', '2009-01-12', '2009-01-19', '2009-01-26',\n",
       "               '2009-02-02', '2009-02-09', '2009-02-16', '2009-02-23',\n",
       "               '2009-03-02', '2009-03-09',\n",
       "               ...\n",
       "               '2012-10-29', '2012-11-05', '2012-11-12', '2012-11-19',\n",
       "               '2012-11-26', '2012-12-03', '2012-12-10', '2012-12-17',\n",
       "               '2012-12-24', '2012-12-31'],\n",
       "              dtype='datetime64[ns]', name=u'StatusDate', length=836, freq=None)"
      ]
     },
     "execution_count": 24,
     "metadata": {},
     "output_type": "execute_result"
    }
   ],
   "source": [
    "df.index"
   ]
  },
  {
   "cell_type": "code",
   "execution_count": 25,
   "metadata": {
    "collapsed": false
   },
   "outputs": [
    {
     "data": {
      "text/html": [
       "<div>\n",
       "<table border=\"1\" class=\"dataframe\">\n",
       "  <thead>\n",
       "    <tr style=\"text-align: right;\">\n",
       "      <th></th>\n",
       "      <th>State</th>\n",
       "      <th>Status</th>\n",
       "      <th>CustomerCount</th>\n",
       "    </tr>\n",
       "    <tr>\n",
       "      <th>StatusDate</th>\n",
       "      <th></th>\n",
       "      <th></th>\n",
       "      <th></th>\n",
       "    </tr>\n",
       "  </thead>\n",
       "  <tbody>\n",
       "    <tr>\n",
       "      <th>2009-01-05</th>\n",
       "      <td>NY</td>\n",
       "      <td>3</td>\n",
       "      <td>635</td>\n",
       "    </tr>\n",
       "    <tr>\n",
       "      <th>2009-01-12</th>\n",
       "      <td>NJ</td>\n",
       "      <td>1</td>\n",
       "      <td>90</td>\n",
       "    </tr>\n",
       "    <tr>\n",
       "      <th>2009-01-19</th>\n",
       "      <td>NJ</td>\n",
       "      <td>3</td>\n",
       "      <td>315</td>\n",
       "    </tr>\n",
       "    <tr>\n",
       "      <th>2009-01-26</th>\n",
       "      <td>TX</td>\n",
       "      <td>3</td>\n",
       "      <td>919</td>\n",
       "    </tr>\n",
       "    <tr>\n",
       "      <th>2009-02-02</th>\n",
       "      <td>GA</td>\n",
       "      <td>2</td>\n",
       "      <td>897</td>\n",
       "    </tr>\n",
       "  </tbody>\n",
       "</table>\n",
       "</div>"
      ],
      "text/plain": [
       "           State  Status  CustomerCount\n",
       "StatusDate                             \n",
       "2009-01-05    NY       3            635\n",
       "2009-01-12    NJ       1             90\n",
       "2009-01-19    NJ       3            315\n",
       "2009-01-26    TX       3            919\n",
       "2009-02-02    GA       2            897"
      ]
     },
     "execution_count": 25,
     "metadata": {},
     "output_type": "execute_result"
    }
   ],
   "source": [
    "df.head()"
   ]
  },
  {
   "cell_type": "code",
   "execution_count": 26,
   "metadata": {
    "collapsed": false
   },
   "outputs": [
    {
     "data": {
      "text/plain": [
       "array([u'NY', u'NJ', u'TX', u'GA', u'FL', u'fl'], dtype=object)"
      ]
     },
     "execution_count": 26,
     "metadata": {},
     "output_type": "execute_result"
    }
   ],
   "source": [
    "df['State'].unique()"
   ]
  },
  {
   "cell_type": "code",
   "execution_count": 27,
   "metadata": {
    "collapsed": true
   },
   "outputs": [],
   "source": [
    "df['State'] = df.State.apply(lambda x: x.upper())"
   ]
  },
  {
   "cell_type": "code",
   "execution_count": 28,
   "metadata": {
    "collapsed": false
   },
   "outputs": [
    {
     "data": {
      "text/plain": [
       "array([u'NY', u'NJ', u'TX', u'GA', u'FL'], dtype=object)"
      ]
     },
     "execution_count": 28,
     "metadata": {},
     "output_type": "execute_result"
    }
   ],
   "source": [
    "df['State'].unique()"
   ]
  },
  {
   "cell_type": "code",
   "execution_count": 29,
   "metadata": {
    "collapsed": true
   },
   "outputs": [],
   "source": [
    "mask = df['Status'] == 1\n",
    "df = df[mask]"
   ]
  },
  {
   "cell_type": "code",
   "execution_count": 30,
   "metadata": {
    "collapsed": false
   },
   "outputs": [
    {
     "data": {
      "text/html": [
       "<div>\n",
       "<table border=\"1\" class=\"dataframe\">\n",
       "  <thead>\n",
       "    <tr style=\"text-align: right;\">\n",
       "      <th></th>\n",
       "      <th>State</th>\n",
       "      <th>Status</th>\n",
       "      <th>CustomerCount</th>\n",
       "    </tr>\n",
       "    <tr>\n",
       "      <th>StatusDate</th>\n",
       "      <th></th>\n",
       "      <th></th>\n",
       "      <th></th>\n",
       "    </tr>\n",
       "  </thead>\n",
       "  <tbody>\n",
       "    <tr>\n",
       "      <th>2009-01-12</th>\n",
       "      <td>NJ</td>\n",
       "      <td>1</td>\n",
       "      <td>90</td>\n",
       "    </tr>\n",
       "    <tr>\n",
       "      <th>2009-03-02</th>\n",
       "      <td>GA</td>\n",
       "      <td>1</td>\n",
       "      <td>828</td>\n",
       "    </tr>\n",
       "    <tr>\n",
       "      <th>2009-03-16</th>\n",
       "      <td>FL</td>\n",
       "      <td>1</td>\n",
       "      <td>426</td>\n",
       "    </tr>\n",
       "    <tr>\n",
       "      <th>2009-03-23</th>\n",
       "      <td>GA</td>\n",
       "      <td>1</td>\n",
       "      <td>391</td>\n",
       "    </tr>\n",
       "    <tr>\n",
       "      <th>2009-04-20</th>\n",
       "      <td>FL</td>\n",
       "      <td>1</td>\n",
       "      <td>457</td>\n",
       "    </tr>\n",
       "  </tbody>\n",
       "</table>\n",
       "</div>"
      ],
      "text/plain": [
       "           State  Status  CustomerCount\n",
       "StatusDate                             \n",
       "2009-01-12    NJ       1             90\n",
       "2009-03-02    GA       1            828\n",
       "2009-03-16    FL       1            426\n",
       "2009-03-23    GA       1            391\n",
       "2009-04-20    FL       1            457"
      ]
     },
     "execution_count": 30,
     "metadata": {},
     "output_type": "execute_result"
    }
   ],
   "source": [
    "df.head()"
   ]
  },
  {
   "cell_type": "code",
   "execution_count": 31,
   "metadata": {
    "collapsed": true
   },
   "outputs": [],
   "source": [
    "mask = df['State'] == 'NJ'\n",
    "df['State'][mask] = 'NY'"
   ]
  },
  {
   "cell_type": "code",
   "execution_count": 32,
   "metadata": {
    "collapsed": false
   },
   "outputs": [
    {
     "data": {
      "text/plain": [
       "array(['NY', u'GA', u'FL', u'TX'], dtype=object)"
      ]
     },
     "execution_count": 32,
     "metadata": {},
     "output_type": "execute_result"
    }
   ],
   "source": [
    "df['State'].unique()"
   ]
  },
  {
   "cell_type": "code",
   "execution_count": 34,
   "metadata": {
    "collapsed": false
   },
   "outputs": [
    {
     "data": {
      "image/png": "[encoded data removed]",
      "text/plain": [
       "<matplotlib.figure.Figure at 0x1090e81d0>"
      ]
     },
     "metadata": {},
     "output_type": "display_data"
    }
   ],
   "source": [
    "df['CustomerCount'].plot(figsize=(15,5));"
   ]
  },
  {
   "cell_type": "code",
   "execution_count": 35,
   "metadata": {
    "collapsed": false
   },
   "outputs": [
    {
     "name": "stderr",
     "output_type": "stream",
     "text": [
      "/Users/meredithnachman/anaconda/lib/python2.7/site-packages/IPython/kernel/__main__.py:1: FutureWarning: sort(....) is deprecated, use sort_index(.....)\n",
      "  if __name__ == '__main__':\n"
     ]
    },
    {
     "data": {
      "text/html": [
       "<div>\n",
       "<table border=\"1\" class=\"dataframe\">\n",
       "  <thead>\n",
       "    <tr style=\"text-align: right;\">\n",
       "      <th></th>\n",
       "      <th>State</th>\n",
       "      <th>Status</th>\n",
       "      <th>CustomerCount</th>\n",
       "    </tr>\n",
       "    <tr>\n",
       "      <th>StatusDate</th>\n",
       "      <th></th>\n",
       "      <th></th>\n",
       "      <th></th>\n",
       "    </tr>\n",
       "  </thead>\n",
       "  <tbody>\n",
       "    <tr>\n",
       "      <th>2009-01-05</th>\n",
       "      <td>NY</td>\n",
       "      <td>1</td>\n",
       "      <td>973</td>\n",
       "    </tr>\n",
       "    <tr>\n",
       "      <th>2009-01-12</th>\n",
       "      <td>NY</td>\n",
       "      <td>1</td>\n",
       "      <td>90</td>\n",
       "    </tr>\n",
       "    <tr>\n",
       "      <th>2009-01-12</th>\n",
       "      <td>NY</td>\n",
       "      <td>1</td>\n",
       "      <td>412</td>\n",
       "    </tr>\n",
       "    <tr>\n",
       "      <th>2009-01-26</th>\n",
       "      <td>NY</td>\n",
       "      <td>1</td>\n",
       "      <td>320</td>\n",
       "    </tr>\n",
       "    <tr>\n",
       "      <th>2009-02-09</th>\n",
       "      <td>NY</td>\n",
       "      <td>1</td>\n",
       "      <td>619</td>\n",
       "    </tr>\n",
       "    <tr>\n",
       "      <th>2009-02-16</th>\n",
       "      <td>NY</td>\n",
       "      <td>1</td>\n",
       "      <td>925</td>\n",
       "    </tr>\n",
       "    <tr>\n",
       "      <th>2009-02-23</th>\n",
       "      <td>NY</td>\n",
       "      <td>1</td>\n",
       "      <td>234</td>\n",
       "    </tr>\n",
       "    <tr>\n",
       "      <th>2009-03-23</th>\n",
       "      <td>NY</td>\n",
       "      <td>1</td>\n",
       "      <td>724</td>\n",
       "    </tr>\n",
       "    <tr>\n",
       "      <th>2009-04-13</th>\n",
       "      <td>NY</td>\n",
       "      <td>1</td>\n",
       "      <td>238</td>\n",
       "    </tr>\n",
       "    <tr>\n",
       "      <th>2009-04-20</th>\n",
       "      <td>NY</td>\n",
       "      <td>1</td>\n",
       "      <td>806</td>\n",
       "    </tr>\n",
       "  </tbody>\n",
       "</table>\n",
       "</div>"
      ],
      "text/plain": [
       "           State  Status  CustomerCount\n",
       "StatusDate                             \n",
       "2009-01-05    NY       1            973\n",
       "2009-01-12    NY       1             90\n",
       "2009-01-12    NY       1            412\n",
       "2009-01-26    NY       1            320\n",
       "2009-02-09    NY       1            619\n",
       "2009-02-16    NY       1            925\n",
       "2009-02-23    NY       1            234\n",
       "2009-03-23    NY       1            724\n",
       "2009-04-13    NY       1            238\n",
       "2009-04-20    NY       1            806"
      ]
     },
     "execution_count": 35,
     "metadata": {},
     "output_type": "execute_result"
    }
   ],
   "source": [
    "sortdf = df[df['State'] =='NY'].sort(axis=0)\n",
    "sortdf.head(10)"
   ]
  },
  {
   "cell_type": "code",
   "execution_count": 36,
   "metadata": {
    "collapsed": false
   },
   "outputs": [
    {
     "data": {
      "text/html": [
       "<div>\n",
       "<table border=\"1\" class=\"dataframe\">\n",
       "  <thead>\n",
       "    <tr style=\"text-align: right;\">\n",
       "      <th></th>\n",
       "      <th></th>\n",
       "      <th>Status</th>\n",
       "      <th>CustomerCount</th>\n",
       "    </tr>\n",
       "    <tr>\n",
       "      <th>State</th>\n",
       "      <th>StatusDate</th>\n",
       "      <th></th>\n",
       "      <th></th>\n",
       "    </tr>\n",
       "  </thead>\n",
       "  <tbody>\n",
       "    <tr>\n",
       "      <th rowspan=\"5\" valign=\"top\">FL</th>\n",
       "      <th>2009-02-02</th>\n",
       "      <td>1</td>\n",
       "      <td>849</td>\n",
       "    </tr>\n",
       "    <tr>\n",
       "      <th>2009-02-16</th>\n",
       "      <td>1</td>\n",
       "      <td>719</td>\n",
       "    </tr>\n",
       "    <tr>\n",
       "      <th>2009-03-16</th>\n",
       "      <td>1</td>\n",
       "      <td>426</td>\n",
       "    </tr>\n",
       "    <tr>\n",
       "      <th>2009-03-30</th>\n",
       "      <td>1</td>\n",
       "      <td>474</td>\n",
       "    </tr>\n",
       "    <tr>\n",
       "      <th>2009-04-13</th>\n",
       "      <td>1</td>\n",
       "      <td>414</td>\n",
       "    </tr>\n",
       "  </tbody>\n",
       "</table>\n",
       "</div>"
      ],
      "text/plain": [
       "                  Status  CustomerCount\n",
       "State StatusDate                       \n",
       "FL    2009-02-02       1            849\n",
       "      2009-02-16       1            719\n",
       "      2009-03-16       1            426\n",
       "      2009-03-30       1            474\n",
       "      2009-04-13       1            414"
      ]
     },
     "execution_count": 36,
     "metadata": {},
     "output_type": "execute_result"
    }
   ],
   "source": [
    "Daily = df.reset_index().groupby(['State','StatusDate']).sum()\n",
    "Daily.head()"
   ]
  },
  {
   "cell_type": "code",
   "execution_count": 37,
   "metadata": {
    "collapsed": false
   },
   "outputs": [
    {
     "data": {
      "text/html": [
       "<div>\n",
       "<table border=\"1\" class=\"dataframe\">\n",
       "  <thead>\n",
       "    <tr style=\"text-align: right;\">\n",
       "      <th></th>\n",
       "      <th></th>\n",
       "      <th>CustomerCount</th>\n",
       "    </tr>\n",
       "    <tr>\n",
       "      <th>State</th>\n",
       "      <th>StatusDate</th>\n",
       "      <th></th>\n",
       "    </tr>\n",
       "  </thead>\n",
       "  <tbody>\n",
       "    <tr>\n",
       "      <th rowspan=\"5\" valign=\"top\">FL</th>\n",
       "      <th>2009-02-02</th>\n",
       "      <td>849</td>\n",
       "    </tr>\n",
       "    <tr>\n",
       "      <th>2009-02-16</th>\n",
       "      <td>719</td>\n",
       "    </tr>\n",
       "    <tr>\n",
       "      <th>2009-03-16</th>\n",
       "      <td>426</td>\n",
       "    </tr>\n",
       "    <tr>\n",
       "      <th>2009-03-30</th>\n",
       "      <td>474</td>\n",
       "    </tr>\n",
       "    <tr>\n",
       "      <th>2009-04-13</th>\n",
       "      <td>414</td>\n",
       "    </tr>\n",
       "  </tbody>\n",
       "</table>\n",
       "</div>"
      ],
      "text/plain": [
       "                  CustomerCount\n",
       "State StatusDate               \n",
       "FL    2009-02-02            849\n",
       "      2009-02-16            719\n",
       "      2009-03-16            426\n",
       "      2009-03-30            474\n",
       "      2009-04-13            414"
      ]
     },
     "execution_count": 37,
     "metadata": {},
     "output_type": "execute_result"
    }
   ],
   "source": [
    "del Daily['Status']\n",
    "Daily.head()"
   ]
  },
  {
   "cell_type": "code",
   "execution_count": 39,
   "metadata": {
    "collapsed": false
   },
   "outputs": [
    {
     "data": {
      "text/plain": [
       "MultiIndex(levels=[[u'FL', u'GA', u'NY', u'TX'], [2009-01-05 00:00:00, 2009-01-12 00:00:00, 2009-01-26 00:00:00, 2009-02-02 00:00:00, 2009-02-09 00:00:00, 2009-02-16 00:00:00, 2009-02-23 00:00:00, 2009-03-02 00:00:00, 2009-03-09 00:00:00, 2009-03-16 00:00:00, 2009-03-23 00:00:00, 2009-03-30 00:00:00, 2009-04-06 00:00:00, 2009-04-13 00:00:00, 2009-04-20 00:00:00, 2009-04-27 00:00:00, 2009-05-04 00:00:00, 2009-05-18 00:00:00, 2009-05-25 00:00:00, 2009-06-01 00:00:00, 2009-06-08 00:00:00, 2009-06-15 00:00:00, 2009-06-22 00:00:00, 2009-06-29 00:00:00, 2009-07-06 00:00:00, 2009-07-13 00:00:00, 2009-07-27 00:00:00, 2009-08-03 00:00:00, 2009-08-10 00:00:00, 2009-08-24 00:00:00, 2009-08-31 00:00:00, 2009-09-07 00:00:00, 2009-09-21 00:00:00, 2009-09-28 00:00:00, 2009-10-05 00:00:00, 2009-10-12 00:00:00, 2009-11-02 00:00:00, 2009-11-09 00:00:00, 2009-11-16 00:00:00, 2009-11-23 00:00:00, 2009-11-30 00:00:00, 2009-12-14 00:00:00, 2009-12-21 00:00:00, 2009-12-28 00:00:00, 2010-01-04 00:00:00, 2010-01-11 00:00:00, 2010-01-25 00:00:00, 2010-02-01 00:00:00, 2010-02-08 00:00:00, 2010-02-15 00:00:00, 2010-02-22 00:00:00, 2010-03-01 00:00:00, 2010-03-08 00:00:00, 2010-03-15 00:00:00, 2010-03-22 00:00:00, 2010-03-29 00:00:00, 2010-04-05 00:00:00, 2010-04-12 00:00:00, 2010-04-26 00:00:00, 2010-05-03 00:00:00, 2010-05-17 00:00:00, 2010-05-24 00:00:00, 2010-05-31 00:00:00, 2010-06-14 00:00:00, 2010-06-21 00:00:00, 2010-06-28 00:00:00, 2010-07-05 00:00:00, 2010-07-12 00:00:00, 2010-07-19 00:00:00, 2010-07-26 00:00:00, 2010-08-02 00:00:00, 2010-08-09 00:00:00, 2010-08-16 00:00:00, 2010-08-30 00:00:00, 2010-09-13 00:00:00, 2010-09-20 00:00:00, 2010-09-27 00:00:00, 2010-10-11 00:00:00, 2010-10-18 00:00:00, 2010-11-01 00:00:00, 2010-11-08 00:00:00, 2010-11-15 00:00:00, 2010-11-22 00:00:00, 2010-11-29 00:00:00, 2010-12-06 00:00:00, 2010-12-13 00:00:00, 2010-12-20 00:00:00, 2010-12-27 00:00:00, 2011-01-10 00:00:00, 2011-01-17 00:00:00, 2011-01-24 00:00:00, 2011-01-31 00:00:00, 2011-02-07 00:00:00, 2011-02-14 00:00:00, 2011-02-21 00:00:00, 2011-02-28 00:00:00, 2011-03-07 00:00:00, 2011-03-14 00:00:00, 2011-03-21 00:00:00, 2011-04-04 00:00:00, 2011-04-11 00:00:00, 2011-04-25 00:00:00, 2011-05-02 00:00:00, 2011-05-09 00:00:00, 2011-05-16 00:00:00, 2011-05-30 00:00:00, 2011-06-06 00:00:00, 2011-06-13 00:00:00, 2011-06-20 00:00:00, 2011-06-27 00:00:00, 2011-07-04 00:00:00, 2011-07-18 00:00:00, 2011-07-25 00:00:00, 2011-08-01 00:00:00, 2011-08-15 00:00:00, 2011-08-22 00:00:00, 2011-09-05 00:00:00, 2011-09-12 00:00:00, 2011-09-19 00:00:00, 2011-09-26 00:00:00, 2011-10-03 00:00:00, 2011-10-10 00:00:00, 2011-10-31 00:00:00, 2011-11-07 00:00:00, 2011-11-14 00:00:00, 2011-11-21 00:00:00, 2011-12-05 00:00:00, 2011-12-12 00:00:00, 2011-12-19 00:00:00, 2012-01-02 00:00:00, 2012-01-09 00:00:00, 2012-01-16 00:00:00, 2012-01-23 00:00:00, 2012-01-30 00:00:00, 2012-02-13 00:00:00, 2012-02-20 00:00:00, 2012-03-19 00:00:00, 2012-03-26 00:00:00, 2012-04-02 00:00:00, 2012-04-09 00:00:00, 2012-04-16 00:00:00, 2012-04-23 00:00:00, 2012-04-30 00:00:00, 2012-05-14 00:00:00, 2012-05-21 00:00:00, 2012-05-28 00:00:00, 2012-06-04 00:00:00, 2012-06-11 00:00:00, 2012-06-18 00:00:00, 2012-06-25 00:00:00, 2012-07-02 00:00:00, 2012-07-09 00:00:00, 2012-07-16 00:00:00, 2012-07-23 00:00:00, 2012-07-30 00:00:00, 2012-08-06 00:00:00, 2012-08-13 00:00:00, 2012-08-20 00:00:00, 2012-08-27 00:00:00, 2012-09-10 00:00:00, 2012-09-17 00:00:00, 2012-10-01 00:00:00, 2012-10-15 00:00:00, 2012-10-22 00:00:00, 2012-10-29 00:00:00, 2012-11-05 00:00:00, 2012-11-19 00:00:00, 2012-11-26 00:00:00, 2012-12-10 00:00:00, 2012-12-17 00:00:00, 2012-12-24 00:00:00, 2012-12-31 00:00:00]],\n",
       "           labels=[[0, 0, 0, 0, 0, 0, 0, 0, 0, 0, 0, 0, 0, 0, 0, 0, 0, 0, 0, 0, 0, 0, 0, 0, 0, 0, 0, 0, 0, 0, 0, 0, 0, 0, 0, 0, 0, 0, 0, 0, 0, 0, 0, 0, 0, 0, 0, 0, 0, 0, 0, 0, 0, 0, 0, 0, 0, 0, 0, 0, 0, 0, 0, 1, 1, 1, 1, 1, 1, 1, 1, 1, 1, 1, 1, 1, 1, 1, 1, 1, 1, 1, 1, 1, 1, 1, 1, 1, 1, 1, 1, 1, 1, 1, 1, 1, 1, 1, 1, 1, 1, 1, 1, 1, 1, 1, 1, 1, 1, 1, 1, 2, 2, 2, 2, 2, 2, 2, 2, 2, 2, 2, 2, 2, 2, 2, 2, 2, 2, 2, 2, 2, 2, 2, 2, 2, 2, 2, 2, 2, 2, 2, 2, 2, 2, 2, 2, 2, 2, 2, 2, 2, 2, 2, 2, 2, 2, 2, 2, 2, 2, 2, 2, 2, 2, 2, 2, 2, 2, 2, 2, 2, 2, 2, 2, 2, 2, 2, 2, 2, 2, 2, 2, 2, 2, 2, 2, 2, 2, 2, 2, 2, 2, 2, 2, 2, 3, 3, 3, 3, 3, 3, 3, 3, 3, 3, 3, 3, 3, 3, 3, 3, 3, 3, 3, 3, 3, 3, 3, 3, 3, 3, 3, 3, 3, 3, 3, 3, 3, 3, 3, 3, 3, 3, 3], [3, 5, 9, 11, 13, 14, 15, 19, 20, 21, 25, 29, 33, 40, 45, 48, 51, 54, 56, 57, 59, 61, 70, 72, 73, 80, 81, 85, 88, 89, 90, 92, 93, 94, 98, 100, 103, 105, 108, 113, 115, 116, 117, 120, 121, 125, 131, 132, 135, 137, 139, 140, 141, 144, 152, 153, 154, 158, 161, 162, 164, 165, 167, 7, 8, 10, 12, 15, 16, 18, 24, 27, 28, 30, 33, 34, 39, 44, 46, 51, 55, 56, 58, 60, 69, 72, 86, 87, 91, 95, 101, 109, 112, 114, 127, 129, 131, 132, 136, 138, 141, 146, 150, 152, 155, 156, 160, 162, 165, 166, 169, 0, 1, 2, 4, 5, 6, 10, 13, 14, 17, 18, 20, 22, 23, 24, 26, 29, 32, 35, 36, 37, 38, 42, 43, 47, 50, 60, 61, 62, 63, 64, 66, 67, 69, 71, 72, 74, 75, 79, 82, 83, 84, 86, 87, 91, 93, 96, 97, 99, 101, 102, 103, 104, 106, 107, 108, 111, 115, 116, 119, 121, 122, 124, 130, 134, 135, 138, 141, 143, 144, 145, 146, 147, 148, 149, 151, 155, 159, 160, 161, 163, 164, 166, 168, 170, 9, 16, 19, 23, 24, 31, 41, 46, 49, 50, 52, 53, 56, 65, 68, 70, 76, 77, 78, 82, 90, 107, 110, 112, 118, 119, 121, 123, 126, 128, 129, 133, 135, 142, 143, 151, 157, 159, 171]],\n",
       "           names=[u'State', u'StatusDate'])"
      ]
     },
     "execution_count": 39,
     "metadata": {},
     "output_type": "execute_result"
    }
   ],
   "source": [
    "Daily.index"
   ]
  },
  {
   "cell_type": "code",
   "execution_count": 40,
   "metadata": {
    "collapsed": false
   },
   "outputs": [
    {
     "data": {
      "text/plain": [
       "Index([u'FL', u'GA', u'NY', u'TX'], dtype='object', name=u'State')"
      ]
     },
     "execution_count": 40,
     "metadata": {},
     "output_type": "execute_result"
    }
   ],
   "source": [
    "Daily.index.levels[0]"
   ]
  },
  {
   "cell_type": "code",
   "execution_count": 41,
   "metadata": {
    "collapsed": false
   },
   "outputs": [
    {
     "data": {
      "text/plain": [
       "DatetimeIndex(['2009-01-05', '2009-01-12', '2009-01-26', '2009-02-02',\n",
       "               '2009-02-09', '2009-02-16', '2009-02-23', '2009-03-02',\n",
       "               '2009-03-09', '2009-03-16',\n",
       "               ...\n",
       "               '2012-10-15', '2012-10-22', '2012-10-29', '2012-11-05',\n",
       "               '2012-11-19', '2012-11-26', '2012-12-10', '2012-12-17',\n",
       "               '2012-12-24', '2012-12-31'],\n",
       "              dtype='datetime64[ns]', name=u'StatusDate', length=172, freq=None)"
      ]
     },
     "execution_count": 41,
     "metadata": {},
     "output_type": "execute_result"
    }
   ],
   "source": [
    "Daily.index.levels[1]"
   ]
  },
  {
   "cell_type": "code",
   "execution_count": 42,
   "metadata": {
    "collapsed": false
   },
   "outputs": [
    {
     "data": {
      "text/plain": [
       "<matplotlib.axes._subplots.AxesSubplot at 0x109b96210>"
      ]
     },
     "execution_count": 42,
     "metadata": {},
     "output_type": "execute_result"
    },
    {
     "data": {
      "image/png": "[encoded data removed]",
      "text/plain": [
       "<matplotlib.figure.Figure at 0x109677f10>"
      ]
     },
     "metadata": {},
     "output_type": "display_data"
    },
    {
     "data": {
      "image/png": "[encoded data removed]",
      "text/plain": [
       "<matplotlib.figure.Figure at 0x109004fd0>"
      ]
     },
     "metadata": {},
     "output_type": "display_data"
    },
    {
     "data": {
      "image/png": "[encoded data removed]",
      "text/plain": [
       "<matplotlib.figure.Figure at 0x109004c90>"
      ]
     },
     "metadata": {},
     "output_type": "display_data"
    },
    {
     "data": {
      "image/png": "[encoded data removed]",
      "text/plain": [
       "<matplotlib.figure.Figure at 0x109004a90>"
      ]
     },
     "metadata": {},
     "output_type": "display_data"
    }
   ],
   "source": [
    "Daily.loc['FL'].plot()\n",
    "Daily.loc['GA'].plot()\n",
    "Daily.loc['NY'].plot()\n",
    "Daily.loc['TX'].plot()"
   ]
  },
  {
   "cell_type": "code",
   "execution_count": 43,
   "metadata": {
    "collapsed": false
   },
   "outputs": [
    {
     "data": {
      "image/png": "[encoded data removed]",
      "text/plain": [
       "<matplotlib.figure.Figure at 0x108fd9790>"
      ]
     },
     "metadata": {},
     "output_type": "display_data"
    }
   ],
   "source": [
    "Daily.loc['FL']['2012':].plot();"
   ]
  },
  {
   "cell_type": "code",
   "execution_count": 46,
   "metadata": {
    "collapsed": false
   },
   "outputs": [],
   "source": [
    "StateYearMonth = Daily.groupby([Daily.index.get_level_values(0), Daily.index.get_level_values(1).year, Daily.index.get_level_values(1).month])\n",
    "Daily['Lower'] = StateYearMonth['CustomerCount'].transform( lambda x: x.quantile(q=.25) - (1.5*x.quantile(q=.75)-x.quantile(q=.25)) )\n",
    "Daily['Upper'] = StateYearMonth['CustomerCount'].transform( lambda x: x.quantile(q=.75) + (1.5*x.quantile(q=.75)-x.quantile(q=.25)) )\n",
    "Daily['Outlier'] = (Daily['CustomerCount'] < Daily['Lower']) | (Daily['CustomerCount'] > Daily['Upper'])\n",
    "\n",
    "Daily = Daily[Daily['Outlier'] == False]"
   ]
  },
  {
   "cell_type": "code",
   "execution_count": 48,
   "metadata": {
    "collapsed": false
   },
   "outputs": [
    {
     "data": {
      "text/html": [
       "<div>\n",
       "<table border=\"1\" class=\"dataframe\">\n",
       "  <thead>\n",
       "    <tr style=\"text-align: right;\">\n",
       "      <th></th>\n",
       "      <th></th>\n",
       "      <th>CustomerCount</th>\n",
       "      <th>Lower</th>\n",
       "      <th>Upper</th>\n",
       "      <th>Outlier</th>\n",
       "    </tr>\n",
       "    <tr>\n",
       "      <th>State</th>\n",
       "      <th>StatusDate</th>\n",
       "      <th></th>\n",
       "      <th></th>\n",
       "      <th></th>\n",
       "      <th></th>\n",
       "    </tr>\n",
       "  </thead>\n",
       "  <tbody>\n",
       "    <tr>\n",
       "      <th rowspan=\"20\" valign=\"top\">FL</th>\n",
       "      <th>2009-02-02</th>\n",
       "      <td>849</td>\n",
       "      <td>278.250</td>\n",
       "      <td>1289.750</td>\n",
       "      <td>False</td>\n",
       "    </tr>\n",
       "    <tr>\n",
       "      <th>2009-02-16</th>\n",
       "      <td>719</td>\n",
       "      <td>278.250</td>\n",
       "      <td>1289.750</td>\n",
       "      <td>False</td>\n",
       "    </tr>\n",
       "    <tr>\n",
       "      <th>2009-03-16</th>\n",
       "      <td>426</td>\n",
       "      <td>183.000</td>\n",
       "      <td>717.000</td>\n",
       "      <td>False</td>\n",
       "    </tr>\n",
       "    <tr>\n",
       "      <th>2009-03-30</th>\n",
       "      <td>474</td>\n",
       "      <td>183.000</td>\n",
       "      <td>717.000</td>\n",
       "      <td>False</td>\n",
       "    </tr>\n",
       "    <tr>\n",
       "      <th>2009-04-13</th>\n",
       "      <td>414</td>\n",
       "      <td>-66.500</td>\n",
       "      <td>1127.000</td>\n",
       "      <td>False</td>\n",
       "    </tr>\n",
       "    <tr>\n",
       "      <th>2009-04-20</th>\n",
       "      <td>457</td>\n",
       "      <td>-66.500</td>\n",
       "      <td>1127.000</td>\n",
       "      <td>False</td>\n",
       "    </tr>\n",
       "    <tr>\n",
       "      <th>2009-04-27</th>\n",
       "      <td>793</td>\n",
       "      <td>-66.500</td>\n",
       "      <td>1127.000</td>\n",
       "      <td>False</td>\n",
       "    </tr>\n",
       "    <tr>\n",
       "      <th>2009-06-01</th>\n",
       "      <td>913</td>\n",
       "      <td>-214.500</td>\n",
       "      <td>1519.500</td>\n",
       "      <td>False</td>\n",
       "    </tr>\n",
       "    <tr>\n",
       "      <th>2009-06-08</th>\n",
       "      <td>701</td>\n",
       "      <td>-214.500</td>\n",
       "      <td>1519.500</td>\n",
       "      <td>False</td>\n",
       "    </tr>\n",
       "    <tr>\n",
       "      <th>2009-06-15</th>\n",
       "      <td>295</td>\n",
       "      <td>-214.500</td>\n",
       "      <td>1519.500</td>\n",
       "      <td>False</td>\n",
       "    </tr>\n",
       "    <tr>\n",
       "      <th>2009-07-13</th>\n",
       "      <td>141</td>\n",
       "      <td>70.500</td>\n",
       "      <td>211.500</td>\n",
       "      <td>False</td>\n",
       "    </tr>\n",
       "    <tr>\n",
       "      <th>2009-08-24</th>\n",
       "      <td>444</td>\n",
       "      <td>222.000</td>\n",
       "      <td>666.000</td>\n",
       "      <td>False</td>\n",
       "    </tr>\n",
       "    <tr>\n",
       "      <th>2009-09-28</th>\n",
       "      <td>887</td>\n",
       "      <td>443.500</td>\n",
       "      <td>1330.500</td>\n",
       "      <td>False</td>\n",
       "    </tr>\n",
       "    <tr>\n",
       "      <th>2009-11-30</th>\n",
       "      <td>676</td>\n",
       "      <td>338.000</td>\n",
       "      <td>1014.000</td>\n",
       "      <td>False</td>\n",
       "    </tr>\n",
       "    <tr>\n",
       "      <th>2010-01-11</th>\n",
       "      <td>1418</td>\n",
       "      <td>709.000</td>\n",
       "      <td>2127.000</td>\n",
       "      <td>False</td>\n",
       "    </tr>\n",
       "    <tr>\n",
       "      <th>2010-02-08</th>\n",
       "      <td>613</td>\n",
       "      <td>306.500</td>\n",
       "      <td>919.500</td>\n",
       "      <td>False</td>\n",
       "    </tr>\n",
       "    <tr>\n",
       "      <th>2010-03-01</th>\n",
       "      <td>970</td>\n",
       "      <td>-498.250</td>\n",
       "      <td>1564.250</td>\n",
       "      <td>False</td>\n",
       "    </tr>\n",
       "    <tr>\n",
       "      <th>2010-03-22</th>\n",
       "      <td>96</td>\n",
       "      <td>-498.250</td>\n",
       "      <td>1564.250</td>\n",
       "      <td>False</td>\n",
       "    </tr>\n",
       "    <tr>\n",
       "      <th>2010-04-05</th>\n",
       "      <td>174</td>\n",
       "      <td>-414.875</td>\n",
       "      <td>1565.875</td>\n",
       "      <td>False</td>\n",
       "    </tr>\n",
       "    <tr>\n",
       "      <th>2010-04-12</th>\n",
       "      <td>977</td>\n",
       "      <td>-414.875</td>\n",
       "      <td>1565.875</td>\n",
       "      <td>False</td>\n",
       "    </tr>\n",
       "  </tbody>\n",
       "</table>\n",
       "</div>"
      ],
      "text/plain": [
       "                  CustomerCount    Lower     Upper Outlier\n",
       "State StatusDate                                          \n",
       "FL    2009-02-02            849  278.250  1289.750   False\n",
       "      2009-02-16            719  278.250  1289.750   False\n",
       "      2009-03-16            426  183.000   717.000   False\n",
       "      2009-03-30            474  183.000   717.000   False\n",
       "      2009-04-13            414  -66.500  1127.000   False\n",
       "      2009-04-20            457  -66.500  1127.000   False\n",
       "      2009-04-27            793  -66.500  1127.000   False\n",
       "      2009-06-01            913 -214.500  1519.500   False\n",
       "      2009-06-08            701 -214.500  1519.500   False\n",
       "      2009-06-15            295 -214.500  1519.500   False\n",
       "      2009-07-13            141   70.500   211.500   False\n",
       "      2009-08-24            444  222.000   666.000   False\n",
       "      2009-09-28            887  443.500  1330.500   False\n",
       "      2009-11-30            676  338.000  1014.000   False\n",
       "      2010-01-11           1418  709.000  2127.000   False\n",
       "      2010-02-08            613  306.500   919.500   False\n",
       "      2010-03-01            970 -498.250  1564.250   False\n",
       "      2010-03-22             96 -498.250  1564.250   False\n",
       "      2010-04-05            174 -414.875  1565.875   False\n",
       "      2010-04-12            977 -414.875  1565.875   False"
      ]
     },
     "execution_count": 48,
     "metadata": {},
     "output_type": "execute_result"
    }
   ],
   "source": [
    "Daily.head(20)"
   ]
  },
  {
   "cell_type": "code",
   "execution_count": 51,
   "metadata": {
    "collapsed": false
   },
   "outputs": [
    {
     "data": {
      "text/html": [
       "<div>\n",
       "<table border=\"1\" class=\"dataframe\">\n",
       "  <thead>\n",
       "    <tr style=\"text-align: right;\">\n",
       "      <th></th>\n",
       "      <th>CustomerCount</th>\n",
       "      <th>Max</th>\n",
       "    </tr>\n",
       "    <tr>\n",
       "      <th>StatusDate</th>\n",
       "      <th></th>\n",
       "      <th></th>\n",
       "    </tr>\n",
       "  </thead>\n",
       "  <tbody>\n",
       "    <tr>\n",
       "      <th>2009-01-05</th>\n",
       "      <td>973</td>\n",
       "      <td>973</td>\n",
       "    </tr>\n",
       "    <tr>\n",
       "      <th>2009-01-12</th>\n",
       "      <td>502</td>\n",
       "      <td>973</td>\n",
       "    </tr>\n",
       "    <tr>\n",
       "      <th>2009-01-26</th>\n",
       "      <td>320</td>\n",
       "      <td>973</td>\n",
       "    </tr>\n",
       "    <tr>\n",
       "      <th>2009-02-02</th>\n",
       "      <td>849</td>\n",
       "      <td>1644</td>\n",
       "    </tr>\n",
       "    <tr>\n",
       "      <th>2009-02-09</th>\n",
       "      <td>619</td>\n",
       "      <td>1644</td>\n",
       "    </tr>\n",
       "  </tbody>\n",
       "</table>\n",
       "</div>"
      ],
      "text/plain": [
       "            CustomerCount   Max\n",
       "StatusDate                     \n",
       "2009-01-05            973   973\n",
       "2009-01-12            502   973\n",
       "2009-01-26            320   973\n",
       "2009-02-02            849  1644\n",
       "2009-02-09            619  1644"
      ]
     },
     "execution_count": 51,
     "metadata": {},
     "output_type": "execute_result"
    }
   ],
   "source": [
    "ALL = pd.DataFrame(Daily['CustomerCount'].groupby(Daily.index.get_level_values(1)).sum())\n",
    "ALL.columns = ['CustomerCount']\n",
    "\n",
    "YearMonth = ALL.groupby([lambda x: x.year, lambda x: x.month])\n",
    "\n",
    "ALL['Max'] = YearMonth['CustomerCount'].transform(lambda x: x.max())\n",
    "ALL.head()"
   ]
  },
  {
   "cell_type": "code",
   "execution_count": 52,
   "metadata": {
    "collapsed": false
   },
   "outputs": [
    {
     "data": {
      "text/html": [
       "<div>\n",
       "<table border=\"1\" class=\"dataframe\">\n",
       "  <thead>\n",
       "    <tr style=\"text-align: right;\">\n",
       "      <th></th>\n",
       "      <th>BHAG</th>\n",
       "    </tr>\n",
       "  </thead>\n",
       "  <tbody>\n",
       "    <tr>\n",
       "      <th>2011-12-31</th>\n",
       "      <td>1000</td>\n",
       "    </tr>\n",
       "    <tr>\n",
       "      <th>2012-12-31</th>\n",
       "      <td>2000</td>\n",
       "    </tr>\n",
       "    <tr>\n",
       "      <th>2013-12-31</th>\n",
       "      <td>3000</td>\n",
       "    </tr>\n",
       "  </tbody>\n",
       "</table>\n",
       "</div>"
      ],
      "text/plain": [
       "            BHAG\n",
       "2011-12-31  1000\n",
       "2012-12-31  2000\n",
       "2013-12-31  3000"
      ]
     },
     "execution_count": 52,
     "metadata": {},
     "output_type": "execute_result"
    }
   ],
   "source": [
    "data = [1000, 2000, 3000]\n",
    "idx = pd.date_range(start='12/31/2011', end='12/31/2013', freq='A')\n",
    "BHAG = pd.DataFrame(data, index=idx, columns=['BHAG'])\n",
    "BHAG"
   ]
  },
  {
   "cell_type": "code",
   "execution_count": 53,
   "metadata": {
    "collapsed": false
   },
   "outputs": [
    {
     "name": "stderr",
     "output_type": "stream",
     "text": [
      "/Users/meredithnachman/anaconda/lib/python2.7/site-packages/IPython/kernel/__main__.py:2: FutureWarning: sort(....) is deprecated, use sort_index(.....)\n",
      "  from IPython.kernel.zmq import kernelapp as app\n"
     ]
    },
    {
     "data": {
      "text/html": [
       "<div>\n",
       "<table border=\"1\" class=\"dataframe\">\n",
       "  <thead>\n",
       "    <tr style=\"text-align: right;\">\n",
       "      <th></th>\n",
       "      <th>BHAG</th>\n",
       "      <th>CustomerCount</th>\n",
       "      <th>Max</th>\n",
       "    </tr>\n",
       "  </thead>\n",
       "  <tbody>\n",
       "    <tr>\n",
       "      <th>2012-12-17</th>\n",
       "      <td>NaN</td>\n",
       "      <td>371</td>\n",
       "      <td>986</td>\n",
       "    </tr>\n",
       "    <tr>\n",
       "      <th>2012-12-24</th>\n",
       "      <td>NaN</td>\n",
       "      <td>986</td>\n",
       "      <td>986</td>\n",
       "    </tr>\n",
       "    <tr>\n",
       "      <th>2012-12-31</th>\n",
       "      <td>NaN</td>\n",
       "      <td>916</td>\n",
       "      <td>986</td>\n",
       "    </tr>\n",
       "    <tr>\n",
       "      <th>2012-12-31</th>\n",
       "      <td>2000</td>\n",
       "      <td>NaN</td>\n",
       "      <td>NaN</td>\n",
       "    </tr>\n",
       "    <tr>\n",
       "      <th>2013-12-31</th>\n",
       "      <td>3000</td>\n",
       "      <td>NaN</td>\n",
       "      <td>NaN</td>\n",
       "    </tr>\n",
       "  </tbody>\n",
       "</table>\n",
       "</div>"
      ],
      "text/plain": [
       "            BHAG  CustomerCount  Max\n",
       "2012-12-17   NaN            371  986\n",
       "2012-12-24   NaN            986  986\n",
       "2012-12-31   NaN            916  986\n",
       "2012-12-31  2000            NaN  NaN\n",
       "2013-12-31  3000            NaN  NaN"
      ]
     },
     "execution_count": 53,
     "metadata": {},
     "output_type": "execute_result"
    }
   ],
   "source": [
    "combined = pd.concat([ALL, BHAG], axis=0)\n",
    "combined = combined.sort(axis=0)\n",
    "combined.tail()"
   ]
  },
  {
   "cell_type": "code",
   "execution_count": null,
   "metadata": {
    "collapsed": true
   },
   "outputs": [],
   "source": []
  },
  {
   "cell_type": "code",
   "execution_count": null,
   "metadata": {
    "collapsed": true
   },
   "outputs": [],
   "source": []
  },
  {
   "cell_type": "code",
   "execution_count": null,
   "metadata": {
    "collapsed": true
   },
   "outputs": [],
   "source": []
  },
  {
   "cell_type": "code",
   "execution_count": null,
   "metadata": {
    "collapsed": true
   },
   "outputs": [],
   "source": []
  }
 ],
 "metadata": {
  "kernelspec": {
   "display_name": "Python 2",
   "language": "python",
   "name": "python2"
  },
  "language_info": {
   "codemirror_mode": {
    "name": "ipython",
    "version": 2
   },
   "file_extension": ".py",
   "mimetype": "text/x-python",
   "name": "python",
   "nbconvert_exporter": "python",
   "pygments_lexer": "ipython2",
   "version": "2.7.10"
  }
 },
 "nbformat": 4,
 "nbformat_minor": 0
}
