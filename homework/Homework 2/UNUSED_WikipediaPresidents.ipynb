{
 "cells": [
  {
   "cell_type": "code",
   "execution_count": 17,
   "metadata": {
    "collapsed": true
   },
   "outputs": [],
   "source": [
    "import wikipedia as wiki\n",
    "import pandas as pd"
   ]
  },
  {
   "cell_type": "code",
   "execution_count": 18,
   "metadata": {
    "collapsed": false
   },
   "outputs": [
    {
     "name": "stdout",
     "output_type": "stream",
     "text": [
      "<wikipedia.util.cache object at 0x1071b6ed0>\n"
     ]
    }
   ],
   "source": [
    "print wiki.summary"
   ]
  },
  {
   "cell_type": "code",
   "execution_count": 19,
   "metadata": {
    "collapsed": false
   },
   "outputs": [],
   "source": [
    "Barack = wiki.search(\"Barack\")\n",
    "GeorgeW = wiki.search(\"George\")\n",
    "Bill = wiki.search(\"Bill\")\n",
    "GeorgeHW = wiki.search(\"George\")\n",
    "Ronald = wiki.search(\"Ronald\")\n",
    "Jimmy = wiki.search(\"Jimmy\")\n",
    "Gerald = wiki.search(\"Gerald\")\n",
    "Richard = wiki.search(\"Richard\")\n",
    "Lyndon = wiki.search(\"Lyndon\")\n",
    "John = wiki.search(\"John\")"
   ]
  },
  {
   "cell_type": "code",
   "execution_count": 20,
   "metadata": {
    "collapsed": false
   },
   "outputs": [
    {
     "name": "stdout",
     "output_type": "stream",
     "text": [
      "[u'Barack Obama', u'Inauguration of Barack Obama', u'Barack (disambiguation)', u'First inauguration of Barack Obama', u'Nationwide opinion polling for the United States presidential election, 2012', u'Timeline of the presidency of Barack Obama', u'Statewide opinion polling for the United States presidential election, 2008', u'Pre-2012 statewide opinion polling for the United States presidential election, 2012', u'Political positions of Barack Obama', u'Barack and Michelle']\n"
     ]
    }
   ],
   "source": [
    "print Barack"
   ]
  },
  {
   "cell_type": "code",
   "execution_count": null,
   "metadata": {
    "collapsed": true
   },
   "outputs": [],
   "source": []
  }
 ],
 "metadata": {
  "kernelspec": {
   "display_name": "Python 2",
   "language": "python",
   "name": "python2"
  },
  "language_info": {
   "codemirror_mode": {
    "name": "ipython",
    "version": 2
   },
   "file_extension": ".py",
   "mimetype": "text/x-python",
   "name": "python",
   "nbconvert_exporter": "python",
   "pygments_lexer": "ipython2",
   "version": "2.7.10"
  }
 },
 "nbformat": 4,
 "nbformat_minor": 0
}
