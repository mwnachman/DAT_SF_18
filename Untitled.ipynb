{
 "cells": [
  {
   "cell_type": "code",
   "execution_count": 1,
   "metadata": {
    "collapsed": true
   },
   "outputs": [],
   "source": [
    "import numpy as np\n",
    "\n"
   ]
  },
  {
   "cell_type": "code",
   "execution_count": 51,
   "metadata": {
    "collapsed": true
   },
   "outputs": [],
   "source": [
    "A = np.asarray([\n",
    "    [10, 5, 20, 60],\n",
    "    [3, 1, 0, 11],\n",
    "    [8, 2, 2, 30],\n",
    "    [0, 4, 5, 13]\n",
    "], dtype=np.float32)\n",
    "\n",
    "A[[3,0]] = A[[0,3]]\n",
    "A[[3,1]] = A[[1,3]]\n",
    "\n"
   ]
  },
  {
   "cell_type": "code",
   "execution_count": 52,
   "metadata": {
    "collapsed": false
   },
   "outputs": [
    {
     "name": "stdout",
     "output_type": "stream",
     "text": [
      "[[  0.   4.   5.  13.]\n",
      " [ 10.   5.  20.  60.]\n",
      " [  8.   2.   2.  30.]\n",
      " [  3.   1.   0.  11.]]\n"
     ]
    }
   ],
   "source": [
    "print(A)"
   ]
  },
  {
   "cell_type": "code",
   "execution_count": 53,
   "metadata": {
    "collapsed": true
   },
   "outputs": [],
   "source": [
    "A[2] -= 2 * A[3]"
   ]
  },
  {
   "cell_type": "code",
   "execution_count": 54,
   "metadata": {
    "collapsed": false
   },
   "outputs": [
    {
     "name": "stdout",
     "output_type": "stream",
     "text": [
      "[[  0.   4.   5.  13.]\n",
      " [ 10.   5.  20.  60.]\n",
      " [  2.   0.   2.   8.]\n",
      " [  3.   1.   0.  11.]]\n"
     ]
    }
   ],
   "source": [
    "print(A)"
   ]
  },
  {
   "cell_type": "code",
   "execution_count": 55,
   "metadata": {
    "collapsed": false
   },
   "outputs": [
    {
     "name": "stdout",
     "output_type": "stream",
     "text": [
      "[[  0.   4.   5.  13.]\n",
      " [ 10. -11.   0.   8.]\n",
      " [  2.   0.   2.   8.]\n",
      " [  3.   1.   0.  11.]]\n"
     ]
    }
   ],
   "source": [
    "A[1] -= 4 * A[0]\n",
    "print(A)"
   ]
  },
  {
   "cell_type": "code",
   "execution_count": 56,
   "metadata": {
    "collapsed": false
   },
   "outputs": [
    {
     "name": "stdout",
     "output_type": "stream",
     "text": [
      "[[   0.    4.    5.   13.]\n",
      " [  43.    0.    0.  129.]\n",
      " [   2.    0.    2.    8.]\n",
      " [   3.    1.    0.   11.]]\n"
     ]
    }
   ],
   "source": [
    "A[1] += 11 * A[3]\n",
    "print(A)"
   ]
  },
  {
   "cell_type": "code",
   "execution_count": 57,
   "metadata": {
    "collapsed": false
   },
   "outputs": [
    {
     "name": "stdout",
     "output_type": "stream",
     "text": [
      "[[   0.    4.    5.   13.]\n",
      " [  43.    0.    0.  129.]\n",
      " [   2.    0.    2.    8.]\n",
      " [ 129.   43.    0.  473.]]\n"
     ]
    }
   ],
   "source": [
    "A[3] = 43 * A[3]\n",
    "print(A)"
   ]
  },
  {
   "cell_type": "code",
   "execution_count": 58,
   "metadata": {
    "collapsed": false
   },
   "outputs": [
    {
     "name": "stdout",
     "output_type": "stream",
     "text": [
      "[[   0.    4.    5.   13.]\n",
      " [  43.    0.    0.  129.]\n",
      " [   2.    0.    2.    8.]\n",
      " [   0.   43.    0.   86.]]\n"
     ]
    }
   ],
   "source": [
    "A[3] -= 3 * A[1]\n",
    "print(A)"
   ]
  },
  {
   "cell_type": "code",
   "execution_count": 59,
   "metadata": {
    "collapsed": false
   },
   "outputs": [
    {
     "name": "stdout",
     "output_type": "stream",
     "text": [
      "[[   0.    4.    5.   13.]\n",
      " [  43.    0.    0.  129.]\n",
      " [   2.    0.    2.    8.]\n",
      " [   0.    1.    0.    2.]]\n"
     ]
    }
   ],
   "source": [
    "A[3] /= 43\n",
    "print(A)"
   ]
  },
  {
   "cell_type": "code",
   "execution_count": 60,
   "metadata": {
    "collapsed": false
   },
   "outputs": [
    {
     "name": "stdout",
     "output_type": "stream",
     "text": [
      "[[  0.   4.   5.  13.]\n",
      " [  1.   0.   0.   3.]\n",
      " [  2.   0.   2.   8.]\n",
      " [  0.   1.   0.   2.]]\n"
     ]
    }
   ],
   "source": [
    "A[1] /= 43\n",
    "print(A)"
   ]
  },
  {
   "cell_type": "code",
   "execution_count": 61,
   "metadata": {
    "collapsed": false
   },
   "outputs": [
    {
     "name": "stdout",
     "output_type": "stream",
     "text": [
      "[[  0.   4.   5.  13.]\n",
      " [  1.   0.   0.   3.]\n",
      " [  0.   0.   2.   2.]\n",
      " [  0.   1.   0.   2.]]\n"
     ]
    }
   ],
   "source": [
    "A[2] -= 2 * A[1]\n",
    "print(A)"
   ]
  },
  {
   "cell_type": "code",
   "execution_count": 62,
   "metadata": {
    "collapsed": false
   },
   "outputs": [
    {
     "name": "stdout",
     "output_type": "stream",
     "text": [
      "[[  0.   4.   5.  13.]\n",
      " [  1.   0.   0.   3.]\n",
      " [  0.   0.   1.   1.]\n",
      " [  0.   1.   0.   2.]]\n"
     ]
    }
   ],
   "source": [
    "A[2] /= 2\n",
    "print(A)"
   ]
  },
  {
   "cell_type": "code",
   "execution_count": 64,
   "metadata": {
    "collapsed": false
   },
   "outputs": [
    {
     "name": "stdout",
     "output_type": "stream",
     "text": [
      "[[ 0.  4.  0.  8.]\n",
      " [ 1.  0.  0.  3.]\n",
      " [ 0.  0.  1.  1.]\n",
      " [ 0.  1.  0.  2.]]\n"
     ]
    }
   ],
   "source": [
    "A[0] -= 5 * A[2]\n",
    "print(A)"
   ]
  },
  {
   "cell_type": "code",
   "execution_count": 65,
   "metadata": {
    "collapsed": false
   },
   "outputs": [
    {
     "name": "stdout",
     "output_type": "stream",
     "text": [
      "[[ 0.  1.  0.  2.]\n",
      " [ 1.  0.  0.  3.]\n",
      " [ 0.  0.  1.  1.]\n",
      " [ 0.  1.  0.  2.]]\n"
     ]
    }
   ],
   "source": [
    "A[0] /= 4\n",
    "print(A)"
   ]
  },
  {
   "cell_type": "code",
   "execution_count": null,
   "metadata": {
    "collapsed": true
   },
   "outputs": [],
   "source": []
  },
  {
   "cell_type": "code",
   "execution_count": null,
   "metadata": {
    "collapsed": true
   },
   "outputs": [],
   "source": []
  },
  {
   "cell_type": "code",
   "execution_count": 71,
   "metadata": {
    "collapsed": true
   },
   "outputs": [],
   "source": [
    "B = np.asarray([\n",
    "    [5, -1, 3, 14],\n",
    "    [0, 1, 2, 8],\n",
    "    [0, -2, 5, 1],\n",
    "    [0, 0, 6, 6]\n",
    "], dtype=np.float32)"
   ]
  },
  {
   "cell_type": "code",
   "execution_count": 72,
   "metadata": {
    "collapsed": false
   },
   "outputs": [
    {
     "name": "stdout",
     "output_type": "stream",
     "text": [
      "[[  5.   0.   5.  22.]\n",
      " [  0.   1.   2.   8.]\n",
      " [  0.  -2.   5.   1.]\n",
      " [  0.   0.   6.   6.]]\n"
     ]
    }
   ],
   "source": [
    "B[0] += B[1]\n",
    "print(B)"
   ]
  },
  {
   "cell_type": "code",
   "execution_count": 74,
   "metadata": {
    "collapsed": false
   },
   "outputs": [
    {
     "name": "stdout",
     "output_type": "stream",
     "text": [
      "[[  5.   0.   5.  22.]\n",
      " [  0.   3.   6.  24.]\n",
      " [  0.  -2.   5.   1.]\n",
      " [  0.   0.   6.   6.]]\n"
     ]
    }
   ],
   "source": [
    "B[1] = 3 * B[1]\n",
    "print(B)"
   ]
  },
  {
   "cell_type": "code",
   "execution_count": 75,
   "metadata": {
    "collapsed": false
   },
   "outputs": [
    {
     "name": "stdout",
     "output_type": "stream",
     "text": [
      "[[  5.   0.   5.  22.]\n",
      " [  0.   3.   0.  18.]\n",
      " [  0.  -2.   5.   1.]\n",
      " [  0.   0.   6.   6.]]\n"
     ]
    }
   ],
   "source": [
    "B[1] -= B[3]\n",
    "print(B)"
   ]
  },
  {
   "cell_type": "code",
   "execution_count": 76,
   "metadata": {
    "collapsed": false
   },
   "outputs": [
    {
     "name": "stdout",
     "output_type": "stream",
     "text": [
      "[[  30.    0.    0.  102.]\n",
      " [   0.    3.    0.   18.]\n",
      " [   0.   -2.    5.    1.]\n",
      " [   0.    0.    6.    6.]]\n"
     ]
    }
   ],
   "source": [
    "B[0] = 6 * B[0]\n",
    "B[0] -= 5 * B[3]\n",
    "print(B)"
   ]
  },
  {
   "cell_type": "code",
   "execution_count": 77,
   "metadata": {
    "collapsed": false
   },
   "outputs": [
    {
     "name": "stdout",
     "output_type": "stream",
     "text": [
      "[[  30.    0.    0.  102.]\n",
      " [   0.    3.    0.   18.]\n",
      " [   0.  -12.    0.  -24.]\n",
      " [   0.    0.    6.    6.]]\n"
     ]
    }
   ],
   "source": [
    "B[2] = 6 * B[2]\n",
    "B[2] -= 5 * B[3]\n",
    "print(B)"
   ]
  },
  {
   "cell_type": "code",
   "execution_count": 78,
   "metadata": {
    "collapsed": false
   },
   "outputs": [
    {
     "name": "stdout",
     "output_type": "stream",
     "text": [
      "[[ 1.         0.         0.         3.4000001]\n",
      " [ 0.         1.         0.         6.       ]\n",
      " [-0.         1.        -0.         2.       ]\n",
      " [ 0.         0.         1.         1.       ]]\n"
     ]
    }
   ],
   "source": [
    "B[0] /= 30\n",
    "B[1] /= 3\n",
    "B[2] /= -12\n",
    "B[3] /= 6\n",
    "print(B)"
   ]
  },
  {
   "cell_type": "code",
   "execution_count": null,
   "metadata": {
    "collapsed": true
   },
   "outputs": [],
   "source": []
  },
  {
   "cell_type": "code",
   "execution_count": null,
   "metadata": {
    "collapsed": true
   },
   "outputs": [],
   "source": []
  },
  {
   "cell_type": "code",
   "execution_count": 90,
   "metadata": {
    "collapsed": true
   },
   "outputs": [],
   "source": [
    "C = np.asarray([\n",
    "        [2, 4, 8, 20],\n",
    "        [4, 8, 16, 40],\n",
    "        [20, 5, 5, 10]\n",
    "], dtype=np.float32)\n",
    "\n",
    "D = np.asarray([\n",
    "        [1, 1, 1, 4],\n",
    "        [3, -2, 5, 8],\n",
    "        [8, -4, 5, 10]\n",
    "        ], dtype=np.float32)"
   ]
  },
  {
   "cell_type": "code",
   "execution_count": 91,
   "metadata": {
    "collapsed": false
   },
   "outputs": [
    {
     "name": "stdout",
     "output_type": "stream",
     "text": [
      "[[  2.   4.   8.  20.]\n",
      " [  0.   0.   0.   0.]\n",
      " [ 20.   5.   5.  10.]]\n"
     ]
    }
   ],
   "source": [
    "C[1] -= 2 * C[0]\n",
    "print(C)"
   ]
  },
  {
   "cell_type": "code",
   "execution_count": 92,
   "metadata": {
    "collapsed": false
   },
   "outputs": [
    {
     "name": "stdout",
     "output_type": "stream",
     "text": [
      "[[   2.    4.    8.   20.]\n",
      " [   0.    0.    0.    0.]\n",
      " [   0.  -35.  -75. -190.]]\n"
     ]
    }
   ],
   "source": [
    "C[2] -= 10 * C[0]\n",
    "print(C)"
   ]
  },
  {
   "cell_type": "code",
   "execution_count": 93,
   "metadata": {
    "collapsed": false
   },
   "outputs": [
    {
     "name": "stdout",
     "output_type": "stream",
     "text": [
      "[[  2.   4.   8.  20.]\n",
      " [ -0.   7.  15.  38.]\n",
      " [  0.   0.   0.   0.]]\n"
     ]
    }
   ],
   "source": [
    "C[2] /= -5\n",
    "C[[1,2]] = C[[2,1]]\n",
    "print(C)"
   ]
  },
  {
   "cell_type": "code",
   "execution_count": 94,
   "metadata": {
    "collapsed": false
   },
   "outputs": [
    {
     "name": "stdout",
     "output_type": "stream",
     "text": [
      "[[ 14.   0.  -4. -12.]\n",
      " [ -0.   7.  15.  38.]\n",
      " [  0.   0.   0.   0.]]\n"
     ]
    }
   ],
   "source": [
    "C[0] = 7 * C[0]\n",
    "C[0] -= 4 * C[1]\n",
    "print(C)"
   ]
  },
  {
   "cell_type": "code",
   "execution_count": 95,
   "metadata": {
    "collapsed": false
   },
   "outputs": [
    {
     "name": "stdout",
     "output_type": "stream",
     "text": [
      "[[ -7.  -0.   2.   6.]\n",
      " [ -0.   7.  15.  38.]\n",
      " [  0.   0.   0.   0.]]\n"
     ]
    }
   ],
   "source": [
    "C[0] /= -2\n",
    "print(C)"
   ]
  },
  {
   "cell_type": "code",
   "execution_count": null,
   "metadata": {
    "collapsed": true
   },
   "outputs": [],
   "source": []
  },
  {
   "cell_type": "code",
   "execution_count": 96,
   "metadata": {
    "collapsed": false
   },
   "outputs": [
    {
     "name": "stdout",
     "output_type": "stream",
     "text": [
      "[[  1.   1.   1.   4.]\n",
      " [  3.  -2.   5.   8.]\n",
      " [  8.  -4.   5.  10.]]\n"
     ]
    }
   ],
   "source": [
    "print(D)"
   ]
  },
  {
   "cell_type": "code",
   "execution_count": 97,
   "metadata": {
    "collapsed": false
   },
   "outputs": [
    {
     "name": "stdout",
     "output_type": "stream",
     "text": [
      "[[ -3.   9.   0.  10.]\n",
      " [ -5.   2.   0.  -2.]\n",
      " [  8.  -4.   5.  10.]]\n"
     ]
    }
   ],
   "source": [
    "D[0] = 5 * D[0]\n",
    "D[0] -= D[2]\n",
    "D[1] -= D[2]\n",
    "print(D)"
   ]
  },
  {
   "cell_type": "code",
   "execution_count": 98,
   "metadata": {
    "collapsed": false
   },
   "outputs": [
    {
     "name": "stdout",
     "output_type": "stream",
     "text": [
      "[[ -3.   9.   0.  10.]\n",
      " [ -5.   2.   0.  -2.]\n",
      " [ -2.   0.   5.   6.]]\n"
     ]
    }
   ],
   "source": [
    "D[2] += 2 * D[1]\n",
    "print(D)"
   ]
  },
  {
   "cell_type": "code",
   "execution_count": 99,
   "metadata": {
    "collapsed": false
   },
   "outputs": [
    {
     "name": "stdout",
     "output_type": "stream",
     "text": [
      "[[ 39.   0.   0.  38.]\n",
      " [ -5.   2.   0.  -2.]\n",
      " [ -2.   0.   5.   6.]]\n"
     ]
    }
   ],
   "source": [
    "D[0] = 2 * D[0]\n",
    "D[0] -= 9 * D[1]\n",
    "print(D)"
   ]
  },
  {
   "cell_type": "code",
   "execution_count": 100,
   "metadata": {
    "collapsed": false
   },
   "outputs": [
    {
     "name": "stdout",
     "output_type": "stream",
     "text": [
      "[[  39.    0.    0.   38.]\n",
      " [  -5.    2.    0.   -2.]\n",
      " [   0.    0.  195.  310.]]\n"
     ]
    }
   ],
   "source": [
    "D[2] = 39 * D[2]\n",
    "D[2] += 2 * D[0]\n",
    "print(D)"
   ]
  },
  {
   "cell_type": "code",
   "execution_count": 101,
   "metadata": {
    "collapsed": false
   },
   "outputs": [
    {
     "name": "stdout",
     "output_type": "stream",
     "text": [
      "[[  39.    0.    0.   38.]\n",
      " [   0.   78.    0.  112.]\n",
      " [   0.    0.  195.  310.]]\n"
     ]
    }
   ],
   "source": [
    "D[1] = 39 * D[1]\n",
    "D[1] += 5 * D[0]\n",
    "print(D)"
   ]
  },
  {
   "cell_type": "code",
   "execution_count": 102,
   "metadata": {
    "collapsed": false
   },
   "outputs": [
    {
     "name": "stdout",
     "output_type": "stream",
     "text": [
      "[[ 1.          0.          0.          0.97435898]\n",
      " [ 0.          1.          0.          1.43589747]\n",
      " [ 0.          0.          1.          1.58974361]]\n"
     ]
    }
   ],
   "source": [
    "D[0] /= 39\n",
    "D[1] /= 78\n",
    "D[2] /= 195\n",
    "print(D)"
   ]
  },
  {
   "cell_type": "code",
   "execution_count": null,
   "metadata": {
    "collapsed": true
   },
   "outputs": [],
   "source": []
  }
 ],
 "metadata": {
  "kernelspec": {
   "display_name": "Python 2",
   "language": "python",
   "name": "python2"
  },
  "language_info": {
   "codemirror_mode": {
    "name": "ipython",
    "version": 2
   },
   "file_extension": ".py",
   "mimetype": "text/x-python",
   "name": "python",
   "nbconvert_exporter": "python",
   "pygments_lexer": "ipython2",
   "version": "2.7.10"
  }
 },
 "nbformat": 4,
 "nbformat_minor": 0
}
